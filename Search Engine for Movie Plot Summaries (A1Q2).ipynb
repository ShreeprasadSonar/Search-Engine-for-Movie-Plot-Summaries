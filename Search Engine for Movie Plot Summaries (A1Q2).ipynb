{
 "cells": [
  {
   "cell_type": "markdown",
   "metadata": {
    "application/vnd.databricks.v1+cell": {
     "cellMetadata": {},
     "inputWidgets": {},
     "nuid": "28ff97f2-700b-4ef2-afe6-6e588f334e18",
     "showTitle": false,
     "title": ""
    }
   },
   "source": [
    "## References\n",
    "TF-IDF wiki: https://en.wikipedia.org/wiki/Tf%E2%80%93idf\n",
    "\n",
    "NLTK: https://www.nltk.org/\n",
    "\n",
    "Cosine Similarity with TF-IDF: https://janav.wordpress.com/2013/10/27/tf-idf-and-cosine-similarity/"
   ]
  },
  {
   "cell_type": "markdown",
   "metadata": {
    "application/vnd.databricks.v1+cell": {
     "cellMetadata": {
      "byteLimit": 2048000,
      "rowLimit": 10000
     },
     "inputWidgets": {},
     "nuid": "e769fcc7-49a5-4900-8387-7ada8ab54618",
     "showTitle": false,
     "title": ""
    }
   },
   "source": [
    "## Imports"
   ]
  },
  {
   "cell_type": "code",
   "execution_count": 0,
   "metadata": {
    "application/vnd.databricks.v1+cell": {
     "cellMetadata": {
      "byteLimit": 2048000,
      "rowLimit": 10000
     },
     "inputWidgets": {},
     "nuid": "764a7e32-0e00-4af4-85f7-24897f5516a9",
     "showTitle": false,
     "title": ""
    }
   },
   "outputs": [
    {
     "output_type": "stream",
     "name": "stdout",
     "output_type": "stream",
     "text": [
      "Collecting nltk\r\n  Downloading nltk-3.8.1-py3-none-any.whl (1.5 MB)\r\n\u001B[?25l\r\u001B[K     |▏                               | 10 kB 15.0 MB/s eta 0:00:01\r\u001B[K     |▍                               | 20 kB 2.4 MB/s eta 0:00:01\r\u001B[K     |▋                               | 30 kB 3.4 MB/s eta 0:00:01\r\u001B[K     |▉                               | 40 kB 3.0 MB/s eta 0:00:01\r\u001B[K     |█                               | 51 kB 3.2 MB/s eta 0:00:01\r\u001B[K     |█▎                              | 61 kB 3.8 MB/s eta 0:00:01\r\u001B[K     |█▌                              | 71 kB 3.9 MB/s eta 0:00:01\r\u001B[K     |█▊                              | 81 kB 3.8 MB/s eta 0:00:01\r\u001B[K     |██                              | 92 kB 4.2 MB/s eta 0:00:01\r\u001B[K     |██▏                             | 102 kB 4.3 MB/s eta 0:00:01\r\u001B[K     |██▍                             | 112 kB 4.3 MB/s eta 0:00:01\r\u001B[K     |██▋                             | 122 kB 4.3 MB/s eta 0:00:01\r\u001B[K     |██▉                             | 133 kB 4.3 MB/s eta 0:00:01\r\u001B[K     |███                             | 143 kB 4.3 MB/s eta 0:00:01\r\u001B[K     |███▎                            | 153 kB 4.3 MB/s eta 0:00:01\r\u001B[K     |███▌                            | 163 kB 4.3 MB/s eta 0:00:01\r\u001B[K     |███▊                            | 174 kB 4.3 MB/s eta 0:00:01\r\u001B[K     |████                            | 184 kB 4.3 MB/s eta 0:00:01\r\u001B[K     |████▏                           | 194 kB 4.3 MB/s eta 0:00:01\r\u001B[K     |████▍                           | 204 kB 4.3 MB/s eta 0:00:01\r\u001B[K     |████▌                           | 215 kB 4.3 MB/s eta 0:00:01\r\u001B[K     |████▊                           | 225 kB 4.3 MB/s eta 0:00:01\r\u001B[K     |█████                           | 235 kB 4.3 MB/s eta 0:00:01\r\u001B[K     |█████▏                          | 245 kB 4.3 MB/s eta 0:00:01\r\u001B[K     |█████▍                          | 256 kB 4.3 MB/s eta 0:00:01\r\u001B[K     |█████▋                          | 266 kB 4.3 MB/s eta 0:00:01\r\u001B[K     |█████▉                          | 276 kB 4.3 MB/s eta 0:00:01\r\u001B[K     |██████                          | 286 kB 4.3 MB/s eta 0:00:01\r\u001B[K     |██████▎                         | 296 kB 4.3 MB/s eta 0:00:01\r\u001B[K     |██████▌                         | 307 kB 4.3 MB/s eta 0:00:01\r\u001B[K     |██████▊                         | 317 kB 4.3 MB/s eta 0:00:01\r\u001B[K     |███████                         | 327 kB 4.3 MB/s eta 0:00:01\r\u001B[K     |███████▏                        | 337 kB 4.3 MB/s eta 0:00:01\r\u001B[K     |███████▍                        | 348 kB 4.3 MB/s eta 0:00:01\r\u001B[K     |███████▋                        | 358 kB 4.3 MB/s eta 0:00:01\r\u001B[K     |███████▉                        | 368 kB 4.3 MB/s eta 0:00:01\r\u001B[K     |████████                        | 378 kB 4.3 MB/s eta 0:00:01\r\u001B[K     |████████▎                       | 389 kB 4.3 MB/s eta 0:00:01\r\u001B[K     |████████▌                       | 399 kB 4.3 MB/s eta 0:00:01\r\u001B[K     |████████▊                       | 409 kB 4.3 MB/s eta 0:00:01\r\u001B[K     |█████████                       | 419 kB 4.3 MB/s eta 0:00:01\r\u001B[K     |█████████                       | 430 kB 4.3 MB/s eta 0:00:01\r\u001B[K     |█████████▎                      | 440 kB 4.3 MB/s eta 0:00:01\r\u001B[K     |█████████▌                      | 450 kB 4.3 MB/s eta 0:00:01\r\u001B[K     |█████████▊                      | 460 kB 4.3 MB/s eta 0:00:01\r\u001B[K     |██████████                      | 471 kB 4.3 MB/s eta 0:00:01\r\u001B[K     |██████████▏                     | 481 kB 4.3 MB/s eta 0:00:01\r\u001B[K     |██████████▍                     | 491 kB 4.3 MB/s eta 0:00:01\r\u001B[K     |██████████▋                     | 501 kB 4.3 MB/s eta 0:00:01\r\u001B[K     |██████████▉                     | 512 kB 4.3 MB/s eta 0:00:01\r\u001B[K     |███████████                     | 522 kB 4.3 MB/s eta 0:00:01\r\u001B[K     |███████████▎                    | 532 kB 4.3 MB/s eta 0:00:01\r\u001B[K     |███████████▌                    | 542 kB 4.3 MB/s eta 0:00:01\r\u001B[K     |███████████▊                    | 552 kB 4.3 MB/s eta 0:00:01\r\u001B[K     |████████████                    | 563 kB 4.3 MB/s eta 0:00:01\r\u001B[K     |████████████▏                   | 573 kB 4.3 MB/s eta 0:00:01\r\u001B[K     |████████████▍                   | 583 kB 4.3 MB/s eta 0:00:01\r\u001B[K     |████████████▋                   | 593 kB 4.3 MB/s eta 0:00:01\r\u001B[K     |████████████▉                   | 604 kB 4.3 MB/s eta 0:00:01\r\u001B[K     |█████████████                   | 614 kB 4.3 MB/s eta 0:00:01\r\u001B[K     |█████████████▎                  | 624 kB 4.3 MB/s eta 0:00:01\r\u001B[K     |█████████████▌                  | 634 kB 4.3 MB/s eta 0:00:01\r\u001B[K     |█████████████▋                  | 645 kB 4.3 MB/s eta 0:00:01\r\u001B[K     |█████████████▉                  | 655 kB 4.3 MB/s eta 0:00:01\r\u001B[K     |██████████████                  | 665 kB 4.3 MB/s eta 0:00:01\r\u001B[K     |██████████████▎                 | 675 kB 4.3 MB/s eta 0:00:01\r\u001B[K     |██████████████▌                 | 686 kB 4.3 MB/s eta 0:00:01\r\u001B[K     |██████████████▊                 | 696 kB 4.3 MB/s eta 0:00:01\r\u001B[K     |███████████████                 | 706 kB 4.3 MB/s eta 0:00:01\r\u001B[K     |███████████████▏                | 716 kB 4.3 MB/s eta 0:00:01\r\u001B[K     |███████████████▍                | 727 kB 4.3 MB/s eta 0:00:01\r\u001B[K     |███████████████▋                | 737 kB 4.3 MB/s eta 0:00:01\r\u001B[K     |███████████████▉                | 747 kB 4.3 MB/s eta 0:00:01\r\u001B[K     |████████████████                | 757 kB 4.3 MB/s eta 0:00:01\r\u001B[K     |████████████████▎               | 768 kB 4.3 MB/s eta 0:00:01\r\u001B[K     |████████████████▌               | 778 kB 4.3 MB/s eta 0:00:01\r\u001B[K     |████████████████▊               | 788 kB 4.3 MB/s eta 0:00:01\r\u001B[K     |█████████████████               | 798 kB 4.3 MB/s eta 0:00:01\r\u001B[K     |█████████████████▏              | 808 kB 4.3 MB/s eta 0:00:01\r\u001B[K     |█████████████████▍              | 819 kB 4.3 MB/s eta 0:00:01\r\u001B[K     |█████████████████▋              | 829 kB 4.3 MB/s eta 0:00:01\r\u001B[K     |█████████████████▉              | 839 kB 4.3 MB/s eta 0:00:01\r\u001B[K     |██████████████████              | 849 kB 4.3 MB/s eta 0:00:01\r\u001B[K     |██████████████████▏             | 860 kB 4.3 MB/s eta 0:00:01\r\u001B[K     |██████████████████▍             | 870 kB 4.3 MB/s eta 0:00:01\r\u001B[K     |██████████████████▋             | 880 kB 4.3 MB/s eta 0:00:01\r\u001B[K     |██████████████████▉             | 890 kB 4.3 MB/s eta 0:00:01\r\u001B[K     |███████████████████             | 901 kB 4.3 MB/s eta 0:00:01\r\u001B[K     |███████████████████▎            | 911 kB 4.3 MB/s eta 0:00:01\r\u001B[K     |███████████████████▌            | 921 kB 4.3 MB/s eta 0:00:01\r\u001B[K     |███████████████████▊            | 931 kB 4.3 MB/s eta 0:00:01\r\u001B[K     |████████████████████            | 942 kB 4.3 MB/s eta 0:00:01\r\u001B[K     |████████████████████▏           | 952 kB 4.3 MB/s eta 0:00:01\r\u001B[K     |████████████████████▍           | 962 kB 4.3 MB/s eta 0:00:01\r\u001B[K     |████████████████████▋           | 972 kB 4.3 MB/s eta 0:00:01\r\u001B[K     |████████████████████▉           | 983 kB 4.3 MB/s eta 0:00:01\r\u001B[K     |█████████████████████           | 993 kB 4.3 MB/s eta 0:00:01\r\u001B[K     |█████████████████████▎          | 1.0 MB 4.3 MB/s eta 0:00:01\r\u001B[K     |█████████████████████▌          | 1.0 MB 4.3 MB/s eta 0:00:01\r\u001B[K     |█████████████████████▊          | 1.0 MB 4.3 MB/s eta 0:00:01\r\u001B[K     |██████████████████████          | 1.0 MB 4.3 MB/s eta 0:00:01\r\u001B[K     |██████████████████████▏         | 1.0 MB 4.3 MB/s eta 0:00:01\r\u001B[K     |██████████████████████▍         | 1.1 MB 4.3 MB/s eta 0:00:01\r\u001B[K     |██████████████████████▋         | 1.1 MB 4.3 MB/s eta 0:00:01\r\u001B[K     |██████████████████████▊         | 1.1 MB 4.3 MB/s eta 0:00:01\r\u001B[K     |███████████████████████         | 1.1 MB 4.3 MB/s eta 0:00:01\r\u001B[K     |███████████████████████▏        | 1.1 MB 4.3 MB/s eta 0:00:01\r\u001B[K     |███████████████████████▍        | 1.1 MB 4.3 MB/s eta 0:00:01\r\u001B[K     |███████████████████████▋        | 1.1 MB 4.3 MB/s eta 0:00:01\r\u001B[K     |███████████████████████▉        | 1.1 MB 4.3 MB/s eta 0:00:01\r\u001B[K     |████████████████████████        | 1.1 MB 4.3 MB/s eta 0:00:01\r\u001B[K     |████████████████████████▎       | 1.1 MB 4.3 MB/s eta 0:00:01\r\u001B[K     |████████████████████████▌       | 1.2 MB 4.3 MB/s eta 0:00:01\r\u001B[K     |████████████████████████▊       | 1.2 MB 4.3 MB/s eta 0:00:01\r\u001B[K     |█████████████████████████       | 1.2 MB 4.3 MB/s eta 0:00:01\r\u001B[K     |█████████████████████████▏      | 1.2 MB 4.3 MB/s eta 0:00:01\r\u001B[K     |█████████████████████████▍      | 1.2 MB 4.3 MB/s eta 0:00:01\r\u001B[K     |█████████████████████████▋      | 1.2 MB 4.3 MB/s eta 0:00:01\r\u001B[K     |█████████████████████████▉      | 1.2 MB 4.3 MB/s eta 0:00:01\r\u001B[K     |██████████████████████████      | 1.2 MB 4.3 MB/s eta 0:00:01\r\u001B[K     |██████████████████████████▎     | 1.2 MB 4.3 MB/s eta 0:00:01\r\u001B[K     |██████████████████████████▌     | 1.2 MB 4.3 MB/s eta 0:00:01\r\u001B[K     |██████████████████████████▊     | 1.3 MB 4.3 MB/s eta 0:00:01\r\u001B[K     |███████████████████████████     | 1.3 MB 4.3 MB/s eta 0:00:01\r\u001B[K     |███████████████████████████▏    | 1.3 MB 4.3 MB/s eta 0:00:01\r\u001B[K     |███████████████████████████▎    | 1.3 MB 4.3 MB/s eta 0:00:01\r\u001B[K     |███████████████████████████▌    | 1.3 MB 4.3 MB/s eta 0:00:01\r\u001B[K     |███████████████████████████▊    | 1.3 MB 4.3 MB/s eta 0:00:01\r\u001B[K     |████████████████████████████    | 1.3 MB 4.3 MB/s eta 0:00:01\r\u001B[K     |████████████████████████████▏   | 1.3 MB 4.3 MB/s eta 0:00:01\r\u001B[K     |████████████████████████████▍   | 1.3 MB 4.3 MB/s eta 0:00:01\r\u001B[K     |████████████████████████████▋   | 1.4 MB 4.3 MB/s eta 0:00:01\r\u001B[K     |████████████████████████████▉   | 1.4 MB 4.3 MB/s eta 0:00:01\r\u001B[K     |█████████████████████████████   | 1.4 MB 4.3 MB/s eta 0:00:01\r\u001B[K     |█████████████████████████████▎  | 1.4 MB 4.3 MB/s eta 0:00:01\r\u001B[K     |█████████████████████████████▌  | 1.4 MB 4.3 MB/s eta 0:00:01\r\u001B[K     |█████████████████████████████▊  | 1.4 MB 4.3 MB/s eta 0:00:01\r\u001B[K     |██████████████████████████████  | 1.4 MB 4.3 MB/s eta 0:00:01\r\u001B[K     |██████████████████████████████▏ | 1.4 MB 4.3 MB/s eta 0:00:01\r\u001B[K     |██████████████████████████████▍ | 1.4 MB 4.3 MB/s eta 0:00:01\r\u001B[K     |██████████████████████████████▋ | 1.4 MB 4.3 MB/s eta 0:00:01\r\u001B[K     |██████████████████████████████▉ | 1.5 MB 4.3 MB/s eta 0:00:01\r\u001B[K     |███████████████████████████████ | 1.5 MB 4.3 MB/s eta 0:00:01\r\u001B[K     |███████████████████████████████▎| 1.5 MB 4.3 MB/s eta 0:00:01\r\u001B[K     |███████████████████████████████▌| 1.5 MB 4.3 MB/s eta 0:00:01\r\u001B[K     |███████████████████████████████▊| 1.5 MB 4.3 MB/s eta 0:00:01\r\u001B[K     |███████████████████████████████▉| 1.5 MB 4.3 MB/s eta 0:00:01\r\u001B[K     |████████████████████████████████| 1.5 MB 4.3 MB/s \r\n\u001B[?25hCollecting tqdm\r\n  Downloading tqdm-4.66.1-py3-none-any.whl (78 kB)\r\n\u001B[?25l\r\u001B[K     |████▏                           | 10 kB 14.2 MB/s eta 0:00:01\r\u001B[K     |████████▍                       | 20 kB 17.3 MB/s eta 0:00:01\r\u001B[K     |████████████▋                   | 30 kB 17.9 MB/s eta 0:00:01\r\u001B[K     |████████████████▊               | 40 kB 19.0 MB/s eta 0:00:01\r\u001B[K     |█████████████████████           | 51 kB 21.5 MB/s eta 0:00:01\r\u001B[K     |█████████████████████████▏      | 61 kB 23.8 MB/s eta 0:00:01\r\u001B[K     |█████████████████████████████▎  | 71 kB 24.9 MB/s eta 0:00:01\r\u001B[K     |████████████████████████████████| 78 kB 7.9 MB/s \r\n\u001B[?25hRequirement already satisfied: click in /databricks/python3/lib/python3.9/site-packages (from nltk) (8.0.4)\r\nCollecting regex>=2021.8.3\r\n  Downloading regex-2023.8.8-cp39-cp39-manylinux_2_17_x86_64.manylinux2014_x86_64.whl (771 kB)\r\n\u001B[?25l\r\u001B[K     |▍                               | 10 kB 12.9 MB/s eta 0:00:01\r\u001B[K     |▉                               | 20 kB 16.3 MB/s eta 0:00:01\r\u001B[K     |█▎                              | 30 kB 16.2 MB/s eta 0:00:01\r\u001B[K     |█▊                              | 40 kB 16.8 MB/s eta 0:00:01\r\u001B[K     |██▏                             | 51 kB 16.9 MB/s eta 0:00:01\r\u001B[K     |██▌                             | 61 kB 18.2 MB/s eta 0:00:01\r\u001B[K     |███                             | 71 kB 18.2 MB/s eta 0:00:01\r\u001B[K     |███▍                            | 81 kB 19.5 MB/s eta 0:00:01\r\u001B[K     |███▉                            | 92 kB 21.0 MB/s eta 0:00:01\r\u001B[K     |████▎                           | 102 kB 22.4 MB/s eta 0:00:01\r\u001B[K     |████▊                           | 112 kB 22.4 MB/s eta 0:00:01\r\u001B[K     |█████                           | 122 kB 22.4 MB/s eta 0:00:01\r\u001B[K     |█████▌                          | 133 kB 22.4 MB/s eta 0:00:01\r\u001B[K     |██████                          | 143 kB 22.4 MB/s eta 0:00:01\r\u001B[K     |██████▍                         | 153 kB 22.4 MB/s eta 0:00:01\r\u001B[K     |██████▉                         | 163 kB 22.4 MB/s eta 0:00:01\r\u001B[K     |███████▏                        | 174 kB 22.4 MB/s eta 0:00:01\r\u001B[K     |███████▋                        | 184 kB 22.4 MB/s eta 0:00:01\r\u001B[K     |████████                        | 194 kB 22.4 MB/s eta 0:00:01\r\u001B[K     |████████▌                       | 204 kB 22.4 MB/s eta 0:00:01\r\u001B[K     |█████████                       | 215 kB 22.4 MB/s eta 0:00:01\r\u001B[K     |█████████▍                      | 225 kB 22.4 MB/s eta 0:00:01\r\u001B[K     |█████████▊                      | 235 kB 22.4 MB/s eta 0:00:01\r\u001B[K     |██████████▏                     | 245 kB 22.4 MB/s eta 0:00:01\r\u001B[K     |██████████▋                     | 256 kB 22.4 MB/s eta 0:00:01\r\u001B[K     |███████████                     | 266 kB 22.4 MB/s eta 0:00:01\r\u001B[K     |███████████▌                    | 276 kB 22.4 MB/s eta 0:00:01\r\u001B[K     |████████████                    | 286 kB 22.4 MB/s eta 0:00:01\r\u001B[K     |████████████▎                   | 296 kB 22.4 MB/s eta 0:00:01\r\u001B[K     |████████████▊                   | 307 kB 22.4 MB/s eta 0:00:01\r\u001B[K     |█████████████▏                  | 317 kB 22.4 MB/s eta 0:00:01\r\u001B[K     |█████████████▋                  | 327 kB 22.4 MB/s eta 0:00:01\r\u001B[K     |██████████████                  | 337 kB 22.4 MB/s eta 0:00:01\r\u001B[K     |██████████████▍                 | 348 kB 22.4 MB/s eta 0:00:01\r\u001B[K     |██████████████▉                 | 358 kB 22.4 MB/s eta 0:00:01\r\u001B[K     |███████████████▎                | 368 kB 22.4 MB/s eta 0:00:01\r\u001B[K     |███████████████▊                | 378 kB 22.4 MB/s eta 0:00:01\r\u001B[K     |████████████████▏               | 389 kB 22.4 MB/s eta 0:00:01\r\u001B[K     |████████████████▋               | 399 kB 22.4 MB/s eta 0:00:01\r\u001B[K     |█████████████████               | 409 kB 22.4 MB/s eta 0:00:01\r\u001B[K     |█████████████████▍              | 419 kB 22.4 MB/s eta 0:00:01\r\u001B[K     |█████████████████▉              | 430 kB 22.4 MB/s eta 0:00:01\r\u001B[K     |██████████████████▎             | 440 kB 22.4 MB/s eta 0:00:01\r\u001B[K     |██████████████████▊             | 450 kB 22.4 MB/s eta 0:00:01\r\u001B[K     |███████████████████▏            | 460 kB 22.4 MB/s eta 0:00:01\r\u001B[K     |███████████████████▌            | 471 kB 22.4 MB/s eta 0:00:01\r\u001B[K     |████████████████████            | 481 kB 22.4 MB/s eta 0:00:01\r\u001B[K     |████████████████████▍           | 491 kB 22.4 MB/s eta 0:00:01\r\u001B[K     |████████████████████▉           | 501 kB 22.4 MB/s eta 0:00:01\r\u001B[K     |█████████████████████▎          | 512 kB 22.4 MB/s eta 0:00:01\r\u001B[K     |█████████████████████▋          | 522 kB 22.4 MB/s eta 0:00:01\r\u001B[K     |██████████████████████          | 532 kB 22.4 MB/s eta 0:00:01\r\u001B[K     |██████████████████████▌         | 542 kB 22.4 MB/s eta 0:00:01\r\u001B[K     |███████████████████████         | 552 kB 22.4 MB/s eta 0:00:01\r\u001B[K     |███████████████████████▍        | 563 kB 22.4 MB/s eta 0:00:01\r\u001B[K     |███████████████████████▉        | 573 kB 22.4 MB/s eta 0:00:01\r\u001B[K     |████████████████████████▏       | 583 kB 22.4 MB/s eta 0:00:01\r\u001B[K     |████████████████████████▋       | 593 kB 22.4 MB/s eta 0:00:01\r\u001B[K     |█████████████████████████       | 604 kB 22.4 MB/s eta 0:00:01\r\u001B[K     |█████████████████████████▌      | 614 kB 22.4 MB/s eta 0:00:01\r\u001B[K     |██████████████████████████      | 624 kB 22.4 MB/s eta 0:00:01\r\u001B[K     |██████████████████████████▍     | 634 kB 22.4 MB/s eta 0:00:01\r\u001B[K     |██████████████████████████▊     | 645 kB 22.4 MB/s eta 0:00:01\r\u001B[K     |███████████████████████████▏    | 655 kB 22.4 MB/s eta 0:00:01\r\u001B[K     |███████████████████████████▋    | 665 kB 22.4 MB/s eta 0:00:01\r\u001B[K     |████████████████████████████    | 675 kB 22.4 MB/s eta 0:00:01\r\u001B[K     |████████████████████████████▌   | 686 kB 22.4 MB/s eta 0:00:01\r\u001B[K     |████████████████████████████▉   | 696 kB 22.4 MB/s eta 0:00:01\r\u001B[K     |█████████████████████████████▎  | 706 kB 22.4 MB/s eta 0:00:01\r\u001B[K     |█████████████████████████████▊  | 716 kB 22.4 MB/s eta 0:00:01\r\u001B[K     |██████████████████████████████▏ | 727 kB 22.4 MB/s eta 0:00:01\r\u001B[K     |██████████████████████████████▋ | 737 kB 22.4 MB/s eta 0:00:01\r\u001B[K     |███████████████████████████████ | 747 kB 22.4 MB/s eta 0:00:01\r\u001B[K     |███████████████████████████████▍| 757 kB 22.4 MB/s eta 0:00:01\r\u001B[K     |███████████████████████████████▉| 768 kB 22.4 MB/s eta 0:00:01\r\u001B[K     |████████████████████████████████| 771 kB 22.4 MB/s \r\n\u001B[?25hRequirement already satisfied: joblib in /databricks/python3/lib/python3.9/site-packages (from nltk) (1.1.1)\r\nInstalling collected packages: tqdm, regex, nltk\r\nSuccessfully installed nltk-3.8.1 regex-2023.8.8 tqdm-4.66.1\r\n\u001B[33mWARNING: You are using pip version 21.2.4; however, version 23.2.1 is available.\r\nYou should consider upgrading via the '/local_disk0/.ephemeral_nfs/envs/pythonEnv-e7405311-592a-48a9-98c9-7f13e083a407/bin/python -m pip install --upgrade pip' command.\u001B[0m\r\n"
     ]
    }
   ],
   "source": [
    "!pip install nltk"
   ]
  },
  {
   "cell_type": "code",
   "execution_count": 0,
   "metadata": {
    "application/vnd.databricks.v1+cell": {
     "cellMetadata": {
      "byteLimit": 2048000,
      "rowLimit": 10000
     },
     "inputWidgets": {},
     "nuid": "cb6e8c35-23ab-491e-9af6-41a16c532aca",
     "showTitle": false,
     "title": ""
    }
   },
   "outputs": [
    {
     "output_type": "stream",
     "name": "stderr",
     "output_type": "stream",
     "text": [
      "[nltk_data] Downloading package stopwords to /root/nltk_data...\n[nltk_data]   Unzipping corpora/stopwords.zip.\n"
     ]
    }
   ],
   "source": [
    "import nltk\n",
    "from nltk.corpus import stopwords\n",
    "from math import log, sqrt\n",
    "\n",
    "nltk.download('stopwords')\n",
    "stop_words = stopwords.words('english')"
   ]
  },
  {
   "cell_type": "code",
   "execution_count": 0,
   "metadata": {
    "application/vnd.databricks.v1+cell": {
     "cellMetadata": {
      "byteLimit": 2048000,
      "rowLimit": 10000
     },
     "inputWidgets": {},
     "nuid": "1551759e-af32-4835-bd7a-954837ad853b",
     "showTitle": false,
     "title": ""
    }
   },
   "outputs": [],
   "source": [
    "plot_summary_location = '/FileStore/tables/plot_summaries.txt'\n",
    "search_terms_location = '/FileStore/tables/search_terms-2.txt'\n",
    "movies_metadata_location = '/FileStore/tables/movie_metadata.tsv'"
   ]
  },
  {
   "cell_type": "code",
   "execution_count": 0,
   "metadata": {
    "application/vnd.databricks.v1+cell": {
     "cellMetadata": {
      "byteLimit": 2048000,
      "rowLimit": 10000
     },
     "inputWidgets": {},
     "nuid": "4081a9dc-7aba-420d-8f51-1ebf3f315954",
     "showTitle": false,
     "title": ""
    }
   },
   "outputs": [],
   "source": [
    "# ps = plot summary and total_documents = total number of movies\n",
    "ps = sc.textFile(plot_summary_location)\n",
    "total_documents = ps.count()"
   ]
  },
  {
   "cell_type": "code",
   "execution_count": 0,
   "metadata": {
    "application/vnd.databricks.v1+cell": {
     "cellMetadata": {
      "byteLimit": 2048000,
      "rowLimit": 10000
     },
     "inputWidgets": {},
     "nuid": "0d61811c-6cc8-43c5-a8fd-385ecac3c97b",
     "showTitle": false,
     "title": ""
    }
   },
   "outputs": [
    {
     "output_type": "stream",
     "name": "stdout",
     "output_type": "stream",
     "text": [
      "Out[5]: 42306"
     ]
    }
   ],
   "source": [
    "total_documents"
   ]
  },
  {
   "cell_type": "code",
   "execution_count": 0,
   "metadata": {
    "application/vnd.databricks.v1+cell": {
     "cellMetadata": {
      "byteLimit": 2048000,
      "rowLimit": 10000
     },
     "inputWidgets": {},
     "nuid": "6e7abed2-762e-406f-a578-953c5c913937",
     "showTitle": false,
     "title": ""
    }
   },
   "outputs": [],
   "source": [
    "# spliting each summary to list of strings\n",
    "ps = ps.map(lambda x: x.split())\n",
    "\n",
    "# converting all the strings to lower case\n",
    "ps = ps.map(lambda x: [word.lower() for word in x])"
   ]
  },
  {
   "cell_type": "code",
   "execution_count": 0,
   "metadata": {
    "application/vnd.databricks.v1+cell": {
     "cellMetadata": {
      "byteLimit": 2048000,
      "rowLimit": 10000
     },
     "inputWidgets": {},
     "nuid": "c725ef7c-cd2d-4073-96d0-df6e0889d85a",
     "showTitle": false,
     "title": ""
    }
   },
   "outputs": [],
   "source": [
    "# removing punctuations\n",
    "def lower_clean_str(x):\n",
    "  punc='!\"#$%&\\'()*+,-./:;<=>?@[\\\\]^_`{|}~'\n",
    "  lowercased_str = x.lower()\n",
    "  for ch in punc:\n",
    "    lowercased_str = lowercased_str.replace(ch, '')\n",
    "  return lowercased_str\n",
    "\n",
    "def lower_clean_str_list(l):\n",
    "    return [lower_clean_str(i) for i in l]\n",
    "\n",
    "ps = ps.map(lower_clean_str_list)"
   ]
  },
  {
   "cell_type": "code",
   "execution_count": 0,
   "metadata": {
    "application/vnd.databricks.v1+cell": {
     "cellMetadata": {
      "byteLimit": 2048000,
      "rowLimit": 10000
     },
     "inputWidgets": {},
     "nuid": "419fdb21-3a0a-4765-b463-956555985cf7",
     "showTitle": false,
     "title": ""
    }
   },
   "outputs": [
    {
     "output_type": "stream",
     "name": "stdout",
     "output_type": "stream",
     "text": [
      "Out[8]: [['23890098',\n  'shlykov',\n  'a',\n  'hardworking',\n  'taxi',\n  'driver',\n  'and',\n  'lyosha',\n  'a',\n  'saxophonist',\n  'develop',\n  'a',\n  'bizarre',\n  'lovehate',\n  'relationship',\n  'and',\n  'despite',\n  'their',\n  'prejudices',\n  'realize',\n  'they',\n  'arent',\n  'so',\n  'different',\n  'after',\n  'all'],\n ['31186339',\n  'the',\n  'nation',\n  'of',\n  'panem',\n  'consists',\n  'of',\n  'a',\n  'wealthy',\n  'capitol',\n  'and',\n  'twelve',\n  'poorer',\n  'districts',\n  'as',\n  'punishment',\n  'for',\n  'a',\n  'past',\n  'rebellion',\n  'each',\n  'district',\n  'must',\n  'provide',\n  'a',\n  'boy',\n  'and',\n  'girl',\n  'between',\n  'the',\n  'ages',\n  'of',\n  '12',\n  'and',\n  '18',\n  'selected',\n  'by',\n  'lottery',\n  'for',\n  'the',\n  'annual',\n  'hunger',\n  'games',\n  'the',\n  'tributes',\n  'must',\n  'fight',\n  'to',\n  'the',\n  'death',\n  'in',\n  'an',\n  'arena',\n  'the',\n  'sole',\n  'survivor',\n  'is',\n  'rewarded',\n  'with',\n  'fame',\n  'and',\n  'wealth',\n  'in',\n  'her',\n  'first',\n  'reaping',\n  '12yearold',\n  'primrose',\n  'everdeen',\n  'is',\n  'chosen',\n  'from',\n  'district',\n  '12',\n  'her',\n  'older',\n  'sister',\n  'katniss',\n  'volunteers',\n  'to',\n  'take',\n  'her',\n  'place',\n  'peeta',\n  'mellark',\n  'a',\n  'bakers',\n  'son',\n  'who',\n  'once',\n  'gave',\n  'katniss',\n  'bread',\n  'when',\n  'she',\n  'was',\n  'starving',\n  'is',\n  'the',\n  'other',\n  'district',\n  '12',\n  'tribute',\n  'katniss',\n  'and',\n  'peeta',\n  'are',\n  'taken',\n  'to',\n  'the',\n  'capitol',\n  'accompanied',\n  'by',\n  'their',\n  'frequently',\n  'drunk',\n  'mentor',\n  'past',\n  'victor',\n  'haymitch',\n  'abernathy',\n  'he',\n  'warns',\n  'them',\n  'about',\n  'the',\n  'career',\n  'tributes',\n  'who',\n  'train',\n  'intensively',\n  'at',\n  'special',\n  'academies',\n  'and',\n  'almost',\n  'always',\n  'win',\n  'during',\n  'a',\n  'tv',\n  'interview',\n  'with',\n  'caesar',\n  'flickerman',\n  'peeta',\n  'unexpectedly',\n  'reveals',\n  'his',\n  'love',\n  'for',\n  'katniss',\n  'she',\n  'is',\n  'outraged',\n  'believing',\n  'it',\n  'to',\n  'be',\n  'a',\n  'ploy',\n  'to',\n  'gain',\n  'audience',\n  'support',\n  'as',\n  'sponsors',\n  'may',\n  'provide',\n  'ingames',\n  'gifts',\n  'of',\n  'food',\n  'medicine',\n  'and',\n  'tools',\n  'however',\n  'she',\n  'discovers',\n  'peeta',\n  'meant',\n  'what',\n  'he',\n  'said',\n  'the',\n  'televised',\n  'games',\n  'begin',\n  'with',\n  'half',\n  'of',\n  'the',\n  'tributes',\n  'killed',\n  'in',\n  'the',\n  'first',\n  'few',\n  'minutes',\n  'katniss',\n  'barely',\n  'survives',\n  'ignoring',\n  'haymitchs',\n  'advice',\n  'to',\n  'run',\n  'away',\n  'from',\n  'the',\n  'melee',\n  'over',\n  'the',\n  'tempting',\n  'supplies',\n  'and',\n  'weapons',\n  'strewn',\n  'in',\n  'front',\n  'of',\n  'a',\n  'structure',\n  'called',\n  'the',\n  'cornucopia',\n  'peeta',\n  'forms',\n  'an',\n  'uneasy',\n  'alliance',\n  'with',\n  'the',\n  'four',\n  'careers',\n  'they',\n  'later',\n  'find',\n  'katniss',\n  'and',\n  'corner',\n  'her',\n  'up',\n  'a',\n  'tree',\n  'rue',\n  'hiding',\n  'in',\n  'a',\n  'nearby',\n  'tree',\n  'draws',\n  'her',\n  'attention',\n  'to',\n  'a',\n  'poisonous',\n  'tracker',\n  'jacker',\n  'nest',\n  'hanging',\n  'from',\n  'a',\n  'branch',\n  'katniss',\n  'drops',\n  'it',\n  'on',\n  'her',\n  'sleeping',\n  'besiegers',\n  'they',\n  'all',\n  'scatter',\n  'except',\n  'for',\n  'glimmer',\n  'who',\n  'is',\n  'killed',\n  'by',\n  'the',\n  'insects',\n  'hallucinating',\n  'due',\n  'to',\n  'tracker',\n  'jacker',\n  'venom',\n  'katniss',\n  'is',\n  'warned',\n  'to',\n  'run',\n  'away',\n  'by',\n  'peeta',\n  'rue',\n  'cares',\n  'for',\n  'katniss',\n  'for',\n  'a',\n  'couple',\n  'of',\n  'days',\n  'until',\n  'she',\n  'recovers',\n  'meanwhile',\n  'the',\n  'alliance',\n  'has',\n  'gathered',\n  'all',\n  'the',\n  'supplies',\n  'into',\n  'a',\n  'pile',\n  'katniss',\n  'has',\n  'rue',\n  'draw',\n  'them',\n  'off',\n  'then',\n  'destroys',\n  'the',\n  'stockpile',\n  'by',\n  'setting',\n  'off',\n  'the',\n  'mines',\n  'planted',\n  'around',\n  'it',\n  'furious',\n  'cato',\n  'kills',\n  'the',\n  'boy',\n  'assigned',\n  'to',\n  'guard',\n  'it',\n  'as',\n  'katniss',\n  'runs',\n  'from',\n  'the',\n  'scene',\n  'she',\n  'hears',\n  'rue',\n  'calling',\n  'her',\n  'name',\n  'she',\n  'finds',\n  'rue',\n  'trapped',\n  'and',\n  'releases',\n  'her',\n  'marvel',\n  'a',\n  'tribute',\n  'from',\n  'district',\n  '1',\n  'throws',\n  'a',\n  'spear',\n  'at',\n  'katniss',\n  'but',\n  'she',\n  'dodges',\n  'the',\n  'spear',\n  'causing',\n  'it',\n  'to',\n  'stab',\n  'rue',\n  'in',\n  'the',\n  'stomach',\n  'instead',\n  'katniss',\n  'shoots',\n  'him',\n  'dead',\n  'with',\n  'an',\n  'arrow',\n  'she',\n  'then',\n  'comforts',\n  'the',\n  'dying',\n  'rue',\n  'with',\n  'a',\n  'song',\n  'afterward',\n  'she',\n  'gathers',\n  'and',\n  'arranges',\n  'flowers',\n  'around',\n  'rues',\n  'body',\n  'when',\n  'this',\n  'is',\n  'televised',\n  'it',\n  'sparks',\n  'a',\n  'riot',\n  'in',\n  'rues',\n  'district',\n  '11',\n  'president',\n  'snow',\n  'summons',\n  'seneca',\n  'crane',\n  'the',\n  'gamemaker',\n  'to',\n  'express',\n  'his',\n  'displeasure',\n  'at',\n  'the',\n  'way',\n  'the',\n  'games',\n  'are',\n  'turning',\n  'out',\n  'since',\n  'katniss',\n  'and',\n  'peeta',\n  'have',\n  'been',\n  'presented',\n  'to',\n  'the',\n  'public',\n  'as',\n  'starcrossed',\n  'lovers',\n  'haymitch',\n  'is',\n  'able',\n  'to',\n  'convince',\n  'crane',\n  'to',\n  'make',\n  'a',\n  'rule',\n  'change',\n  'to',\n  'avoid',\n  'inciting',\n  'further',\n  'riots',\n  'it',\n  'is',\n  'announced',\n  'that',\n  'tributes',\n  'from',\n  'the',\n  'same',\n  'district',\n  'can',\n  'win',\n  'as',\n  'a',\n  'pair',\n  'upon',\n  'hearing',\n  'this',\n  'katniss',\n  'searches',\n  'for',\n  'peeta',\n  'and',\n  'finds',\n  'him',\n  'with',\n  'an',\n  'infected',\n  'sword',\n  'wound',\n  'in',\n  'the',\n  'leg',\n  'she',\n  'portrays',\n  'herself',\n  'as',\n  'deeply',\n  'in',\n  'love',\n  'with',\n  'him',\n  'and',\n  'gains',\n  'a',\n  'sponsors',\n  'gift',\n  'of',\n  'soup',\n  'an',\n  'announcer',\n  'proclaims',\n  'a',\n  'feast',\n  'where',\n  'the',\n  'thing',\n  'each',\n  'survivor',\n  'needs',\n  'most',\n  'will',\n  'be',\n  'provided',\n  'peeta',\n  'begs',\n  'her',\n  'not',\n  'to',\n  'risk',\n  'getting',\n  'him',\n  'medicine',\n  'katniss',\n  'promises',\n  'not',\n  'to',\n  'go',\n  'but',\n  'after',\n  'he',\n  'falls',\n  'asleep',\n  'she',\n  'heads',\n  'to',\n  'the',\n  'feast',\n  'clove',\n  'ambushes',\n  'her',\n  'and',\n  'pins',\n  'her',\n  'down',\n  'as',\n  'clove',\n  'gloats',\n  'thresh',\n  'the',\n  'other',\n  'district',\n  '11',\n  'tribute',\n  'kills',\n  'clove',\n  'after',\n  'overhearing',\n  'her',\n  'tormenting',\n  'katniss',\n  'about',\n  'killing',\n  'rue',\n  'he',\n  'spares',\n  'katniss',\n  'just',\n  'this',\n  'timefor',\n  'rue',\n  'the',\n  'medicine',\n  'works',\n  'keeping',\n  'peeta',\n  'mobile',\n  'foxface',\n  'the',\n  'girl',\n  'from',\n  'district',\n  '5',\n  'dies',\n  'from',\n  'eating',\n  'nightlock',\n  'berries',\n  'she',\n  'stole',\n  'from',\n  'peeta',\n  'neither',\n  'knew',\n  'they',\n  'are',\n  'highly',\n  'poisonous',\n  'crane',\n  'changes',\n  'the',\n  'time',\n  'of',\n  'day',\n  'in',\n  'the',\n  'arena',\n  'to',\n  'late',\n  'at',\n  'night',\n  'and',\n  'unleashes',\n  'a',\n  'pack',\n  'of',\n  'houndlike',\n  'creatures',\n  'to',\n  'speed',\n  'things',\n  'up',\n  'they',\n  'kill',\n  'thresh',\n  'and',\n  'force',\n  'katniss',\n  'and',\n  'peeta',\n  'to',\n  'flee',\n  'to',\n  'the',\n  'roof',\n  'of',\n  'the',\n  'cornucopia',\n  'where',\n  'they',\n  'encounter',\n  'cato',\n  'after',\n  'a',\n  'battle',\n  'katniss',\n  'wounds',\n  'cato',\n  'with',\n  'an',\n  'arrow',\n  'and',\n  'peeta',\n  'hurls',\n  'him',\n  'to',\n  'the',\n  'creatures',\n  'below',\n  'katniss',\n  'shoots',\n  'cato',\n  'to',\n  'spare',\n  'him',\n  'a',\n  'prolonged',\n  'death',\n  'with',\n  'peeta',\n  'and',\n  'katniss',\n  'apparently',\n  'victorious',\n  'the',\n  'rule',\n  'change',\n  'allowing',\n  'two',\n  'winners',\n  'is',\n  'suddenly',\n  'revoked',\n  'peeta',\n  'tells',\n  'katniss',\n  'to',\n  'shoot',\n  'him',\n  'instead',\n  'she',\n  'gives',\n  'him',\n  'half',\n  'of',\n  'the',\n  'nightlock',\n  'however',\n  'before',\n  'they',\n  'can',\n  'commit',\n  'suicide',\n  'they',\n  'are',\n  'hastily',\n  'proclaimed',\n  'the',\n  'victors',\n  'of',\n  'the',\n  '74th',\n  'hunger',\n  'games',\n  'haymitch',\n  'warns',\n  'katniss',\n  'that',\n  'she',\n  'has',\n  'made',\n  'powerful',\n  'enemies',\n  'after',\n  'her',\n  'display',\n  'of',\n  'defiance',\n  'she',\n  'and',\n  'peeta',\n  'return',\n  'to',\n  'district',\n  '12',\n  'while',\n  'crane',\n  'is',\n  'locked',\n  'in',\n  'a',\n  'room',\n  'with',\n  'a',\n  'bowl',\n  'of',\n  'nightlock',\n  'berries',\n  'and',\n  'president',\n  'snow',\n  'considers',\n  'the',\n  'situation'],\n ['20663735',\n  'poovalli',\n  'induchoodan',\n  'is',\n  'sentenced',\n  'for',\n  'six',\n  'years',\n  'prison',\n  'life',\n  'for',\n  'murdering',\n  'his',\n  'classmate',\n  'induchoodan',\n  'the',\n  'only',\n  'son',\n  'of',\n  'justice',\n  'maranchery',\n  'karunakara',\n  'menon',\n  'was',\n  'framed',\n  'in',\n  'the',\n  'case',\n  'by',\n  'manapally',\n  'madhavan',\n  'nambiar',\n  'and',\n  'his',\n  'crony',\n  'dysp',\n  'sankaranarayanan',\n  'to',\n  'take',\n  'revenge',\n  'on',\n  'idealist',\n  'judge',\n  'menon',\n  'who',\n  'had',\n  'earlier',\n  'given',\n  'jail',\n  'sentence',\n  'to',\n  'manapally',\n  'in',\n  'a',\n  'corruption',\n  'case',\n  'induchoodan',\n  'who',\n  'had',\n  'achieved',\n  'top',\n  'rank',\n  'in',\n  'indian',\n  'civil',\n  'service',\n  'loses',\n  'the',\n  'post',\n  'and',\n  'manapally',\n  'sudheeran',\n  'saikumar',\n  'enters',\n  'the',\n  'list',\n  'of',\n  'civil',\n  'service',\n  'trainees',\n  'we',\n  'learn',\n  'in',\n  'flashback',\n  'that',\n  'it',\n  'was',\n  'ramakrishnan',\n  'the',\n  'son',\n  'of',\n  'moopil',\n  'nair',\n  '',\n  'who',\n  'had',\n  'actually',\n  'killed',\n  'his',\n  'classmate',\n  'six',\n  'years',\n  'passes',\n  'by',\n  'and',\n  'manapally',\n  'madhavan',\n  'nambiar',\n  'now',\n  'a',\n  'former',\n  'state',\n  'minister',\n  'is',\n  'dead',\n  'and',\n  'induchoodan',\n  'who',\n  'is',\n  'all',\n  'rage',\n  'at',\n  'the',\n  'gross',\n  'injustice',\n  'meted',\n  'out',\n  'to',\n  'him',\n  '',\n  'thus',\n  'destroying',\n  'his',\n  'promising',\n  'life',\n  'is',\n  'released',\n  'from',\n  'prison',\n  'induchoodan',\n  'thwarts',\n  'manapally',\n  'pavithran',\n  'from',\n  'performing',\n  'the',\n  'funeral',\n  'rituals',\n  'of',\n  'nambiar',\n  'at',\n  'bharathapuzha',\n  'many',\n  'confrontations',\n  'between',\n  'induchoodan',\n  'and',\n  'manapallys',\n  'henchmen',\n  'follow',\n  'induchoodan',\n  'also',\n  'falls',\n  'in',\n  'love',\n  'with',\n  'anuradha',\n  'aishwarya',\n  '',\n  'the',\n  'strongwilled',\n  'and',\n  'independentminded',\n  'daughter',\n  'of',\n  'mooppil',\n  'nair',\n  'justice',\n  'menon',\n  'and',\n  'his',\n  'wife',\n  'returns',\n  'back',\n  'to',\n  'kerala',\n  'to',\n  'stay',\n  'with',\n  'induchoodan',\n  'there',\n  'is',\n  'an',\n  'appearance',\n  'of',\n  'a',\n  'girl',\n  'named',\n  'indulekha',\n  'kanaka',\n  '',\n  'who',\n  'claims',\n  'to',\n  'be',\n  'the',\n  'daughter',\n  'of',\n  'justice',\n  'menon',\n  'menon',\n  'flatly',\n  'refuses',\n  'the',\n  'claim',\n  'and',\n  'banishes',\n  'her',\n  'forced',\n  'by',\n  'circumstances',\n  'and',\n  'at',\n  'the',\n  'instigation',\n  'and',\n  'help',\n  'of',\n  'manapally',\n  'pavithran',\n  'she',\n  'reluctantly',\n  'come',\n  'out',\n  'open',\n  'with',\n  'the',\n  'claim',\n  'induchoodan',\n  'at',\n  'first',\n  'thrashes',\n  'the',\n  'protesters',\n  'but',\n  'upon',\n  'knowing',\n  'the',\n  'truth',\n  'from',\n  'chandrabhanu',\n  'his',\n  'uncle',\n  'he',\n  'accepts',\n  'the',\n  'task',\n  'of',\n  'her',\n  'protection',\n  'in',\n  'the',\n  'capacity',\n  'as',\n  'elder',\n  'brother',\n  'induchoodan',\n  'decides',\n  'to',\n  'marry',\n  'off',\n  'indulekha',\n  'to',\n  'his',\n  'good',\n  'friend',\n  'jayakrishnan',\n  '',\n  'induchoodan',\n  'has',\n  'a',\n  'confrontation',\n  'with',\n  'his',\n  'father',\n  'and',\n  'prods',\n  'him',\n  'to',\n  'accept',\n  'mistake',\n  'and',\n  'acknowledge',\n  'the',\n  'parentage',\n  'of',\n  'indulekha',\n  'menon',\n  'ultimately',\n  'regrets',\n  'and',\n  'goes',\n  'on',\n  'to',\n  'confess',\n  'to',\n  'his',\n  'daughter',\n  'the',\n  'very',\n  'next',\n  'day',\n  'when',\n  'induchoodan',\n  'returns',\n  'to',\n  'poovally',\n  'indulekha',\n  'is',\n  'found',\n  'dead',\n  'and',\n  'menon',\n  'is',\n  'accused',\n  'of',\n  'murdering',\n  'her',\n  'the',\n  'whole',\n  'act',\n  'was',\n  'planned',\n  'by',\n  'pavithran',\n  'who',\n  'after',\n  'killing',\n  'indulekha',\n  'forces',\n  'raman',\n  'nair',\n  'to',\n  'testify',\n  'against',\n  'menon',\n  'in',\n  'court',\n  'in',\n  'court',\n  'nandagopal',\n  'maarar',\n  '',\n  'a',\n  'close',\n  'friend',\n  'of',\n  'induchoodan',\n  'and',\n  'a',\n  'famous',\n  'supreme',\n  'court',\n  'lawyer',\n  'appears',\n  'for',\n  'menon',\n  'and',\n  'manages',\n  'to',\n  'lay',\n  'bare',\n  'the',\n  'murder',\n  'plot',\n  'and',\n  'hidden',\n  'intentions',\n  'of',\n  'other',\n  'party',\n  '',\n  'menon',\n  'is',\n  'judged',\n  'innocent',\n  'of',\n  'the',\n  'crime',\n  'by',\n  'court',\n  'after',\n  'confronting',\n  'pavithran',\n  'and',\n  'promising',\n  'just',\n  'retribution',\n  'to',\n  'the',\n  'crime',\n  'of',\n  'killing',\n  'indulekha',\n  'induchoodan',\n  'returns',\n  'to',\n  'his',\n  'father',\n  'who',\n  'now',\n  'shows',\n  'remorse',\n  'for',\n  'all',\n  'his',\n  'actions',\n  'including',\n  'not',\n  'believing',\n  'in',\n  'the',\n  'innocence',\n  'of',\n  'his',\n  'son',\n  'but',\n  'while',\n  'speaking',\n  'to',\n  'induchoodan',\n  'menon',\n  'suffers',\n  'a',\n  'heart',\n  'stroke',\n  'and',\n  'passes',\n  'away',\n  'at',\n  'menons',\n  'funeral',\n  'manapally',\n  'pavithran',\n  'arrives',\n  'to',\n  'poke',\n  'fun',\n  'at',\n  'induchoodan',\n  'and',\n  'he',\n  'also',\n  'tries',\n  'to',\n  'carry',\n  'out',\n  'the',\n  'postponed',\n  'last',\n  'rituals',\n  'of',\n  'his',\n  'own',\n  'father',\n  'induchoodan',\n  'interrupts',\n  'the',\n  'ritual',\n  'and',\n  'avenges',\n  'for',\n  'the',\n  'death',\n  'of',\n  'his',\n  'sister',\n  'and',\n  'father',\n  'by',\n  'severely',\n  'injuring',\n  'pavithran',\n  'on',\n  'his',\n  'way',\n  'back',\n  'to',\n  'peaceful',\n  'life',\n  'induchoodan',\n  'accepts',\n  'anuradha',\n  'as',\n  'his',\n  'life',\n  'partner'],\n ['2231378',\n  'the',\n  'lemon',\n  'drop',\n  'kid',\n  '',\n  'a',\n  'new',\n  'york',\n  'city',\n  'swindler',\n  'is',\n  'illegally',\n  'touting',\n  'horses',\n  'at',\n  'a',\n  'florida',\n  'racetrack',\n  'after',\n  'several',\n  'successful',\n  'hustles',\n  'the',\n  'kid',\n  'comes',\n  'across',\n  'a',\n  'beautiful',\n  'but',\n  'gullible',\n  'woman',\n  'intending',\n  'to',\n  'bet',\n  'a',\n  'lot',\n  'of',\n  'money',\n  'the',\n  'kid',\n  'convinces',\n  'her',\n  'to',\n  'switch',\n  'her',\n  'bet',\n  'employing',\n  'a',\n  'prefabricated',\n  'con',\n  'unfortunately',\n  'for',\n  'the',\n  'kid',\n  'the',\n  'woman',\n  'belongs',\n  'to',\n  'notorious',\n  'gangster',\n  'moose',\n  'moran',\n  '',\n  'as',\n  'does',\n  'the',\n  'money',\n  'the',\n  'kids',\n  'choice',\n  'finishes',\n  'dead',\n  'last',\n  'and',\n  'a',\n  'furious',\n  'moran',\n  'demands',\n  'the',\n  'kid',\n  'provide',\n  'him',\n  'with',\n  '10000',\n  'by',\n  'christmas',\n  'eve',\n  'or',\n  'the',\n  'kid',\n  'wont',\n  'make',\n  'it',\n  'to',\n  'new',\n  'years',\n  'the',\n  'kid',\n  'decides',\n  'to',\n  'return',\n  'to',\n  'new',\n  'york',\n  'to',\n  'try',\n  'to',\n  'come',\n  'up',\n  'with',\n  'the',\n  'money',\n  'he',\n  'first',\n  'tries',\n  'his',\n  'onagain',\n  'offagain',\n  'girlfriend',\n  'brainy',\n  'baxter',\n  '',\n  'however',\n  'when',\n  'talk',\n  'of',\n  'longterm',\n  'commitment',\n  'arises',\n  'the',\n  'kid',\n  'quickly',\n  'makes',\n  'an',\n  'escape',\n  'he',\n  'next',\n  'visits',\n  'local',\n  'crime',\n  'boss',\n  'oxford',\n  'charley',\n  '',\n  'with',\n  'whom',\n  'he',\n  'has',\n  'had',\n  'past',\n  'dealings',\n  'this',\n  'falls',\n  'through',\n  'as',\n  'charley',\n  'is',\n  'in',\n  'serious',\n  'tax',\n  'trouble',\n  'and',\n  'does',\n  'not',\n  'particularly',\n  'care',\n  'for',\n  'the',\n  'kid',\n  'anyway',\n  'as',\n  'he',\n  'leaves',\n  'charleys',\n  'establishment',\n  'and',\n  'is',\n  'about',\n  'to',\n  'give',\n  'up',\n  'hope',\n  'the',\n  'kid',\n  'notices',\n  'a',\n  'cornerside',\n  'santa',\n  'claus',\n  'and',\n  'his',\n  'kettle',\n  'thinking',\n  'quickly',\n  'the',\n  'kid',\n  'fashions',\n  'himself',\n  'a',\n  'santa',\n  'suit',\n  'and',\n  'begins',\n  'collecting',\n  'donations',\n  'this',\n  'fails',\n  'as',\n  'he',\n  'is',\n  'recognized',\n  'by',\n  'a',\n  'passing',\n  'policeman',\n  'who',\n  'remembers',\n  'his',\n  'previous',\n  'underhanded',\n  'activity',\n  'well',\n  'the',\n  'kid',\n  'lands',\n  'in',\n  'court',\n  'where',\n  'he',\n  'is',\n  'convicted',\n  'of',\n  'collecting',\n  'for',\n  'a',\n  'charity',\n  'without',\n  'a',\n  'license',\n  'and',\n  'sentenced',\n  'to',\n  'ten',\n  'days',\n  'in',\n  'jail',\n  '',\n  'however',\n  'while',\n  'in',\n  'court',\n  'the',\n  'kid',\n  'learns',\n  'where',\n  'his',\n  'scheme',\n  'went',\n  'wrong',\n  'after',\n  'a',\n  'short',\n  'stay',\n  'brainy',\n  'arrives',\n  'to',\n  'bail',\n  'him',\n  'out',\n  'he',\n  'then',\n  'sets',\n  'about',\n  'restarting',\n  'his',\n  'santa',\n  'operation',\n  'this',\n  'time',\n  'with',\n  'legitimate',\n  'backing',\n  'to',\n  'this',\n  'end',\n  'he',\n  'needs',\n  'a',\n  'charity',\n  'to',\n  'represent',\n  'and',\n  'a',\n  'city',\n  'license',\n  'the',\n  'kid',\n  'receives',\n  'key',\n  'inspiration',\n  'when',\n  'he',\n  'remembers',\n  'that',\n  'nellie',\n  'thursday',\n  '',\n  'a',\n  'kindly',\n  'neighborhood',\n  'resident',\n  'has',\n  'been',\n  'denied',\n  'entry',\n  'to',\n  'a',\n  'retirement',\n  'home',\n  'because',\n  'of',\n  'her',\n  'jailed',\n  'husbands',\n  'criminal',\n  'past',\n  'as',\n  'a',\n  'safecracker',\n  'organizing',\n  'other',\n  'smalltime',\n  'new',\n  'york',\n  'swindlers',\n  'and',\n  'brainy',\n  'who',\n  'is',\n  'both',\n  'surprised',\n  'and',\n  'charmed',\n  'at',\n  'the',\n  'kids',\n  'apparent',\n  'goodwill',\n  'the',\n  'kid',\n  'converts',\n  'an',\n  'abandoned',\n  'casino',\n  'into',\n  'the',\n  'nellie',\n  'thursday',\n  'home',\n  'for',\n  'old',\n  'dolls',\n  'a',\n  'small',\n  'group',\n  'of',\n  'elderly',\n  'women',\n  'and',\n  'makeshift',\n  'amenities',\n  'complete',\n  'the',\n  'project',\n  'the',\n  'kid',\n  'is',\n  'able',\n  'to',\n  'receive',\n  'the',\n  'allimportant',\n  'city',\n  'license',\n  'now',\n  'free',\n  'to',\n  'collect',\n  'the',\n  'kid',\n  'and',\n  'his',\n  'compatriots',\n  'dress',\n  'as',\n  'santa',\n  'claus',\n  'and',\n  'position',\n  'themselves',\n  'throughout',\n  'manhattan',\n  'the',\n  'others',\n  'are',\n  'unaware',\n  'that',\n  'the',\n  'kid',\n  'plans',\n  'to',\n  'keep',\n  'the',\n  'money',\n  'for',\n  'himself',\n  'to',\n  'pay',\n  'off',\n  'moran',\n  'the',\n  'scheme',\n  'is',\n  'a',\n  'huge',\n  'success',\n  'netting',\n  '2000',\n  'in',\n  'only',\n  'a',\n  'few',\n  'days',\n  'an',\n  'overjoyed',\n  'brainy',\n  'decides',\n  'to',\n  'leave',\n  'her',\n  'job',\n  'as',\n  'a',\n  'dancer',\n  'and',\n  'look',\n  'after',\n  'the',\n  'home',\n  'fulltime',\n  'until',\n  'after',\n  'christmas',\n  'coincidentally',\n  'her',\n  'employer',\n  'is',\n  'none',\n  'other',\n  'than',\n  'oxford',\n  'charley',\n  'whom',\n  'brainy',\n  'cheerfully',\n  'informs',\n  'of',\n  'the',\n  'effort',\n  'seeing',\n  'a',\n  'potential',\n  'gold',\n  'mine',\n  'charley',\n  'decides',\n  'to',\n  'muscle',\n  'in',\n  'on',\n  'the',\n  'operation',\n  'reasoning',\n  'that',\n  'the',\n  'nellie',\n  'thursday',\n  'home',\n  'is',\n  'wherever',\n  'nellie',\n  'thursday',\n  'is',\n  'charley',\n  'and',\n  'his',\n  'crew',\n  'kidnap',\n  'the',\n  'homes',\n  'inhabitants',\n  'and',\n  'move',\n  'them',\n  'to',\n  'charleys',\n  'mansion',\n  'in',\n  'nyack',\n  'the',\n  'kid',\n  'learns',\n  'of',\n  'this',\n  'when',\n  'he',\n  'returns',\n  'to',\n  'the',\n  'home',\n  'after',\n  'a',\n  'late',\n  'night',\n  'to',\n  'find',\n  'the',\n  'home',\n  'deserted',\n  'and',\n  'money',\n  'gone',\n  'clued',\n  'in',\n  'by',\n  'oversized',\n  'oxford',\n  'footprints',\n  'in',\n  'the',\n  'snow',\n  'the',\n  'kid',\n  'and',\n  'his',\n  'friends',\n  'pay',\n  'charley',\n  'a',\n  'visit',\n  'here',\n  'charley',\n  'reveals',\n  'the',\n  'true',\n  'nature',\n  'of',\n  'the',\n  'kids',\n  'scheme',\n  'through',\n  'a',\n  'phone',\n  'conversation',\n  'with',\n  'moose',\n  'moran',\n  'the',\n  'kids',\n  'accomplices',\n  'are',\n  'angry',\n  'and',\n  'move',\n  'to',\n  'confront',\n  'him',\n  'but',\n  'the',\n  'kid',\n  'manages',\n  'to',\n  'slip',\n  'away',\n  'however',\n  'brainy',\n  'tracks',\n  'him',\n  'down',\n  'outside',\n  'and',\n  'voices',\n  'her',\n  'disgust',\n  'at',\n  'his',\n  'actions',\n  'after',\n  'a',\n  'few',\n  'days',\n  'of',\n  'stewing',\n  'in',\n  'selfpity',\n  '',\n  'the',\n  'kid',\n  'is',\n  'surprised',\n  'to',\n  'meet',\n  'nellie',\n  'who',\n  'has',\n  'escaped',\n  'charleys',\n  'compound',\n  'he',\n  'decides',\n  'to',\n  'recover',\n  'the',\n  'money',\n  'sneaking',\n  'into',\n  'charleys',\n  'home',\n  'in',\n  'the',\n  'guise',\n  'of',\n  'an',\n  'elderly',\n  'woman',\n  'he',\n  'finds',\n  'that',\n  'charley',\n  'and',\n  'his',\n  'crew',\n  'are',\n  'again',\n  'moving',\n  'the',\n  'women',\n  'this',\n  'time',\n  'to',\n  'a',\n  'more',\n  'secure',\n  'location',\n  'using',\n  'the',\n  'heightened',\n  'activity',\n  'to',\n  'his',\n  'advantage',\n  'the',\n  'kid',\n  'enters',\n  'charleys',\n  'office',\n  'and',\n  'confronts',\n  'him',\n  'after',\n  'a',\n  'brief',\n  'struggle',\n  'the',\n  'kid',\n  'overpowers',\n  'charley',\n  'and',\n  'makes',\n  'off',\n  'with',\n  'the',\n  'money',\n  'narrowly',\n  'avoiding',\n  'the',\n  'thugs',\n  'charley',\n  'has',\n  'sent',\n  'after',\n  'him',\n  'the',\n  'ensuing',\n  'chaos',\n  'allows',\n  'brainy',\n  'and',\n  'the',\n  'others',\n  'to',\n  'escape',\n  'later',\n  'that',\n  'night',\n  'the',\n  'kid',\n  'returns',\n  'to',\n  'the',\n  'original',\n  'nellie',\n  'thursday',\n  'home',\n  'to',\n  'meet',\n  'with',\n  'moose',\n  'moran',\n  '',\n  'the',\n  'deal',\n  'appears',\n  'to',\n  'be',\n  'in',\n  'jeopardy',\n  'as',\n  'moran',\n  'arrives',\n  'with',\n  'charley',\n  'charley',\n  'demands',\n  'that',\n  'the',\n  'kid',\n  'reimburse',\n  'him',\n  'which',\n  'would',\n  'leave',\n  'too',\n  'little',\n  'for',\n  'moran',\n  'however',\n  'the',\n  'kid',\n  'turns',\n  'the',\n  'tables',\n  'by',\n  'hitting',\n  'a',\n  'switch',\n  'revealing',\n  'hidden',\n  'casino',\n  'tables',\n  'all',\n  'are',\n  'occupied',\n  'mainly',\n  'by',\n  'the',\n  'escaped',\n  'old',\n  'dolls',\n  'the',\n  'kid',\n  'and',\n  'his',\n  'stillloyal',\n  'friends',\n  'hold',\n  'off',\n  'the',\n  'gangsters',\n  'as',\n  'the',\n  'police',\n  'initiate',\n  'a',\n  'raid',\n  'moran',\n  'and',\n  'charley',\n  'are',\n  'arrested',\n  'while',\n  'the',\n  'judge',\n  'who',\n  'sentenced',\n  'the',\n  'kid',\n  'earlier',\n  'warns',\n  'that',\n  'he',\n  'will',\n  'be',\n  'keeping',\n  'an',\n  'eye',\n  'on',\n  'him',\n  'the',\n  'kid',\n  'assures',\n  'him',\n  'that',\n  'will',\n  'not',\n  'be',\n  'necessary',\n  'and',\n  'his',\n  'attention',\n  'will',\n  'lie',\n  'on',\n  'the',\n  'home',\n  'which',\n  'is',\n  'going',\n  'to',\n  'become',\n  'a',\n  'reality',\n  'the',\n  'nights',\n  'main',\n  'event',\n  'begins',\n  'as',\n  'nellies',\n  'husband',\n  'henry',\n  'free',\n  'on',\n  'parole',\n  'joyously',\n  'reunites',\n  'with',\n  'his',\n  'wife'],\n ['595909',\n  'seventhday',\n  'adventist',\n  'church',\n  'pastor',\n  'michael',\n  'chamberlain',\n  'his',\n  'wife',\n  'lindy',\n  'their',\n  'two',\n  'sons',\n  'and',\n  'their',\n  'nineweekold',\n  'daughter',\n  'azaria',\n  'are',\n  'on',\n  'a',\n  'camping',\n  'holiday',\n  'in',\n  'the',\n  'outback',\n  'with',\n  'the',\n  'baby',\n  'sleeping',\n  'in',\n  'their',\n  'tent',\n  'the',\n  'family',\n  'is',\n  'enjoying',\n  'a',\n  'barbecue',\n  'with',\n  'their',\n  'fellow',\n  'campers',\n  'when',\n  'a',\n  'cry',\n  'is',\n  'heard',\n  'lindy',\n  'returns',\n  'to',\n  'the',\n  'tent',\n  'to',\n  'check',\n  'on',\n  'azaria',\n  'and',\n  'is',\n  'certain',\n  'she',\n  'sees',\n  'a',\n  'dingo',\n  'with',\n  'something',\n  'in',\n  'its',\n  'mouth',\n  'running',\n  'off',\n  'as',\n  'she',\n  'approaches',\n  'when',\n  'she',\n  'discovers',\n  'the',\n  'infant',\n  'is',\n  'missing',\n  'everyone',\n  'joins',\n  'forces',\n  'to',\n  'search',\n  'for',\n  'her',\n  'without',\n  'success',\n  'it',\n  'is',\n  'assumed',\n  'what',\n  'lindy',\n  'saw',\n  'was',\n  'the',\n  'animal',\n  'carrying',\n  'off',\n  'the',\n  'child',\n  'and',\n  'a',\n  'subsequent',\n  'inquest',\n  'rules',\n  'her',\n  'account',\n  'of',\n  'events',\n  'is',\n  'true',\n  'the',\n  'tide',\n  'of',\n  'public',\n  'opinion',\n  'soon',\n  'turns',\n  'against',\n  'the',\n  'chamberlains',\n  'for',\n  'many',\n  'lindy',\n  'seems',\n  'too',\n  'stoic',\n  'too',\n  'coldhearted',\n  'and',\n  'too',\n  'accepting',\n  'of',\n  'the',\n  'disaster',\n  'that',\n  'has',\n  'befallen',\n  'her',\n  'gossip',\n  'about',\n  'her',\n  'begins',\n  'to',\n  'swell',\n  'and',\n  'soon',\n  'is',\n  'accepted',\n  'as',\n  'statements',\n  'of',\n  'fact',\n  'the',\n  'couples',\n  'beliefs',\n  'are',\n  'not',\n  'widely',\n  'practised',\n  'in',\n  'the',\n  'country',\n  'and',\n \n\n*** WARNING: max output size exceeded, skipping output. ***\n\n  'there',\n  'a',\n  'man',\n  'shows',\n  'up',\n  'with',\n  'a',\n  'camera',\n  'a',\n  'reporter',\n  'tries',\n  'to',\n  'ask',\n  'a',\n  'member',\n  'of',\n  'the',\n  'secret',\n  'service',\n  'a',\n  'question',\n  'when',\n  'the',\n  'president',\n  'enters',\n  'he',\n  'is',\n  'shot',\n  'by',\n  'the',\n  'man',\n  'with',\n  'the',\n  'camera',\n  'the',\n  'presidents',\n  'main',\n  'bodyguard',\n  'alex',\n  'thomas',\n  '',\n  'is',\n  'grazed',\n  'by',\n  'the',\n  'bullet',\n  'that',\n  'hits',\n  'the',\n  'president',\n  'the',\n  'shooter',\n  'is',\n  'gunned',\n  'down',\n  'by',\n  'alex',\n  'and',\n  'other',\n  'secret',\n  'service',\n  'agents',\n  'the',\n  'president',\n  'dies',\n  'at',\n  'the',\n  'hospital',\n  'kate',\n  'crawford',\n  '',\n  'an',\n  'investigative',\n  'journalist',\n  'starts',\n  'asking',\n  'questions',\n  'about',\n  'the',\n  'assassination',\n  'anyone',\n  'she',\n  'questions',\n  'is',\n  'killed',\n  'she',\n  'goes',\n  'to',\n  'alex',\n  'thomass',\n  'house',\n  'to',\n  'tell',\n  'him',\n  'what',\n  'is',\n  'happening',\n  'as',\n  'they',\n  'head',\n  'to',\n  'his',\n  'boat',\n  'thomas',\n  'sees',\n  'some',\n  'men',\n  'hiding',\n  'in',\n  'the',\n  'bushes',\n  'he',\n  'throws',\n  'kate',\n  'into',\n  'the',\n  'water',\n  'and',\n  'dives',\n  'in',\n  'thomas',\n  'jumps',\n  'out',\n  'of',\n  'the',\n  'water',\n  'to',\n  'kill',\n  'two',\n  'of',\n  'the',\n  'hitmen',\n  'while',\n  'a',\n  'third',\n  'hitman',\n  'drives',\n  'off',\n  'to',\n  'inform',\n  'his',\n  'boss',\n  'what',\n  'happened',\n  'they',\n  'are',\n  'able',\n  'to',\n  'link',\n  'the',\n  'hitmen',\n  'to',\n  'a',\n  'man',\n  'called',\n  'jack',\n  'baldwin',\n  '',\n  'agent',\n  'thomas',\n  'and',\n  'other',\n  'secret',\n  'service',\n  'members',\n  'attack',\n  'the',\n  'location',\n  'of',\n  'jack',\n  'baldwin',\n  'baldwin',\n  'escapes',\n  'but',\n  'is',\n  'later',\n  'caught',\n  'by',\n  'thomas',\n  'thomas',\n  'and',\n  'crawford',\n  'are',\n  'suspicious',\n  'of',\n  'vaughan',\n  'stevens',\n  '',\n  'agent',\n  'thomass',\n  'boss',\n  'who',\n  'had',\n  'previous',\n  'links',\n  'to',\n  'baldwin',\n  'while',\n  'reviewing',\n  'film',\n  'of',\n  'the',\n  'assassination',\n  'at',\n  'his',\n  'house',\n  'thomas',\n  'discovers',\n  'that',\n  'stevens',\n  'handed',\n  'the',\n  'assassin',\n  'a',\n  'gun',\n  'during',\n  'the',\n  'presidents',\n  'entrance',\n  'thomas',\n  'leaves',\n  'to',\n  'find',\n  'stevens',\n  'while',\n  'kate',\n  'stays',\n  'at',\n  'his',\n  'house',\n  'when',\n  'thomas',\n  'arrives',\n  'at',\n  'stevens',\n  'home',\n  'he',\n  'finds',\n  'him',\n  'dead',\n  'before',\n  'entering',\n  'thomas',\n  'sees',\n  'a',\n  'car',\n  'leaving',\n  'the',\n  'house',\n  'he',\n  'then',\n  'receives',\n  'a',\n  'call',\n  'that',\n  'baldwin',\n  'has',\n  'escaped',\n  'kate',\n  'is',\n  'attacked',\n  'by',\n  'baldwin',\n  'but',\n  'thomas',\n  'arrives',\n  'and',\n  'kills',\n  'baldwin',\n  'thomas',\n  'arrives',\n  'at',\n  'the',\n  'first',\n  'ladys',\n  'home',\n  'to',\n  'see',\n  'the',\n  'car',\n  'that',\n  'left',\n  'stevens',\n  'house',\n  'pulling',\n  'away',\n  'thomas',\n  'discovers',\n  'that',\n  'the',\n  'first',\n  'lady',\n  'wanted',\n  'her',\n  'husband',\n  'killed',\n  '',\n  'due',\n  'to',\n  'the',\n  'fact',\n  'that',\n  'the',\n  'president',\n  'was',\n  'being',\n  'unfaithful',\n  'to',\n  'her',\n  'a',\n  'few',\n  'weeks',\n  'later',\n  'kate',\n  'and',\n  'thomas',\n  'have',\n  'dinner',\n  'thomas',\n  'says',\n  'that',\n  'he',\n  'still',\n  'doesnt',\n  'know',\n  'who',\n  'wanted',\n  'the',\n  'president',\n  'dead'],\n ['1952976',\n  'plot',\n  'the',\n  'film',\n  'opens',\n  'in',\n  '1974',\n  'as',\n  'a',\n  'young',\n  'girl',\n  'dahlia',\n  'stands',\n  'outside',\n  'after',\n  'school',\n  'in',\n  'the',\n  'rain',\n  'waiting',\n  'for',\n  'her',\n  'mother',\n  'flash',\n  'forward',\n  'to',\n  '2005',\n  'we',\n  'see',\n  'a',\n  'grownup',\n  'dahlia',\n  'in',\n  'the',\n  'midst',\n  'of',\n  'a',\n  'bitter',\n  'mediation',\n  'with',\n  'exhusband',\n  'kyle',\n  '',\n  'over',\n  'custody',\n  'of',\n  'their',\n  'daughter',\n  'cecilia',\n  '',\n  'kyle',\n  'wants',\n  'cecilia',\n  'to',\n  'live',\n  'closer',\n  'to',\n  'his',\n  'apartment',\n  'in',\n  'jersey',\n  'city',\n  'but',\n  'dahlia',\n  'wants',\n  'to',\n  'move',\n  'to',\n  'roosevelt',\n  'island',\n  'where',\n  'she',\n  'has',\n  'found',\n  'a',\n  'good',\n  'school',\n  'kyle',\n  'threatens',\n  'to',\n  'sue',\n  'for',\n  'full',\n  'custody',\n  'because',\n  'he',\n  'feels',\n  'the',\n  'distance',\n  'is',\n  'too',\n  'great',\n  'he',\n  'also',\n  'claims',\n  'that',\n  'dahlia',\n  'is',\n  'mentally',\n  'unstable',\n  'dahlia',\n  'and',\n  'cecilia',\n  'see',\n  'an',\n  'apartment',\n  'in',\n  'a',\n  'complex',\n  'on',\n  'roosevelt',\n  'island',\n  'which',\n  'is',\n  'just',\n  'a',\n  'few',\n  'blocks',\n  'from',\n  'cecilias',\n  'new',\n  'school',\n  'the',\n  'superintendent',\n  'of',\n  'the',\n  'dilapidated',\n  'building',\n  'is',\n  'mr',\n  'veeck',\n  '',\n  'the',\n  'manager',\n  'is',\n  'mr',\n  'murray',\n  '',\n  'during',\n  'the',\n  'tour',\n  'cecilia',\n  'sneaks',\n  'to',\n  'the',\n  'roof',\n  'where',\n  'she',\n  'finds',\n  'a',\n  'hello',\n  'kitty',\n  'backpack',\n  'near',\n  'a',\n  'large',\n  'water',\n  'tank',\n  'they',\n  'leave',\n  'the',\n  'bag',\n  'with',\n  'veeck',\n  'and',\n  'murray',\n  'promises',\n  'cecilia',\n  'that',\n  'she',\n  'can',\n  'have',\n  'it',\n  'if',\n  'no',\n  'one',\n  'claims',\n  'it',\n  'cecilia',\n  'who',\n  'had',\n  'disliked',\n  'the',\n  'apartment',\n  'now',\n  'wants',\n  'desperately',\n  'to',\n  'live',\n  'there',\n  'dahlia',\n  'agrees',\n  'to',\n  'move',\n  'in',\n  'shortly',\n  'after',\n  'the',\n  'bedroom',\n  'ceiling',\n  'begins',\n  'to',\n  'leak',\n  'dark',\n  'water',\n  'the',\n  'source',\n  'is',\n  'the',\n  'apartment',\n  'above',\n  '10f',\n  'where',\n  'the',\n  'rimsky',\n  'family',\n  'lived',\n  'up',\n  'until',\n  'a',\n  'month',\n  'ago',\n  'dahlia',\n  'enters',\n  '10f',\n  'and',\n  'finds',\n  'it',\n  'flooded',\n  'with',\n  'dark',\n  'water',\n  'flowing',\n  'from',\n  'every',\n  'faucet',\n  'the',\n  'walls',\n  'and',\n  'toilet',\n  'she',\n  'finds',\n  'a',\n  'family',\n  'portrait',\n  'of',\n  'the',\n  'former',\n  'tenants—a',\n  'mother',\n  'father',\n  'and',\n  'a',\n  'girl',\n  'cecilias',\n  'age',\n  'dahlia',\n  'complains',\n  'to',\n  'both',\n  'veeck',\n  'and',\n  'murray',\n  'about',\n  'the',\n  'water',\n  'but',\n  'the',\n  'former',\n  'does',\n  'little',\n  'about',\n  'it',\n  'despite',\n  'the',\n  'insistence',\n  'of',\n  'the',\n  'latter',\n  'dahlia',\n  'soon',\n  'has',\n  'dreams',\n  'of',\n  'a',\n  'little',\n  'girl',\n  'who',\n  'appears',\n  'to',\n  'be',\n  'cecilia',\n  'returning',\n  'from',\n  'a',\n  'visit',\n  'to',\n  'her',\n  'fathers',\n  'home',\n  'but',\n  'the',\n  'girls',\n  'appearance',\n  'changes',\n  'every',\n  'time',\n  'dahlia',\n  'looks',\n  'away',\n  'so',\n  'that',\n  'she',\n  'looks',\n  'like',\n  'the',\n  'girl',\n  'in',\n  'the',\n  'portrait',\n  'in',\n  '10f',\n  'cecilia',\n  'has',\n  'started',\n  'school',\n  'but',\n  'according',\n  'to',\n  'her',\n  'new',\n  'teacher',\n  '',\n  'she',\n  'isnt',\n  'fitting',\n  'in',\n  'and',\n  'is',\n  'spending',\n  'too',\n  'much',\n  'time',\n  'with',\n  'an',\n  'imaginary',\n  'friend',\n  'named',\n  'natasha',\n  'a',\n  'psychologist',\n  'is',\n  'recommended',\n  'but',\n  'dahlia',\n  'declines',\n  'and',\n  'tells',\n  'cecilia',\n  'to',\n  'ignore',\n  'natasha',\n  'although',\n  'veeck',\n  'had',\n  'said',\n  'it',\n  'was',\n  'claimed',\n  'dahlia',\n  'discovers',\n  'the',\n  'hello',\n  'kitty',\n  'backpack',\n  'in',\n  'the',\n  'laundry',\n  'rooms',\n  'garbage',\n  'cecilia',\n  'later',\n  'finds',\n  'it',\n  'in',\n  'the',\n  'elevator',\n  'the',\n  'name',\n  'in',\n  'the',\n  'backpack',\n  'reads',\n  'natasha',\n  'rimsky',\n  'the',\n  'ceiling',\n  'shoddily',\n  'patched',\n  'by',\n  'veeck',\n  'leaks',\n  'again',\n  'at',\n  'school',\n  'cecilia',\n  'appears',\n  'to',\n  'get',\n  'into',\n  'a',\n  'fight',\n  'with',\n  'natasha',\n  'who',\n  'appears',\n  'to',\n  'control',\n  'her',\n  'hand',\n  'while',\n  'painting',\n  'shes',\n  'taken',\n  'to',\n  'the',\n  'girls',\n  'bathroom',\n  'where',\n  'she',\n  'passes',\n  'out',\n  'after',\n  'dark',\n  'water',\n  'gushes',\n  'from',\n  'the',\n  'toilets',\n  'and',\n  'sinks',\n  'dahlia',\n  'who',\n  'is',\n  'meeting',\n  'with',\n  'her',\n  'lawyer',\n  'cant',\n  'be',\n  'reached',\n  'so',\n  'kyle',\n  'picks',\n  'her',\n  'up',\n  'and',\n  'takes',\n  'her',\n  'to',\n  'his',\n  'apartment',\n  'dahlia',\n  'breaks',\n  'down',\n  'when',\n  'she',\n  'cant',\n  'find',\n  'her',\n  'daughter',\n  'and',\n  'has',\n  'strange',\n  'dreams',\n  'these',\n  'lead',\n  'her',\n  'to',\n  'the',\n  'roof',\n  'and',\n  'up',\n  'the',\n  'ladder',\n  'of',\n  'the',\n  'water',\n  'tank',\n  'where',\n  'she',\n  'finds',\n  'natashas',\n  'body',\n  'when',\n  'police',\n  'arrive',\n  'they',\n  'discover',\n  'that',\n  'natashas',\n  'father',\n  'thought',\n  'she',\n  'was',\n  'with',\n  'her',\n  'mother',\n  'while',\n  'the',\n  'mother',\n  'thought',\n  'the',\n  'girl',\n  'was',\n  'with',\n  'her',\n  'father',\n  'the',\n  'girl',\n  'was',\n  'left',\n  'alone',\n  'in',\n  'the',\n  'abandoned',\n  'apartment',\n  'and',\n  'fell',\n  'into',\n  'the',\n  'water',\n  'tank',\n  'which',\n  'veeck',\n  'had',\n  'left',\n  'open',\n  'he',\n  'was',\n  'aware',\n  'of',\n  'her',\n  'body',\n  'which',\n  'was',\n  'why',\n  'he',\n  'refused',\n  'to',\n  'fix',\n  'the',\n  'water',\n  'problem',\n  'plaguing',\n  'the',\n  'complex',\n  'veeck',\n  'is',\n  'arrested',\n  'and',\n  'murray',\n  'is',\n  'questioned',\n  'dahlia',\n  'agrees',\n  'to',\n  'move',\n  'closer',\n  'to',\n  'kyle',\n  'so',\n  'shared',\n  'custody',\n  'will',\n  'go',\n  'easier',\n  'as',\n  'dahlia',\n  'packs',\n  'cecilia',\n  'is',\n  'taking',\n  'a',\n  'bath',\n  'a',\n  'girl',\n  'in',\n  'a',\n  'hooded',\n  'bathrobe',\n  'comes',\n  'out',\n  'of',\n  'the',\n  'bathroom',\n  'wanting',\n  'dahlia',\n  'to',\n  'read',\n  'to',\n  'her',\n  'when',\n  'she',\n  'hears',\n  'voices',\n  'in',\n  'the',\n  'bathroom',\n  'she',\n  'realizes',\n  'that',\n  'the',\n  'girl',\n  'is',\n  'natasha',\n  'natasha',\n  'begs',\n  'dahlia',\n  'not',\n  'to',\n  'leave',\n  'her',\n  'but',\n  'dahlia',\n  'rushes',\n  'into',\n  'the',\n  'bathroom',\n  'to',\n  'save',\n  'cecilia',\n  'natasha',\n  'then',\n  'locks',\n  'cecilia',\n  'in',\n  'the',\n  'shower',\n  'compartment',\n  'and',\n  'holds',\n  'her',\n  'underwater',\n  'dahlia',\n  'pleads',\n  'with',\n  'natasha',\n  'promising',\n  'to',\n  'be',\n  'her',\n  'mother',\n  'forever',\n  'natasha',\n  'lets',\n  'cecilia',\n  'go',\n  'and',\n  'floods',\n  'the',\n  'apartment',\n  'causing',\n  'dahlia',\n  'to',\n  'die',\n  'from',\n  'drowning',\n  'her',\n  'and',\n  'natashas',\n  'spirits',\n  'are',\n  'shown',\n  'walking',\n  'down',\n  'the',\n  'hallway',\n  'kyle',\n  'picks',\n  'up',\n  'cecilia',\n  'from',\n  'the',\n  'police',\n  'station',\n  'weeks',\n  'later',\n  'the',\n  'two',\n  'go',\n  'back',\n  'to',\n  'pick',\n  'up',\n  'the',\n  'rest',\n  'of',\n  'her',\n  'stuff',\n  'cecilia',\n  'has',\n  'a',\n  'flashback',\n  'of',\n  'her',\n  'and',\n  'her',\n  'mother',\n  'looking',\n  'at',\n  'pictures',\n  'together',\n  'and',\n  'in',\n  'the',\n  'elevator',\n  'her',\n  'mothers',\n  'ghost',\n  'braids',\n  'her',\n  'hair',\n  'and',\n  'comforts',\n  'her—telling',\n  'her',\n  'she',\n  'will',\n  'always',\n  'be',\n  'there',\n  'kyle',\n  'momentarily',\n  'horrified',\n  'with',\n  'a',\n  'malfunction',\n  'in',\n  'the',\n  'elevator',\n  'the',\n  'weird',\n  'behavior',\n  'of',\n  'his',\n  'daughter',\n  'and',\n  'perhaps',\n  'noticing',\n  'her',\n  'hair',\n  'had',\n  'been',\n  'braided',\n  'finally',\n  'takes',\n  'her',\n  'to',\n  'his',\n  'apartment',\n  'in',\n  'jersey',\n  'city'],\n ['24225279',\n  'the',\n  'story',\n  'begins',\n  'with',\n  'hannah',\n  'a',\n  'young',\n  'jewish',\n  'teen',\n  'as',\n  'she',\n  'is',\n  'completing',\n  'her',\n  'senior',\n  'year',\n  'of',\n  'high',\n  'school',\n  'her',\n  'small',\n  'neighborhood',\n  'in',\n  'brooklyn',\n  'is',\n  'falling',\n  'apart',\n  'and',\n  'sing',\n  'is',\n  'one',\n  'of',\n  'the',\n  'only',\n  'traditions',\n  'keeping',\n  'the',\n  'neighborhood',\n  'alive',\n  'newly',\n  'arrived',\n  'teacher',\n  'miss',\n  'lombardo',\n  'grew',\n  'up',\n  'in',\n  'the',\n  'neighborhood',\n  'but',\n  'returned',\n  'to',\n  'be',\n  'their',\n  'sing',\n  'leader',\n  'one',\n  'cold',\n  'christmas',\n  'night',\n  'miss',\n  'lombardo',\n  'is',\n  'leaving',\n  'a',\n  'neighborhood',\n  'party',\n  'when',\n  'a',\n  'young',\n  'man',\n  'hails',\n  'her',\n  'a',\n  'cab',\n  'then',\n  'attempts',\n  'to',\n  'mug',\n  'her',\n  'in',\n  'self',\n  'defense',\n  'she',\n  'bites',\n  'his',\n  'hand',\n  'to',\n  'release',\n  'his',\n  'grip',\n  'and',\n  'he',\n  'screams',\n  'in',\n  'pain',\n  'and',\n  'terror',\n  'quickly',\n  'making',\n  'an',\n  'exit',\n  'the',\n  'cab',\n  'driver',\n  'jokes',\n  'about',\n  'not',\n  'starting',\n  'the',\n  'meter',\n  'yet',\n  'on',\n  'the',\n  'first',\n  'day',\n  'of',\n  'school',\n  'miss',\n  'lombardo',\n  'runs',\n  'into',\n  'difficulty',\n  'when',\n  'her',\n  'students',\n  'are',\n  'uninterested',\n  'and',\n  'misbehaved',\n  'one',\n  'such',\n  'student',\n  'was',\n  'named',\n  'dominic',\n  'who',\n  'gets',\n  'scolded',\n  'for',\n  'bringing',\n  'stolen',\n  'watches',\n  'to',\n  'school',\n  'grounds',\n  'and',\n  'putting',\n  'his',\n  'feet',\n  'up',\n  'on',\n  'the',\n  'desk',\n  'on',\n  'the',\n  'day',\n  'of',\n  'sing',\n  'leader',\n  'elections',\n  'miss',\n  'lombardo',\n  'recognizes',\n  'dominic',\n  'as',\n  'her',\n  'mugger',\n  'by',\n  'the',\n  'bandage',\n  'on',\n  'his',\n  'hand',\n  'and',\n  'decides',\n  'to',\n  'blackmail',\n  'him',\n  'into',\n  'being',\n  'cosing',\n  'leader',\n  'of',\n  'the',\n  'senior',\n  'class',\n  'along',\n  'with',\n  'hannah',\n  'who',\n  'was',\n  'rightfully',\n  'elected',\n  'the',\n  'school',\n  'kids',\n  'work',\n  'hard',\n  'to',\n  'plan',\n  'their',\n  'sing',\n  'productions',\n  'hannah',\n  'and',\n  'dominic',\n  'clash',\n  'along',\n  'the',\n  'way',\n  'as',\n  'hannah',\n  'uses',\n  'traditional',\n  'sing',\n  'planning',\n  'strategies',\n  'while',\n  'dominic',\n  'wants',\n  'to',\n  'introduce',\n  'the',\n  'flavor',\n  'of',\n  'the',\n  'youth',\n  'in',\n  'the',\n  'neighborhood',\n  'in',\n  'order',\n  'to',\n  'put',\n  'dominic',\n  'and',\n  'hannah',\n  'on',\n  'the',\n  'same',\n  'page',\n  'miss',\n  'lombardo',\n  'suggests',\n  'that',\n  'hannah',\n  'accompany',\n  'dominic',\n  'to',\n  'a',\n  'local',\n  'club',\n  'at',\n  'first',\n  'the',\n  'two',\n  'are',\n  'equally',\n  'hesitant',\n  'but',\n  'hannah',\n  'agrees',\n  'on',\n  'the',\n  'terms',\n  'that',\n  'it',\n  'is',\n  'not',\n  'a',\n  'date',\n  'however',\n  'by',\n  'the',\n  'end',\n  'of',\n  'the',\n  'night',\n  'hannah',\n  'uses',\n  'dominic',\n  'to',\n  'make',\n  'her',\n  'ex',\n  'boyfriend',\n  'mickey',\n  'jealous',\n  'and',\n  'due',\n  'to',\n  'this',\n  'hannah',\n  'and',\n  'dominic',\n  'start',\n  'seeing',\n  'each',\n  'other',\n  'in',\n  'a',\n  'different',\n  'light',\n  'dominic',\n  'accompanies',\n  'hannah',\n  'on',\n  'her',\n  'walk',\n  'home',\n  'and',\n  'the',\n  'two',\n  'share',\n  'a',\n  'romantic',\n  'kiss',\n  'once',\n  'the',\n  'two',\n  'are',\n  'finally',\n  'uniting',\n  'and',\n  'getting',\n  'along',\n  'the',\n  'dept',\n  'of',\n  'education',\n  'informs',\n  'the',\n  'school',\n  'that',\n  'it',\n  'will',\n  'close',\n  'its',\n  'doors',\n  'forever',\n  'at',\n  'the',\n  'end',\n  'of',\n  'this',\n  'semester',\n  'and',\n  'therefore',\n  'there',\n  'will',\n  'not',\n  'be',\n  'enough',\n  'resources',\n  'for',\n  'them',\n  'to',\n  'complete',\n  'this',\n  'years',\n  'sing',\n  'this',\n  'fuels',\n  'the',\n  'kids',\n  'to',\n  'work',\n  'even',\n  'harder',\n  'on',\n  'their',\n  'productions',\n  'and',\n  'the',\n  'neighborhood',\n  'comes',\n  'together',\n  'even',\n  'more',\n  'to',\n  'help',\n  'finance',\n  'the',\n  'show',\n  'despite',\n  'the',\n  'school',\n  'authorities',\n  'ban',\n  'ironically',\n  'just',\n  'as',\n  'things',\n  'are',\n  'starting',\n  'to',\n  'look',\n  'up',\n  'dominic',\n  'reluctantly',\n  'accompanies',\n  'his',\n  'brother',\n  'on',\n  'a',\n  'robbery',\n  'of',\n  'hannahs',\n  'mothers',\n  'diner',\n  'their',\n  'sole',\n  'source',\n  'of',\n  'income',\n  'which',\n  'already',\n  'was',\n  'at',\n  'risk',\n  'of',\n  'failure',\n  'due',\n  'to',\n  'the',\n  'schools',\n  'upcoming',\n  'closure',\n  'a',\n  'classmate',\n  'saw',\n  'dominic',\n  'standing',\n  'outside',\n  'the',\n  'diner',\n  'at',\n  'the',\n  'time',\n  'of',\n  'the',\n  'crime',\n  'and',\n  'informed',\n  'hannah',\n  'of',\n  'what',\n  'he',\n  'saw',\n  'devastated',\n  'hannah',\n  'confronts',\n  'dominic',\n  'and',\n  'he',\n  'promises',\n  'to',\n  'get',\n  'the',\n  'money',\n  'back',\n  'for',\n  'her',\n  'he',\n  'then',\n  'steals',\n  'the',\n  'money',\n  'back',\n  'from',\n  'his',\n  'brother',\n  'and',\n  'returns',\n  'it',\n  'to',\n  'the',\n  'diner',\n  'restoring',\n  'hannahs',\n  'faith',\n  'in',\n  'him',\n  'the',\n  'recent',\n  'events',\n  'had',\n  'discouraged',\n  'dominic',\n  'from',\n  'fulfilling',\n  'his',\n  'cosing',\n  'leader',\n  'duties',\n  'and',\n  'he',\n  'had',\n  'been',\n  'skipping',\n  'out',\n  'on',\n  'rehearsals',\n  'in',\n  'a',\n  'moment',\n  'of',\n  'great',\n  'need',\n  'as',\n  'the',\n  'seniors',\n  'main',\n  'performer',\n  'falls',\n  'unconscious',\n  'dominic',\n  'steps',\n  'in',\n  'to',\n  'save',\n  'the',\n  'show',\n  'he',\n  'sheds',\n  'his',\n  'badboy',\n  'demeanor',\n  'and',\n  'exceeds',\n  'all',\n  'expectations',\n  'the',\n  'underclassmen',\n  'and',\n  'seniors',\n  'perform',\n  'to',\n  'a',\n  'recordhigh',\n  'sold',\n  'out',\n  'audience',\n  'at',\n  'the',\n  'end',\n  'of',\n  'the',\n  'show',\n  'hannah',\n  'makes',\n  'a',\n  'moving',\n  'speech',\n  'motivating',\n  'the',\n  'community',\n  'to',\n  'rejoice',\n  'and',\n  'always',\n  'remember',\n  'that',\n  'despite',\n  'compromising',\n  'circumstances',\n  'they',\n  'completed',\n  'a',\n  'successful',\n  'sing',\n  'and',\n  'proved',\n  'their',\n  'communitys',\n  'worth'],\n ['2462689',\n  'infuriated',\n  'at',\n  'being',\n  'told',\n  'to',\n  'write',\n  'one',\n  'final',\n  'column',\n  'after',\n  'being',\n  'laid',\n  'off',\n  'from',\n  'her',\n  'newspaper',\n  'job',\n  'ann',\n  'mitchell',\n  'prints',\n  'a',\n  'letter',\n  'from',\n  'a',\n  'fictional',\n  'unemployed',\n  'john',\n  'doe',\n  'threatening',\n  'suicide',\n  'on',\n  'christmas',\n  'eve',\n  'in',\n  'protest',\n  'of',\n  'societys',\n  'ills',\n  'when',\n  'the',\n  'note',\n  'causes',\n  'a',\n  'sensation',\n  'and',\n  'the',\n  'papers',\n  'competition',\n  'suspects',\n  'a',\n  'fraud',\n  'and',\n  'starts',\n  'to',\n  'investigate',\n  'the',\n  'newspaper',\n  'editor',\n  'rehires',\n  'mitchell',\n  'who',\n  'comes',\n  'up',\n  'with',\n  'a',\n  'scheme',\n  'of',\n  'hiding',\n  'the',\n  'fictional',\n  'nature',\n  'of',\n  'john',\n  'doe',\n  'while',\n  'exploiting',\n  'the',\n  'sensation',\n  'caused',\n  'by',\n  'the',\n  'fake',\n  'letter',\n  'to',\n  'boost',\n  'the',\n  'newspapers',\n  'sales',\n  'for',\n  'which',\n  'she',\n  'demands',\n  'a',\n  'bonus',\n  'equal',\n  'to',\n  '8',\n  'months',\n  'pay',\n  'after',\n  'reviewing',\n  'a',\n  'number',\n  'of',\n  'derelicts',\n  'who',\n  'have',\n  'shown',\n  'up',\n  'at',\n  'the',\n  'paper',\n  'claiming',\n  'to',\n  'have',\n  'penned',\n  'the',\n  'original',\n  'suicide',\n  'letter',\n  'mitchell',\n  'and',\n  'editor',\n  'henry',\n  'connell',\n  'hire',\n  'john',\n  'willoughby',\n  '',\n  'a',\n  'former',\n  'baseball',\n  'player',\n  'and',\n  'tramp',\n  'who',\n  'is',\n  'in',\n  'need',\n  'of',\n  'money',\n  'to',\n  'repair',\n  'his',\n  'injured',\n  'arm',\n  'to',\n  'play',\n  'john',\n  'doe',\n  'mitchell',\n  'now',\n  'starts',\n  'to',\n  'pen',\n  'an',\n  'article',\n  'series',\n  'in',\n  'does',\n  'name',\n  'elaborating',\n  'on',\n  'the',\n  'letters',\n  'ideas',\n  'of',\n  'societys',\n  'disregard',\n  'of',\n  'people',\n  'in',\n  'need',\n  'willoughby',\n  'gets',\n  '50',\n  'a',\n  'new',\n  'suit',\n  'of',\n  'clothes',\n  'and',\n  'a',\n  'plush',\n  'hotel',\n  'suite',\n  'with',\n  'his',\n  'tramp',\n  'friend',\n  '',\n  'who',\n  'launches',\n  'into',\n  'an',\n  'extended',\n  'diatribe',\n  'against',\n  'the',\n  'heelots',\n  'lots',\n  'of',\n  'heels',\n  'who',\n  'incessantly',\n  'focus',\n  'on',\n  'getting',\n  'money',\n  'from',\n  'others',\n  'willoughby',\n  'is',\n  'hired',\n  'to',\n  'give',\n  'radio',\n  'speeches',\n  'guided',\n  'by',\n  'mitchell',\n  'who',\n  'is',\n  'promised',\n  '100',\n  'a',\n  'week',\n  'to',\n  'write',\n  'his',\n  'speeches',\n  'paid',\n  'by',\n  'the',\n  'newspapers',\n  'publisher',\n  'db',\n  'norton',\n  'edward',\n  'arnold',\n  '',\n  'willoughby',\n  'turns',\n  'down',\n  'a',\n  '5000',\n  'bribe',\n  'to',\n  'admit',\n  'the',\n  'whole',\n  'thing',\n  'was',\n  'a',\n  'publicity',\n  'stunt',\n  'gives',\n  'mitchells',\n  'speech',\n  'and',\n  'dashes',\n  'off',\n  'to',\n  'the',\n  'countryside',\n  'with',\n  'the',\n  'colonel',\n  'they',\n  'ride',\n  'the',\n  'rails',\n  'playing',\n  'the',\n  'harmonica',\n  'and',\n  'ocarina',\n  'until',\n  'they',\n  'show',\n  'up',\n  'in',\n  'millsville',\n  'where',\n  'john',\n  'doe',\n  'is',\n  'recognized',\n  'at',\n  'a',\n  'diner',\n  'hes',\n  'brought',\n  'to',\n  'city',\n  'hall',\n  'where',\n  'hes',\n  'met',\n  'by',\n  'hanson',\n  'who',\n  'gives',\n  'a',\n  'fiveminute',\n  'monologue',\n  'about',\n  'how',\n  'he',\n  'was',\n  'inspired',\n  'to',\n  'start',\n  'a',\n  'local',\n  'john',\n  'doe',\n  'club',\n  'the',\n  'john',\n  'doe',\n  'philosophy',\n  'spreads',\n  'across',\n  'the',\n  'country',\n  'developing',\n  'into',\n  'a',\n  'broad',\n  'grassroots',\n  'movement',\n  'whose',\n  'simple',\n  'slogan',\n  'is',\n  'be',\n  'a',\n  'better',\n  'neighbor',\n  'far',\n  'from',\n  'being',\n  'an',\n  'altruistic',\n  'philanthropist',\n  'however',\n  'norton',\n  'plans',\n  'to',\n  'channel',\n  'the',\n  'support',\n  'for',\n  'doe',\n  'into',\n  'support',\n  'for',\n  'his',\n  'own',\n  'national',\n  'political',\n  'ambitions',\n  'as',\n  'a',\n  'culmination',\n  'of',\n  'this',\n  'plan',\n  'norton',\n  'has',\n  'instructed',\n  'mitchell',\n  'to',\n  'write',\n  'a',\n  'speech',\n  'for',\n  'willoughby',\n  'in',\n  'which',\n  'he',\n  'announces',\n  'the',\n  'foundation',\n  'of',\n  'a',\n  'new',\n  'political',\n  'party',\n  'and',\n  'endorses',\n  'norton',\n  'as',\n  'its',\n  'presidential',\n  'candidate',\n  'when',\n  'willoughby',\n  'who',\n  'has',\n  'come',\n  'to',\n  'believe',\n  'in',\n  'the',\n  'john',\n  'doe',\n  'philosophy',\n  'himself',\n  'realizes',\n  'that',\n  'he',\n  'is',\n  'being',\n  'used',\n  'he',\n  'tries',\n  'to',\n  'expose',\n  'the',\n  'plot',\n  'but',\n  'is',\n  'first',\n  'stymied',\n  'in',\n  'his',\n  'attempts',\n  'to',\n  'talk',\n  'his',\n  'own',\n  'mind',\n  'to',\n  'a',\n  'nationwide',\n  'radio',\n  'audience',\n  'at',\n  'the',\n  'rally',\n  'instead',\n  'of',\n  'reading',\n  'the',\n  'prepared',\n  'speech',\n  'and',\n  'then',\n  'exposed',\n  'as',\n  'a',\n  'fake',\n  'by',\n  'norton',\n  'who',\n  'claims',\n  'to',\n  'have',\n  'been',\n  'deceived',\n  'like',\n  'everyone',\n  'else',\n  'by',\n  'the',\n  'staff',\n  'of',\n  'the',\n  'newspaper',\n  'frustrated',\n  'by',\n  'his',\n  'failure',\n  'willoughby',\n  'intends',\n  'to',\n  'commit',\n  'suicide',\n  'by',\n  'jumping',\n  'from',\n  'the',\n  'roof',\n  'of',\n  'the',\n  'city',\n  'hall',\n  'on',\n  'christmas',\n  'eve',\n  'as',\n  'indicated',\n  'in',\n  'the',\n  'original',\n  'john',\n  'doe',\n  'letter',\n  'only',\n  'the',\n  'intervention',\n  'of',\n  'mitchell',\n  'and',\n  'followers',\n  'of',\n  'the',\n  'john',\n  'doe',\n  'clubs',\n  'persuades',\n  'him',\n  'to',\n  'renege',\n  'on',\n  'his',\n  'threat',\n  'to',\n  'kill',\n  'himself',\n  'at',\n  'this',\n  'point',\n  'in',\n  'the',\n  'movie',\n  'a',\n  'reference',\n  'to',\n  'jesus',\n  'christ',\n  'is',\n  'made',\n  'that',\n  'a',\n  'historical',\n  'john',\n  'doe',\n  'has',\n  'already',\n  'died',\n  'for',\n  'the',\n  'sake',\n  'of',\n  'humanity',\n  'the',\n  'film',\n  'ends',\n  'with',\n  'connell',\n  'turning',\n  'to',\n  'norton',\n  'and',\n  'saying',\n  'there',\n  'you',\n  'are',\n  'norton',\n  'the',\n  'people',\n  'try',\n  'and',\n  'lick',\n  'that'],\n ['20532852',\n  'a',\n  'line',\n  'of',\n  'people',\n  'drool',\n  'at',\n  'the',\n  'window',\n  'of',\n  'the',\n  'shop',\n  'of',\n  'market',\n  'butcher',\n  'buzz',\n  'buzzard',\n  'a',\n  'short',\n  'series',\n  'of',\n  'gags',\n  'ensues',\n  'about',\n  'how',\n  'buzz',\n  'dishonestly',\n  'jacks',\n  'up',\n  'all',\n  'his',\n  'prices',\n  'since',\n  'woody',\n  'is',\n  'broke',\n  'as',\n  'usual',\n  'he',\n  'sneaks',\n  'in',\n  'and',\n  'gets',\n  'thrown',\n  'out',\n  'by',\n  'buzz',\n  'on',\n  'the',\n  'way',\n  'out',\n  'woody',\n  'collides',\n  'with',\n  'a',\n  'bottle',\n  'of',\n  'invisible',\n  'ink',\n  'and',\n  'turns',\n  'partially',\n  'invisible',\n  'buzz',\n  'can',\n  'only',\n  'see',\n  'parts',\n  'of',\n  'woodys',\n  'body',\n  'and',\n  'in',\n  'a',\n  'somewhat',\n  'gruesome',\n  'scene',\n  'thinks',\n  'that',\n  'hes',\n  'been',\n  'dismembered',\n  'so',\n  'he',\n  'sweeps',\n  'him',\n  'into',\n  'a',\n  'trap',\n  'door',\n  'to',\n  'get',\n  'rid',\n  'of',\n  'him',\n  'when',\n  'woody',\n  'awakes',\n  'he',\n  'realizes',\n  'what',\n  'is',\n  'happening',\n  'and',\n  'he',\n  'douses',\n  'himself',\n  'with',\n  'the',\n  'rest',\n  'of',\n  'the',\n  'ink',\n  'in',\n  'order',\n  'to',\n  'pose',\n  'as',\n  'a',\n  'ghost']]"
     ]
    }
   ],
   "source": [
    "ps.take(10)"
   ]
  },
  {
   "cell_type": "code",
   "execution_count": 0,
   "metadata": {
    "application/vnd.databricks.v1+cell": {
     "cellMetadata": {
      "byteLimit": 2048000,
      "rowLimit": 10000
     },
     "inputWidgets": {},
     "nuid": "583e9830-2578-4ac2-9cfc-5fcd169dbecb",
     "showTitle": false,
     "title": ""
    }
   },
   "outputs": [],
   "source": [
    "# remove strings with length <= 2\n",
    "\n",
    "def remove_small_strings(x):\n",
    "    return [word for word in x if len(word)>2]\n",
    "\n",
    "ps = ps.map(remove_small_strings)"
   ]
  },
  {
   "cell_type": "code",
   "execution_count": 0,
   "metadata": {
    "application/vnd.databricks.v1+cell": {
     "cellMetadata": {
      "byteLimit": 2048000,
      "rowLimit": 10000
     },
     "inputWidgets": {},
     "nuid": "b9fb44f0-d3dd-456c-b4ed-9cc3cfa81c80",
     "showTitle": false,
     "title": ""
    }
   },
   "outputs": [
    {
     "output_type": "stream",
     "name": "stdout",
     "output_type": "stream",
     "text": [
      "Out[10]: [['23890098',\n  'shlykov',\n  'hardworking',\n  'taxi',\n  'driver',\n  'and',\n  'lyosha',\n  'saxophonist',\n  'develop',\n  'bizarre',\n  'lovehate',\n  'relationship',\n  'and',\n  'despite',\n  'their',\n  'prejudices',\n  'realize',\n  'they',\n  'arent',\n  'different',\n  'after',\n  'all'],\n ['31186339',\n  'the',\n  'nation',\n  'panem',\n  'consists',\n  'wealthy',\n  'capitol',\n  'and',\n  'twelve',\n  'poorer',\n  'districts',\n  'punishment',\n  'for',\n  'past',\n  'rebellion',\n  'each',\n  'district',\n  'must',\n  'provide',\n  'boy',\n  'and',\n  'girl',\n  'between',\n  'the',\n  'ages',\n  'and',\n  'selected',\n  'lottery',\n  'for',\n  'the',\n  'annual',\n  'hunger',\n  'games',\n  'the',\n  'tributes',\n  'must',\n  'fight',\n  'the',\n  'death',\n  'arena',\n  'the',\n  'sole',\n  'survivor',\n  'rewarded',\n  'with',\n  'fame',\n  'and',\n  'wealth',\n  'her',\n  'first',\n  'reaping',\n  '12yearold',\n  'primrose',\n  'everdeen',\n  'chosen',\n  'from',\n  'district',\n  'her',\n  'older',\n  'sister',\n  'katniss',\n  'volunteers',\n  'take',\n  'her',\n  'place',\n  'peeta',\n  'mellark',\n  'bakers',\n  'son',\n  'who',\n  'once',\n  'gave',\n  'katniss',\n  'bread',\n  'when',\n  'she',\n  'was',\n  'starving',\n  'the',\n  'other',\n  'district',\n  'tribute',\n  'katniss',\n  'and',\n  'peeta',\n  'are',\n  'taken',\n  'the',\n  'capitol',\n  'accompanied',\n  'their',\n  'frequently',\n  'drunk',\n  'mentor',\n  'past',\n  'victor',\n  'haymitch',\n  'abernathy',\n  'warns',\n  'them',\n  'about',\n  'the',\n  'career',\n  'tributes',\n  'who',\n  'train',\n  'intensively',\n  'special',\n  'academies',\n  'and',\n  'almost',\n  'always',\n  'win',\n  'during',\n  'interview',\n  'with',\n  'caesar',\n  'flickerman',\n  'peeta',\n  'unexpectedly',\n  'reveals',\n  'his',\n  'love',\n  'for',\n  'katniss',\n  'she',\n  'outraged',\n  'believing',\n  'ploy',\n  'gain',\n  'audience',\n  'support',\n  'sponsors',\n  'may',\n  'provide',\n  'ingames',\n  'gifts',\n  'food',\n  'medicine',\n  'and',\n  'tools',\n  'however',\n  'she',\n  'discovers',\n  'peeta',\n  'meant',\n  'what',\n  'said',\n  'the',\n  'televised',\n  'games',\n  'begin',\n  'with',\n  'half',\n  'the',\n  'tributes',\n  'killed',\n  'the',\n  'first',\n  'few',\n  'minutes',\n  'katniss',\n  'barely',\n  'survives',\n  'ignoring',\n  'haymitchs',\n  'advice',\n  'run',\n  'away',\n  'from',\n  'the',\n  'melee',\n  'over',\n  'the',\n  'tempting',\n  'supplies',\n  'and',\n  'weapons',\n  'strewn',\n  'front',\n  'structure',\n  'called',\n  'the',\n  'cornucopia',\n  'peeta',\n  'forms',\n  'uneasy',\n  'alliance',\n  'with',\n  'the',\n  'four',\n  'careers',\n  'they',\n  'later',\n  'find',\n  'katniss',\n  'and',\n  'corner',\n  'her',\n  'tree',\n  'rue',\n  'hiding',\n  'nearby',\n  'tree',\n  'draws',\n  'her',\n  'attention',\n  'poisonous',\n  'tracker',\n  'jacker',\n  'nest',\n  'hanging',\n  'from',\n  'branch',\n  'katniss',\n  'drops',\n  'her',\n  'sleeping',\n  'besiegers',\n  'they',\n  'all',\n  'scatter',\n  'except',\n  'for',\n  'glimmer',\n  'who',\n  'killed',\n  'the',\n  'insects',\n  'hallucinating',\n  'due',\n  'tracker',\n  'jacker',\n  'venom',\n  'katniss',\n  'warned',\n  'run',\n  'away',\n  'peeta',\n  'rue',\n  'cares',\n  'for',\n  'katniss',\n  'for',\n  'couple',\n  'days',\n  'until',\n  'she',\n  'recovers',\n  'meanwhile',\n  'the',\n  'alliance',\n  'has',\n  'gathered',\n  'all',\n  'the',\n  'supplies',\n  'into',\n  'pile',\n  'katniss',\n  'has',\n  'rue',\n  'draw',\n  'them',\n  'off',\n  'then',\n  'destroys',\n  'the',\n  'stockpile',\n  'setting',\n  'off',\n  'the',\n  'mines',\n  'planted',\n  'around',\n  'furious',\n  'cato',\n  'kills',\n  'the',\n  'boy',\n  'assigned',\n  'guard',\n  'katniss',\n  'runs',\n  'from',\n  'the',\n  'scene',\n  'she',\n  'hears',\n  'rue',\n  'calling',\n  'her',\n  'name',\n  'she',\n  'finds',\n  'rue',\n  'trapped',\n  'and',\n  'releases',\n  'her',\n  'marvel',\n  'tribute',\n  'from',\n  'district',\n  'throws',\n  'spear',\n  'katniss',\n  'but',\n  'she',\n  'dodges',\n  'the',\n  'spear',\n  'causing',\n  'stab',\n  'rue',\n  'the',\n  'stomach',\n  'instead',\n  'katniss',\n  'shoots',\n  'him',\n  'dead',\n  'with',\n  'arrow',\n  'she',\n  'then',\n  'comforts',\n  'the',\n  'dying',\n  'rue',\n  'with',\n  'song',\n  'afterward',\n  'she',\n  'gathers',\n  'and',\n  'arranges',\n  'flowers',\n  'around',\n  'rues',\n  'body',\n  'when',\n  'this',\n  'televised',\n  'sparks',\n  'riot',\n  'rues',\n  'district',\n  'president',\n  'snow',\n  'summons',\n  'seneca',\n  'crane',\n  'the',\n  'gamemaker',\n  'express',\n  'his',\n  'displeasure',\n  'the',\n  'way',\n  'the',\n  'games',\n  'are',\n  'turning',\n  'out',\n  'since',\n  'katniss',\n  'and',\n  'peeta',\n  'have',\n  'been',\n  'presented',\n  'the',\n  'public',\n  'starcrossed',\n  'lovers',\n  'haymitch',\n  'able',\n  'convince',\n  'crane',\n  'make',\n  'rule',\n  'change',\n  'avoid',\n  'inciting',\n  'further',\n  'riots',\n  'announced',\n  'that',\n  'tributes',\n  'from',\n  'the',\n  'same',\n  'district',\n  'can',\n  'win',\n  'pair',\n  'upon',\n  'hearing',\n  'this',\n  'katniss',\n  'searches',\n  'for',\n  'peeta',\n  'and',\n  'finds',\n  'him',\n  'with',\n  'infected',\n  'sword',\n  'wound',\n  'the',\n  'leg',\n  'she',\n  'portrays',\n  'herself',\n  'deeply',\n  'love',\n  'with',\n  'him',\n  'and',\n  'gains',\n  'sponsors',\n  'gift',\n  'soup',\n  'announcer',\n  'proclaims',\n  'feast',\n  'where',\n  'the',\n  'thing',\n  'each',\n  'survivor',\n  'needs',\n  'most',\n  'will',\n  'provided',\n  'peeta',\n  'begs',\n  'her',\n  'not',\n  'risk',\n  'getting',\n  'him',\n  'medicine',\n  'katniss',\n  'promises',\n  'not',\n  'but',\n  'after',\n  'falls',\n  'asleep',\n  'she',\n  'heads',\n  'the',\n  'feast',\n  'clove',\n  'ambushes',\n  'her',\n  'and',\n  'pins',\n  'her',\n  'down',\n  'clove',\n  'gloats',\n  'thresh',\n  'the',\n  'other',\n  'district',\n  'tribute',\n  'kills',\n  'clove',\n  'after',\n  'overhearing',\n  'her',\n  'tormenting',\n  'katniss',\n  'about',\n  'killing',\n  'rue',\n  'spares',\n  'katniss',\n  'just',\n  'this',\n  'timefor',\n  'rue',\n  'the',\n  'medicine',\n  'works',\n  'keeping',\n  'peeta',\n  'mobile',\n  'foxface',\n  'the',\n  'girl',\n  'from',\n  'district',\n  'dies',\n  'from',\n  'eating',\n  'nightlock',\n  'berries',\n  'she',\n  'stole',\n  'from',\n  'peeta',\n  'neither',\n  'knew',\n  'they',\n  'are',\n  'highly',\n  'poisonous',\n  'crane',\n  'changes',\n  'the',\n  'time',\n  'day',\n  'the',\n  'arena',\n  'late',\n  'night',\n  'and',\n  'unleashes',\n  'pack',\n  'houndlike',\n  'creatures',\n  'speed',\n  'things',\n  'they',\n  'kill',\n  'thresh',\n  'and',\n  'force',\n  'katniss',\n  'and',\n  'peeta',\n  'flee',\n  'the',\n  'roof',\n  'the',\n  'cornucopia',\n  'where',\n  'they',\n  'encounter',\n  'cato',\n  'after',\n  'battle',\n  'katniss',\n  'wounds',\n  'cato',\n  'with',\n  'arrow',\n  'and',\n  'peeta',\n  'hurls',\n  'him',\n  'the',\n  'creatures',\n  'below',\n  'katniss',\n  'shoots',\n  'cato',\n  'spare',\n  'him',\n  'prolonged',\n  'death',\n  'with',\n  'peeta',\n  'and',\n  'katniss',\n  'apparently',\n  'victorious',\n  'the',\n  'rule',\n  'change',\n  'allowing',\n  'two',\n  'winners',\n  'suddenly',\n  'revoked',\n  'peeta',\n  'tells',\n  'katniss',\n  'shoot',\n  'him',\n  'instead',\n  'she',\n  'gives',\n  'him',\n  'half',\n  'the',\n  'nightlock',\n  'however',\n  'before',\n  'they',\n  'can',\n  'commit',\n  'suicide',\n  'they',\n  'are',\n  'hastily',\n  'proclaimed',\n  'the',\n  'victors',\n  'the',\n  '74th',\n  'hunger',\n  'games',\n  'haymitch',\n  'warns',\n  'katniss',\n  'that',\n  'she',\n  'has',\n  'made',\n  'powerful',\n  'enemies',\n  'after',\n  'her',\n  'display',\n  'defiance',\n  'she',\n  'and',\n  'peeta',\n  'return',\n  'district',\n  'while',\n  'crane',\n  'locked',\n  'room',\n  'with',\n  'bowl',\n  'nightlock',\n  'berries',\n  'and',\n  'president',\n  'snow',\n  'considers',\n  'the',\n  'situation'],\n ['20663735',\n  'poovalli',\n  'induchoodan',\n  'sentenced',\n  'for',\n  'six',\n  'years',\n  'prison',\n  'life',\n  'for',\n  'murdering',\n  'his',\n  'classmate',\n  'induchoodan',\n  'the',\n  'only',\n  'son',\n  'justice',\n  'maranchery',\n  'karunakara',\n  'menon',\n  'was',\n  'framed',\n  'the',\n  'case',\n  'manapally',\n  'madhavan',\n  'nambiar',\n  'and',\n  'his',\n  'crony',\n  'dysp',\n  'sankaranarayanan',\n  'take',\n  'revenge',\n  'idealist',\n  'judge',\n  'menon',\n  'who',\n  'had',\n  'earlier',\n  'given',\n  'jail',\n  'sentence',\n  'manapally',\n  'corruption',\n  'case',\n  'induchoodan',\n  'who',\n  'had',\n  'achieved',\n  'top',\n  'rank',\n  'indian',\n  'civil',\n  'service',\n  'loses',\n  'the',\n  'post',\n  'and',\n  'manapally',\n  'sudheeran',\n  'saikumar',\n  'enters',\n  'the',\n  'list',\n  'civil',\n  'service',\n  'trainees',\n  'learn',\n  'flashback',\n  'that',\n  'was',\n  'ramakrishnan',\n  'the',\n  'son',\n  'moopil',\n  'nair',\n  'who',\n  'had',\n  'actually',\n  'killed',\n  'his',\n  'classmate',\n  'six',\n  'years',\n  'passes',\n  'and',\n  'manapally',\n  'madhavan',\n  'nambiar',\n  'now',\n  'former',\n  'state',\n  'minister',\n  'dead',\n  'and',\n  'induchoodan',\n  'who',\n  'all',\n  'rage',\n  'the',\n  'gross',\n  'injustice',\n  'meted',\n  'out',\n  'him',\n  'thus',\n  'destroying',\n  'his',\n  'promising',\n  'life',\n  'released',\n  'from',\n  'prison',\n  'induchoodan',\n  'thwarts',\n  'manapally',\n  'pavithran',\n  'from',\n  'performing',\n  'the',\n  'funeral',\n  'rituals',\n  'nambiar',\n  'bharathapuzha',\n  'many',\n  'confrontations',\n  'between',\n  'induchoodan',\n  'and',\n  'manapallys',\n  'henchmen',\n  'follow',\n  'induchoodan',\n  'also',\n  'falls',\n  'love',\n  'with',\n  'anuradha',\n  'aishwarya',\n  'the',\n  'strongwilled',\n  'and',\n  'independentminded',\n  'daughter',\n  'mooppil',\n  'nair',\n  'justice',\n  'menon',\n  'and',\n  'his',\n  'wife',\n  'returns',\n  'back',\n  'kerala',\n  'stay',\n  'with',\n  'induchoodan',\n  'there',\n  'appearance',\n  'girl',\n  'named',\n  'indulekha',\n  'kanaka',\n  'who',\n  'claims',\n  'the',\n  'daughter',\n  'justice',\n  'menon',\n  'menon',\n  'flatly',\n  'refuses',\n  'the',\n  'claim',\n  'and',\n  'banishes',\n  'her',\n  'forced',\n  'circumstances',\n  'and',\n  'the',\n  'instigation',\n  'and',\n  'help',\n  'manapally',\n  'pavithran',\n  'she',\n  'reluctantly',\n  'come',\n  'out',\n  'open',\n  'with',\n  'the',\n  'claim',\n  'induchoodan',\n  'first',\n  'thrashes',\n  'the',\n  'protesters',\n  'but',\n  'upon',\n  'knowing',\n  'the',\n  'truth',\n  'from',\n  'chandrabhanu',\n  'his',\n  'uncle',\n  'accepts',\n  'the',\n  'task',\n  'her',\n  'protection',\n  'the',\n  'capacity',\n  'elder',\n  'brother',\n  'induchoodan',\n  'decides',\n  'marry',\n  'off',\n  'indulekha',\n  'his',\n  'good',\n  'friend',\n  'jayakrishnan',\n  'induchoodan',\n  'has',\n  'confrontation',\n  'with',\n  'his',\n  'father',\n  'and',\n  'prods',\n  'him',\n  'accept',\n  'mistake',\n  'and',\n  'acknowledge',\n  'the',\n  'parentage',\n  'indulekha',\n  'menon',\n  'ultimately',\n  'regrets',\n  'and',\n  'goes',\n  'confess',\n  'his',\n  'daughter',\n  'the',\n  'very',\n  'next',\n  'day',\n  'when',\n  'induchoodan',\n  'returns',\n  'poovally',\n  'indulekha',\n  'found',\n  'dead',\n  'and',\n  'menon',\n  'accused',\n  'murdering',\n  'her',\n  'the',\n  'whole',\n  'act',\n  'was',\n  'planned',\n  'pavithran',\n  'who',\n  'after',\n  'killing',\n  'indulekha',\n  'forces',\n  'raman',\n  'nair',\n  'testify',\n  'against',\n  'menon',\n  'court',\n  'court',\n  'nandagopal',\n  'maarar',\n  'close',\n  'friend',\n  'induchoodan',\n  'and',\n  'famous',\n  'supreme',\n  'court',\n  'lawyer',\n  'appears',\n  'for',\n  'menon',\n  'and',\n  'manages',\n  'lay',\n  'bare',\n  'the',\n  'murder',\n  'plot',\n  'and',\n  'hidden',\n  'intentions',\n  'other',\n  'party',\n  'menon',\n  'judged',\n  'innocent',\n  'the',\n  'crime',\n  'court',\n  'after',\n  'confronting',\n  'pavithran',\n  'and',\n  'promising',\n  'just',\n  'retribution',\n  'the',\n  'crime',\n  'killing',\n  'indulekha',\n  'induchoodan',\n  'returns',\n  'his',\n  'father',\n  'who',\n  'now',\n  'shows',\n  'remorse',\n  'for',\n  'all',\n  'his',\n  'actions',\n  'including',\n  'not',\n  'believing',\n  'the',\n  'innocence',\n  'his',\n  'son',\n  'but',\n  'while',\n  'speaking',\n  'induchoodan',\n  'menon',\n  'suffers',\n  'heart',\n  'stroke',\n  'and',\n  'passes',\n  'away',\n  'menons',\n  'funeral',\n  'manapally',\n  'pavithran',\n  'arrives',\n  'poke',\n  'fun',\n  'induchoodan',\n  'and',\n  'also',\n  'tries',\n  'carry',\n  'out',\n  'the',\n  'postponed',\n  'last',\n  'rituals',\n  'his',\n  'own',\n  'father',\n  'induchoodan',\n  'interrupts',\n  'the',\n  'ritual',\n  'and',\n  'avenges',\n  'for',\n  'the',\n  'death',\n  'his',\n  'sister',\n  'and',\n  'father',\n  'severely',\n  'injuring',\n  'pavithran',\n  'his',\n  'way',\n  'back',\n  'peaceful',\n  'life',\n  'induchoodan',\n  'accepts',\n  'anuradha',\n  'his',\n  'life',\n  'partner'],\n ['2231378',\n  'the',\n  'lemon',\n  'drop',\n  'kid',\n  'new',\n  'york',\n  'city',\n  'swindler',\n  'illegally',\n  'touting',\n  'horses',\n  'florida',\n  'racetrack',\n  'after',\n  'several',\n  'successful',\n  'hustles',\n  'the',\n  'kid',\n  'comes',\n  'across',\n  'beautiful',\n  'but',\n  'gullible',\n  'woman',\n  'intending',\n  'bet',\n  'lot',\n  'money',\n  'the',\n  'kid',\n  'convinces',\n  'her',\n  'switch',\n  'her',\n  'bet',\n  'employing',\n  'prefabricated',\n  'con',\n  'unfortunately',\n  'for',\n  'the',\n  'kid',\n  'the',\n  'woman',\n  'belongs',\n  'notorious',\n  'gangster',\n  'moose',\n  'moran',\n  'does',\n  'the',\n  'money',\n  'the',\n  'kids',\n  'choice',\n  'finishes',\n  'dead',\n  'last',\n  'and',\n  'furious',\n  'moran',\n  'demands',\n  'the',\n  'kid',\n  'provide',\n  'him',\n  'with',\n  '10000',\n  'christmas',\n  'eve',\n  'the',\n  'kid',\n  'wont',\n  'make',\n  'new',\n  'years',\n  'the',\n  'kid',\n  'decides',\n  'return',\n  'new',\n  'york',\n  'try',\n  'come',\n  'with',\n  'the',\n  'money',\n  'first',\n  'tries',\n  'his',\n  'onagain',\n  'offagain',\n  'girlfriend',\n  'brainy',\n  'baxter',\n  'however',\n  'when',\n  'talk',\n  'longterm',\n  'commitment',\n  'arises',\n  'the',\n  'kid',\n  'quickly',\n  'makes',\n  'escape',\n  'next',\n  'visits',\n  'local',\n  'crime',\n  'boss',\n  'oxford',\n  'charley',\n  'with',\n  'whom',\n  'has',\n  'had',\n  'past',\n  'dealings',\n  'this',\n  'falls',\n  'through',\n  'charley',\n  'serious',\n  'tax',\n  'trouble',\n  'and',\n  'does',\n  'not',\n  'particularly',\n  'care',\n  'for',\n  'the',\n  'kid',\n  'anyway',\n  'leaves',\n  'charleys',\n  'establishment',\n  'and',\n  'about',\n  'give',\n  'hope',\n  'the',\n  'kid',\n  'notices',\n  'cornerside',\n  'santa',\n  'claus',\n  'and',\n  'his',\n  'kettle',\n  'thinking',\n  'quickly',\n  'the',\n  'kid',\n  'fashions',\n  'himself',\n  'santa',\n  'suit',\n  'and',\n  'begins',\n  'collecting',\n  'donations',\n  'this',\n  'fails',\n  'recognized',\n  'passing',\n  'policeman',\n  'who',\n  'remembers',\n  'his',\n  'previous',\n  'underhanded',\n  'activity',\n  'well',\n  'the',\n  'kid',\n  'lands',\n  'court',\n  'where',\n  'convicted',\n  'collecting',\n  'for',\n  'charity',\n  'without',\n  'license',\n  'and',\n  'sentenced',\n  'ten',\n  'days',\n  'jail',\n  'however',\n  'while',\n  'court',\n  'the',\n  'kid',\n  'learns',\n  'where',\n  'his',\n  'scheme',\n  'went',\n  'wrong',\n  'after',\n  'short',\n  'stay',\n  'brainy',\n  'arrives',\n  'bail',\n  'him',\n  'out',\n  'then',\n  'sets',\n  'about',\n  'restarting',\n  'his',\n  'santa',\n  'operation',\n  'this',\n  'time',\n  'with',\n  'legitimate',\n  'backing',\n  'this',\n  'end',\n  'needs',\n  'charity',\n  'represent',\n  'and',\n  'city',\n  'license',\n  'the',\n  'kid',\n  'receives',\n  'key',\n  'inspiration',\n  'when',\n  'remembers',\n  'that',\n  'nellie',\n  'thursday',\n  'kindly',\n  'neighborhood',\n  'resident',\n  'has',\n  'been',\n  'denied',\n  'entry',\n  'retirement',\n  'home',\n  'because',\n  'her',\n  'jailed',\n  'husbands',\n  'criminal',\n  'past',\n  'safecracker',\n  'organizing',\n  'other',\n  'smalltime',\n  'new',\n  'york',\n  'swindlers',\n  'and',\n  'brainy',\n  'who',\n  'both',\n  'surprised',\n  'and',\n  'charmed',\n  'the',\n  'kids',\n  'apparent',\n  'goodwill',\n  'the',\n  'kid',\n  'converts',\n  'abandoned',\n  'casino',\n  'into',\n  'the',\n  'nellie',\n  'thursday',\n  'home',\n  'for',\n  'old',\n  'dolls',\n  'small',\n  'group',\n  'elderly',\n  'women',\n  'and',\n  'makeshift',\n  'amenities',\n  'complete',\n  'the',\n  'project',\n  'the',\n  'kid',\n  'able',\n  'receive',\n  'the',\n  'allimportant',\n  'city',\n  'license',\n  'now',\n  'free',\n  'collect',\n  'the',\n  'kid',\n  'and',\n  'his',\n  'compatriots',\n  'dress',\n  'santa',\n  'claus',\n  'and',\n  'position',\n  'themselves',\n  'throughout',\n  'manhattan',\n  'the',\n  'others',\n  'are',\n  'unaware',\n  'that',\n  'the',\n  'kid',\n  'plans',\n  'keep',\n  'the',\n  'money',\n  'for',\n  'himself',\n  'pay',\n  'off',\n  'moran',\n  'the',\n  'scheme',\n  'huge',\n  'success',\n  'netting',\n  '2000',\n  'only',\n  'few',\n  'days',\n  'overjoyed',\n  'brainy',\n  'decides',\n  'leave',\n  'her',\n  'job',\n  'dancer',\n  'and',\n  'look',\n  'after',\n  'the',\n  'home',\n  'fulltime',\n  'until',\n  'after',\n  'christmas',\n  'coincidentally',\n  'her',\n  'employer',\n  'none',\n  'other',\n  'than',\n  'oxford',\n  'charley',\n  'whom',\n  'brainy',\n  'cheerfully',\n  'informs',\n  'the',\n  'effort',\n  'seeing',\n  'potential',\n  'gold',\n  'mine',\n  'charley',\n  'decides',\n  'muscle',\n  'the',\n  'operation',\n  'reasoning',\n  'that',\n  'the',\n  'nellie',\n  'thursday',\n  'home',\n  'wherever',\n  'nellie',\n  'thursday',\n  'charley',\n  'and',\n  'his',\n  'crew',\n  'kidnap',\n  'the',\n  'homes',\n  'inhabitants',\n  'and',\n  'move',\n  'them',\n  'charleys',\n  'mansion',\n  'nyack',\n  'the',\n  'kid',\n  'learns',\n  'this',\n  'when',\n  'returns',\n  'the',\n  'home',\n  'after',\n  'late',\n  'night',\n  'find',\n  'the',\n  'home',\n  'deserted',\n  'and',\n  'money',\n  'gone',\n  'clued',\n  'oversized',\n  'oxford',\n  'footprints',\n  'the',\n  'snow',\n  'the',\n  'kid',\n  'and',\n  'his',\n  'friends',\n  'pay',\n  'charley',\n  'visit',\n  'here',\n  'charley',\n  'reveals',\n  'the',\n  'true',\n  'nature',\n  'the',\n  'kids',\n  'scheme',\n  'through',\n  'phone',\n  'conversation',\n  'with',\n  'moose',\n  'moran',\n  'the',\n  'kids',\n  'accomplices',\n  'are',\n  'angry',\n  'and',\n  'move',\n  'confront',\n  'him',\n  'but',\n  'the',\n  'kid',\n  'manages',\n  'slip',\n  'away',\n  'however',\n  'brainy',\n  'tracks',\n  'him',\n  'down',\n  'outside',\n  'and',\n  'voices',\n  'her',\n  'disgust',\n  'his',\n  'actions',\n  'after',\n  'few',\n  'days',\n  'stewing',\n  'selfpity',\n  'the',\n  'kid',\n  'surprised',\n  'meet',\n  'nellie',\n  'who',\n  'has',\n  'escaped',\n  'charleys',\n  'compound',\n  'decides',\n  'recover',\n  'the',\n  'money',\n  'sneaking',\n  'into',\n  'charleys',\n  'home',\n  'the',\n  'guise',\n  'elderly',\n  'woman',\n  'finds',\n  'that',\n  'charley',\n  'and',\n  'his',\n  'crew',\n  'are',\n  'again',\n  'moving',\n  'the',\n  'women',\n  'this',\n  'time',\n  'more',\n  'secure',\n  'location',\n  'using',\n  'the',\n  'heightened',\n  'activity',\n  'his',\n  'advantage',\n  'the',\n  'kid',\n  'enters',\n  'charleys',\n  'office',\n  'and',\n  'confronts',\n  'him',\n  'after',\n  'brief',\n  'struggle',\n  'the',\n  'kid',\n  'overpowers',\n  'charley',\n  'and',\n  'makes',\n  'off',\n  'with',\n  'the',\n  'money',\n  'narrowly',\n  'avoiding',\n  'the',\n  'thugs',\n  'charley',\n  'has',\n  'sent',\n  'after',\n  'him',\n  'the',\n  'ensuing',\n  'chaos',\n  'allows',\n  'brainy',\n  'and',\n  'the',\n  'others',\n  'escape',\n  'later',\n  'that',\n  'night',\n  'the',\n  'kid',\n  'returns',\n  'the',\n  'original',\n  'nellie',\n  'thursday',\n  'home',\n  'meet',\n  'with',\n  'moose',\n  'moran',\n  'the',\n  'deal',\n  'appears',\n  'jeopardy',\n  'moran',\n  'arrives',\n  'with',\n  'charley',\n  'charley',\n  'demands',\n  'that',\n  'the',\n  'kid',\n  'reimburse',\n  'him',\n  'which',\n  'would',\n  'leave',\n  'too',\n  'little',\n  'for',\n  'moran',\n  'however',\n  'the',\n  'kid',\n  'turns',\n  'the',\n  'tables',\n  'hitting',\n  'switch',\n  'revealing',\n  'hidden',\n  'casino',\n  'tables',\n  'all',\n  'are',\n  'occupied',\n  'mainly',\n  'the',\n  'escaped',\n  'old',\n  'dolls',\n  'the',\n  'kid',\n  'and',\n  'his',\n  'stillloyal',\n  'friends',\n  'hold',\n  'off',\n  'the',\n  'gangsters',\n  'the',\n  'police',\n  'initiate',\n  'raid',\n  'moran',\n  'and',\n  'charley',\n  'are',\n  'arrested',\n  'while',\n  'the',\n  'judge',\n  'who',\n  'sentenced',\n  'the',\n  'kid',\n  'earlier',\n  'warns',\n  'that',\n  'will',\n  'keeping',\n  'eye',\n  'him',\n  'the',\n  'kid',\n  'assures',\n  'him',\n  'that',\n  'will',\n  'not',\n  'necessary',\n  'and',\n  'his',\n  'attention',\n  'will',\n  'lie',\n  'the',\n  'home',\n  'which',\n  'going',\n  'become',\n  'reality',\n  'the',\n  'nights',\n  'main',\n  'event',\n  'begins',\n  'nellies',\n  'husband',\n  'henry',\n  'free',\n  'parole',\n  'joyously',\n  'reunites',\n  'with',\n  'his',\n  'wife'],\n ['595909',\n  'seventhday',\n  'adventist',\n  'church',\n  'pastor',\n  'michael',\n  'chamberlain',\n  'his',\n  'wife',\n  'lindy',\n  'their',\n  'two',\n  'sons',\n  'and',\n  'their',\n  'nineweekold',\n  'daughter',\n  'azaria',\n  'are',\n  'camping',\n  'holiday',\n  'the',\n  'outback',\n  'with',\n  'the',\n  'baby',\n  'sleeping',\n  'their',\n  'tent',\n  'the',\n  'family',\n  'enjoying',\n  'barbecue',\n  'with',\n  'their',\n  'fellow',\n  'campers',\n  'when',\n  'cry',\n  'heard',\n  'lindy',\n  'returns',\n  'the',\n  'tent',\n  'check',\n  'azaria',\n  'and',\n  'certain',\n  'she',\n  'sees',\n  'dingo',\n  'with',\n  'something',\n  'its',\n  'mouth',\n  'running',\n  'off',\n  'she',\n  'approaches',\n  'when',\n  'she',\n  'discovers',\n  'the',\n  'infant',\n  'missing',\n  'everyone',\n  'joins',\n  'forces',\n  'search',\n  'for',\n  'her',\n  'without',\n  'success',\n  'assumed',\n  'what',\n  'lindy',\n  'saw',\n  'was',\n  'the',\n  'animal',\n  'carrying',\n  'off',\n  'the',\n  'child',\n  'and',\n  'subsequent',\n  'inquest',\n  'rules',\n  'her',\n  'account',\n  'events',\n  'true',\n  'the',\n  'tide',\n  'public',\n  'opinion',\n  'soon',\n  'turns',\n  'against',\n  'the',\n  'chamberlains',\n  'for',\n  'many',\n  'lindy',\n  'seems',\n  'too',\n  'stoic',\n  'too',\n  'coldhearted',\n  'and',\n  'too',\n  'accepting',\n  'the',\n  'disaster',\n  'that',\n  'has',\n  'befallen',\n  'her',\n  'gossip',\n  'about',\n  'her',\n  'begins',\n  'swell',\n  'and',\n  'soon',\n  'accepted',\n  'statements',\n  'fact',\n  'the',\n  'couples',\n  'beliefs',\n  'are',\n  'not',\n  'widely',\n  'practised',\n  'the',\n  'country',\n  'and',\n  'when',\n  'the',\n  'media',\n  'report',\n  'rumour',\n  'that',\n  'the',\n  'name',\n  'azaria',\n  'means',\n  'sacrifice',\n  'the',\n  'wilderness',\n  'the',\n  'public',\n  'quick',\n  'believe',\n  'they',\n  'decapitated',\n  'their',\n  'baby',\n  'with',\n  'pair',\n  'scissors',\n  'part',\n  'bizarre',\n  'religious',\n  'rite',\n  'lawenforcement',\n  'officials',\n  'find',\n  'new',\n  'witnesses',\n  'forensics',\n  'experts',\n  'and',\n  'lot',\n  'circumstantial',\n  'evidence—including',\n  'small',\n  'wooden',\n  'coffin',\n  'michael',\n  'uses',\n  'receptacle',\n  'for',\n  'his',\n  'parishioners',\n  'packs',\n  'unsmoked',\n  'cigarettes—and',\n  'reopen',\n  'the',\n  'investigation',\n  'and',\n  'eventually',\n  'lindy',\n  'charged',\n  'with',\n  'murder',\n  'seven',\n  'months',\n  'pregnant',\n  'she',\n  'ignores',\n  'her',\n  'attorneys',\n  'advice',\n  'play',\n  'the',\n  'jurys',\n  'sympathy',\n  'and',\n  'appears',\n  'emotionless',\n  'the',\n  'stand',\n  'convincing',\n  'onlookers',\n  'she',\n  'guilty',\n  'the',\n  'crime',\n  'which',\n  'she',\n  'accused',\n  'the',\n  'trial',\n  'progresses',\n  'michaels',\n  'faith',\n  'his',\n  'religion',\n  'and',\n  'his',\n  'belief',\n  'his',\n  'wife',\n  'disintegrate',\n  'and',\n  'stumbles',\n  'through',\n  'his',\n  'testimony',\n  'suggesting',\n  'concealing',\n  'the',\n  'truth',\n  'october',\n  '1982',\n  'lindy',\n  'found',\n  'guilty',\n  'and',\n  'sentenced',\n  'life',\n  'imprisonment',\n  'with',\n  'hard',\n  'labour',\n  'while',\n  'michael',\n  'found',\n  'guilty',\n  'accessory',\n  'and',\n  'given',\n  '18month',\n  'suspended',\n  'sentence',\n  'more',\n  'than',\n  'three',\n  'years',\n  'later',\n  'while',\n  'searching',\n  'for',\n  'the',\n  'body',\n  'english',\n  'tourist',\n  'who',\n  'fell',\n  'from',\n  'uluru',\n  'police',\n  'discover',\n  'small',\n  'item',\n  'clothing',\n  'that',\n  'identified',\n  'the',\n  'jacket',\n  'lindy',\n  'had',\n  'insisted',\n  'azaria',\n  'was',\n  'wearing',\n  'over',\n  'her',\n  'jumpsuit',\n  'which',\n  'had',\n  'been',\n  'recovered',\n  'early',\n  'the',\n  'investigation',\n  'she',\n  'immediately',\n  'released',\n  'from',\n  'prison',\n  'the',\n  'case',\n  'reopened',\n  'and',\n  'all',\n  'convictions',\n  'against',\n  'the',\n  'chamberlains',\n  'overturned'],\n ['5272176',\n  'the',\n  'president',\n  'his',\n  'way',\n  'give',\n  'speech',\n  'while',\n  'traveling',\n  'there',\n  'man',\n  'shows',\n  'with',\n  'camera',\n  'reporter',\n  'tries',\n  'ask',\n  'member',\n  'the',\n  'secret',\n  'service',\n  'question',\n  'when',\n  'the',\n  'president',\n  'enters',\n  'shot',\n  'the',\n  'man',\n  'with',\n  'the',\n  'camera',\n  'the',\n  'presidents',\n  'main',\n  'bodyguard',\n  'alex',\n  'thomas',\n  'grazed',\n  'the',\n  'bullet',\n  'that',\n  'hits',\n  'the',\n  'president',\n  'the',\n  'shooter',\n  'gunned',\n  'down',\n  'alex',\n  'and',\n  'other',\n  'secret',\n  'service',\n  'agents',\n  'the',\n  'president',\n  'dies',\n  'the',\n  'hospital',\n  'kate',\n  'crawford',\n  'investigative',\n  'journalist',\n  'starts',\n  'asking',\n  'questions',\n  'about',\n  'the',\n  'assassination',\n  'anyone',\n  'she',\n  'questions',\n  'killed',\n  'she',\n  'goes',\n  'alex',\n  'thomass',\n  'house',\n  'tell',\n  'him',\n  'what',\n  'happening',\n  'they',\n  'head',\n  'his',\n  'boat',\n  'thomas',\n  'sees',\n  'some',\n  'men',\n  'hiding',\n  'the',\n  'bushes',\n  'throws',\n  'kate',\n  'into',\n  'the',\n  'water',\n  'and',\n  'dives',\n  'thomas',\n  'jumps',\n  'out',\n  'the',\n  'water',\n  'kill',\n  'two',\n  'the',\n  'hitmen',\n  'while',\n  'third',\n  'hitman',\n  'drives',\n  'off',\n  'inform',\n  'his',\n  'boss',\n  'what',\n  'happened',\n  'they',\n  'are',\n  'able',\n  'link',\n  'the',\n  'hitmen',\n  'man',\n  'called',\n  'jack',\n  'baldwin',\n  'agent',\n  'thomas',\n  'and',\n  'other',\n  'secret',\n  'service',\n  'members',\n  'attack',\n  'the',\n  'location',\n  'jack',\n  'baldwin',\n  'baldwin',\n  'escapes',\n  'but',\n  'later',\n  'caught',\n  'thomas',\n  'thomas',\n  'and',\n  'crawford',\n  'are',\n  'suspicious',\n  'vaughan',\n  'stevens',\n  'agent',\n  'thomass',\n  'boss',\n  'who',\n  'had',\n  'previous',\n  'links',\n  'baldwin',\n  'while',\n  'reviewing',\n  'film',\n  'the',\n  'assassination',\n  'his',\n  'house',\n  'thomas',\n  'discovers',\n  'that',\n  'stevens',\n  'handed',\n  'the',\n  'assassin',\n  'gun',\n  'during',\n  'the',\n  'presidents',\n  'entrance',\n  'thomas',\n  'leaves',\n  'find',\n  'stevens',\n  'while',\n  'kate',\n  'stays',\n  'his',\n  'house',\n  'when',\n  'thomas',\n  'arrives',\n  'stevens',\n  'home',\n  'finds',\n  'him',\n  'dead',\n  'before',\n  'entering',\n  'thomas',\n  'sees',\n  'car',\n  'leaving',\n  'the',\n  'house',\n  'then',\n  'receives',\n  'call',\n  'that',\n  'baldwin',\n  'has',\n  'escaped',\n  'kate',\n  'attacked',\n  'baldwin',\n  'but',\n  'thomas',\n  'arrives',\n  'and',\n  'kills',\n  'baldwin',\n  'thomas',\n  'arrives',\n  'the',\n  'first',\n  'ladys',\n  'home',\n  'see',\n  'the',\n  'car',\n  'that',\n  'left',\n  'stevens',\n  'house',\n  'pulling',\n  'away',\n  'thomas',\n  'discovers',\n  'that',\n  'the',\n  'first',\n  'lady',\n  'wanted',\n  'her',\n  'husband',\n  'killed',\n  'due',\n  'the',\n  'fact',\n  'that',\n  'the',\n  'president',\n  'was',\n  'being',\n  'unfaithful',\n  'her',\n  'few',\n  'weeks',\n  'later',\n  'kate',\n  'and',\n  'thomas',\n  'have',\n  'dinner',\n  'thomas',\n  'says',\n  'that',\n  'still',\n  'doesnt',\n  'know',\n  'who',\n  'wanted',\n  'the',\n  'president',\n  'dead'],\n ['1952976',\n  'plot',\n  'the',\n  'film',\n  'opens',\n  '1974',\n  'young',\n  'girl',\n  'dahlia',\n  'stands',\n  'outside',\n  'after',\n  'school',\n  'the',\n  'rain',\n  'waiting',\n  'for',\n  'her',\n  'mother',\n  'flash',\n  'forward',\n  '2005',\n  'see',\n  'grownup',\n  'dahlia',\n  'the',\n  'midst',\n  'bitter',\n  'mediation',\n  'with',\n  'exhusband',\n  'kyle',\n  'over',\n  'custody',\n  'their',\n  'daughter',\n  'cecilia',\n  'kyle',\n  'wants',\n  'cecilia',\n  'live',\n  'closer',\n  'his',\n  'apartment',\n  'jersey',\n  'city',\n  'but',\n  'dahlia',\n  'wants',\n  'move',\n  'roosevelt',\n  'island',\n  'where',\n  'she',\n  'has',\n  'found',\n  'good',\n  'school',\n  'kyle',\n  'threatens',\n  'sue',\n  'for',\n  'full',\n  'custody',\n  'because',\n  'feels',\n  'the',\n  'distance',\n  'too',\n  'great',\n  'also',\n  'claims',\n  'that',\n  'dahlia',\n  'mentally',\n  'unstable',\n  'dahlia',\n  'and',\n  'cecilia',\n  'see',\n  'apartment',\n  'complex',\n  'roosevelt',\n  'island',\n  'which',\n  'just',\n  'few',\n  'blocks',\n  'from',\n  'cecilias',\n  'new',\n  'school',\n  'the',\n  'superintendent',\n  'the',\n  'dilapidated',\n  'building',\n  'veeck',\n  'the',\n  'manager',\n  'murray',\n  'during',\n  'the',\n  'tour',\n  'cecilia',\n  'sneaks',\n  'the',\n  'roof',\n  'where',\n  'she',\n  'finds',\n  'hello',\n  'kitty',\n  'backpack',\n  'near',\n  'large',\n  'water',\n  'tank',\n  'they',\n  'leave',\n  'the',\n  'bag',\n  'with',\n  'veeck',\n  'and',\n  'murray',\n  'promises',\n  'cecilia',\n  'that',\n  'she',\n  'can',\n  'have',\n  'one',\n  'claims',\n  'cecilia',\n  'who',\n  'had',\n  'disliked',\n  'the',\n  'apartment',\n  'now',\n  'wants',\n  'desperately',\n  'live',\n  'there',\n  'dahlia',\n  'agrees',\n  'move',\n  'shortly',\n  'after',\n  'the',\n  'bedroom',\n  'ceiling',\n  'begins',\n  'leak',\n  'dark',\n  'water',\n  'the',\n  'source',\n  'the',\n  'apartment',\n  'above',\n  '10f',\n  'where',\n  'the',\n  'rimsky',\n  'family',\n  'lived',\n  'until',\n  'month',\n  'ago',\n  'dahlia',\n  'enters',\n  '10f',\n  'and',\n  'finds',\n  'flooded',\n  'with',\n  'dark',\n  'water',\n  'flowing',\n  'from',\n  'every',\n  'faucet',\n  'the',\n  'walls',\n  'and',\n  'toilet',\n  'she',\n  'finds',\n  'family',\n  'portrait',\n  'the',\n  'former',\n  'tenants—a',\n  'mother',\n  'father',\n  'and',\n  'girl',\n  'cecilias',\n  'age',\n  'dahlia',\n  'complains',\n  'both',\n  'veeck',\n  'and',\n  'murray',\n  'about',\n  'the',\n  'water',\n  'but',\n  'the',\n  'former',\n  'does',\n  'little',\n  'about',\n  'despite',\n  'the',\n  'insistence',\n  'the',\n  'latter',\n  'dahlia',\n  'soon',\n  'has',\n  'dreams',\n  'little',\n  'girl',\n  'who',\n  'appears',\n  'cecilia',\n  'returning',\n  'from',\n  'visit',\n  'her',\n  'fathers',\n  'home',\n  'but',\n  'the',\n  'girls',\n  'appearance',\n  'changes',\n  'every',\n  'time',\n  'dahlia',\n  'looks',\n  'away',\n  'that',\n  'she',\n  'looks',\n  'like',\n  'the',\n  'girl',\n  'the',\n  'portrait',\n  '10f',\n  'cecilia',\n  'has',\n  'started',\n  'school',\n  'but',\n  'according',\n  'her',\n  'new',\n  'teacher',\n  'she',\n  'isnt',\n  'fitting',\n  'and',\n  'spending',\n  'too',\n  'much',\n  'time',\n  'with',\n  'imaginary',\n  'friend',\n  'named',\n  'natasha',\n  'psychologist',\n  'recommended',\n  'but',\n  'dahlia',\n  'declines',\n  'and',\n  'tells',\n  'cecilia',\n  'ignore',\n  'natasha',\n  'although',\n  'veeck',\n  'had',\n  'said',\n  'was',\n  'claimed',\n  'dahlia',\n  'discovers',\n  'the',\n  'hello',\n  'kitty',\n  'backpack',\n  'the',\n  'laundry',\n  'rooms',\n  'garbage',\n  'cecilia',\n  'later',\n  'finds',\n  'the',\n  'elevator',\n  'the',\n  'name',\n  'the',\n  'backpack',\n  'reads',\n  'natasha',\n  'rimsky',\n  'the',\n  'ceiling',\n  'shoddily',\n  'patched',\n  'veeck',\n  'leaks',\n  'again',\n  'school',\n  'cecilia',\n  'appears',\n  'get',\n  'into',\n  'fight',\n  'with',\n  'natasha',\n  'who',\n  'appears',\n  'control',\n  'her',\n  'hand',\n  'while',\n  'painting',\n  'shes',\n  'taken',\n  'the',\n  'girls',\n  'bathroom',\n  'where',\n  'she',\n  'passes',\n  'out',\n  'after',\n  'dark',\n  'water',\n  'gushes',\n  'from',\n  'the',\n  'toilets',\n  'and',\n  'sinks',\n  'dahlia',\n  'who',\n  'meeting',\n  'with',\n  'her',\n  'lawyer',\n  'cant',\n  'reached',\n  'kyle',\n  'picks',\n  'her',\n  'and',\n  'takes',\n  'her',\n  'his',\n  'apartment',\n  'dahlia',\n  'breaks',\n  'down',\n  'when',\n  'she',\n  'cant',\n  'find',\n  'her',\n  'daughter',\n  'and',\n  'has',\n  'strange',\n  'dreams',\n  'these',\n  'lead',\n  'her',\n  'the',\n  'roof',\n  'and',\n  'the',\n  'ladder',\n  'the',\n  'water',\n  'tank',\n  'where',\n  'she',\n  'finds',\n  'natashas',\n  'body',\n  'when',\n  'police',\n  'arrive',\n  'they',\n  'discover',\n  'that',\n  'natashas',\n  'father',\n  'thought',\n  'she',\n  'was',\n  'with',\n  'her',\n  'mother',\n  'while',\n  'the',\n  'mother',\n  'thought',\n  'the',\n  'girl',\n  'was',\n  'with',\n  'her',\n  'father',\n  'the',\n  'girl',\n  'was',\n  'left',\n  'alone',\n  'the',\n  'abandoned',\n  'apartment',\n  'and',\n  'fell',\n  'into',\n  'the',\n  'water',\n  'tank',\n  'which',\n  'veeck',\n  'had',\n  'left',\n  'open',\n  'was',\n  'aware',\n  'her',\n  'body',\n  'which',\n  'was',\n  'why',\n  'refused',\n  'fix',\n  'the',\n  'water',\n  'problem',\n  'plaguing',\n  'the',\n  'complex',\n  'veeck',\n  'arrested',\n  'and',\n  'murray',\n  'questioned',\n  'dahlia',\n  'agrees',\n  'move',\n  'closer',\n  'kyle',\n  'shared',\n  'custody',\n  'will',\n  'easier',\n  'dahlia',\n  'packs',\n  'cecilia',\n  'taking',\n  'bath',\n  'girl',\n  'hooded',\n  'bathrobe',\n  'comes',\n  'out',\n  'the',\n  'bathroom',\n  'wanting',\n  'dahlia',\n  'read',\n  'her',\n  'when',\n  'she',\n  'hears',\n  'voices',\n  'the',\n  'bathroom',\n  'she',\n  'realizes',\n  'that',\n  'the',\n  'girl',\n  'natasha',\n  'natasha',\n  'begs',\n  'dahlia',\n  'not',\n  'leave',\n  'her',\n  'but',\n  'dahlia',\n  'rushes',\n  'into',\n  'the',\n  'bathroom',\n  'save',\n  'cecilia',\n  'natasha',\n  'then',\n  'locks',\n  'cecilia',\n  'the',\n  'shower',\n  'compartment',\n  'and',\n  'holds',\n  'her',\n  'underwater',\n  'dahlia',\n  'pleads',\n  'with',\n  'natasha',\n  'promising',\n  'her',\n  'mother',\n  'forever',\n  'natasha',\n  'lets',\n  'cecilia',\n  'and',\n  'floods',\n  'the',\n  'apartment',\n  'causing',\n  'dahlia',\n  'die',\n  'from',\n  'drowning',\n  'her',\n  'and',\n  'natashas',\n  'spirits',\n  'are',\n  'shown',\n  'walking',\n  'down',\n  'the',\n  'hallway',\n  'kyle',\n  'picks',\n  'cecilia',\n  'from',\n  'the',\n  'police',\n  'station',\n  'weeks',\n  'later',\n  'the',\n  'two',\n  'back',\n  'pick',\n  'the',\n  'rest',\n  'her',\n  'stuff',\n  'cecilia',\n  'has',\n  'flashback',\n  'her',\n  'and',\n  'her',\n  'mother',\n  'looking',\n  'pictures',\n  'together',\n  'and',\n  'the',\n  'elevator',\n  'her',\n  'mothers',\n  'ghost',\n  'braids',\n  'her',\n  'hair',\n  'and',\n  'comforts',\n  'her—telling',\n  'her',\n  'she',\n  'will',\n  'always',\n  'there',\n  'kyle',\n  'momentarily',\n  'horrified',\n  'with',\n  'malfunction',\n  'the',\n  'elevator',\n  'the',\n  'weird',\n  'behavior',\n  'his',\n  'daughter',\n  'and',\n  'perhaps',\n  'noticing',\n  'her',\n  'hair',\n  'had',\n  'been',\n  'braided',\n  'finally',\n  'takes',\n  'her',\n  'his',\n  'apartment',\n  'jersey',\n  'city'],\n ['24225279',\n  'the',\n  'story',\n  'begins',\n  'with',\n  'hannah',\n  'young',\n  'jewish',\n  'teen',\n  'she',\n  'completing',\n  'her',\n  'senior',\n  'year',\n  'high',\n  'school',\n  'her',\n  'small',\n  'neighborhood',\n  'brooklyn',\n  'falling',\n  'apart',\n  'and',\n  'sing',\n  'one',\n  'the',\n  'only',\n  'traditions',\n  'keeping',\n  'the',\n  'neighborhood',\n  'alive',\n  'newly',\n  'arrived',\n  'teacher',\n  'miss',\n  'lombardo',\n  'grew',\n  'the',\n  'neighborhood',\n  'but',\n  'returned',\n  'their',\n  'sing',\n  'leader',\n  'one',\n  'cold',\n  'christmas',\n  'night',\n  'miss',\n  'lombardo',\n  'leaving',\n  'neighborhood',\n  'party',\n  'when',\n  'young',\n  'man',\n  'hails',\n  'her',\n  'cab',\n  'then',\n  'attempts',\n  'mug',\n  'her',\n  'self',\n  'defense',\n  'she',\n  'bites',\n  'his',\n  'hand',\n  'release',\n  'his',\n  'grip',\n  'and',\n  'screams',\n  'pain',\n  'and',\n  'terror',\n  'quickly',\n  'making',\n  'exit',\n  'the',\n  'cab',\n  'driver',\n  'jokes',\n  'about',\n  'not',\n  'starting',\n  'the',\n  'meter',\n  'yet',\n  'the',\n  'first',\n  'day',\n  'school',\n  'miss',\n  'lombardo',\n  'runs',\n  'into',\n  'difficulty',\n  'when',\n  'her',\n  'students',\n  'are',\n  'uninterested',\n  'and',\n  'misbehaved',\n  'one',\n  'such',\n  'student',\n  'was',\n  'named',\n  'dominic',\n  'who',\n  'gets',\n  'scolded',\n  'for',\n  'bringing',\n  'stolen',\n  'watches',\n  'school',\n  'grounds',\n  'and',\n  'putting',\n  'his',\n  'feet',\n  'the',\n  'desk',\n  'the',\n  'day',\n  'sing',\n  'leader',\n  'elections',\n  'miss',\n  'lombardo',\n  'recognizes',\n  'dominic',\n  'her',\n  'mugger',\n  'the',\n  'bandage',\n  'his',\n  'hand',\n  'and',\n  'decides',\n  'blackmail',\n  'him',\n  'into',\n  'being',\n  'cosing',\n  'leader',\n  'the',\n  'senior',\n  'class',\n  'along',\n  'with',\n  'hannah',\n  'who',\n  'was',\n  'rightfully',\n  'elected',\n  'the',\n  'school',\n  'kids',\n  'work',\n  'hard',\n  'plan',\n  'their',\n  'sing',\n  'productions',\n  'hannah',\n  'and',\n  'dominic',\n  'clash',\n  'along',\n  'the',\n  'way',\n  'hannah',\n  'uses',\n  'traditional',\n  'sing',\n  'planning',\n  'strategies',\n  'while',\n  'dominic',\n  'wants',\n  'introduce',\n  'the',\n  'flavor',\n  'the',\n  'youth',\n  'the',\n  'neighborhood',\n  'order',\n  'put',\n  'dominic',\n  'and',\n  'hannah',\n  'the',\n  'same',\n  'page',\n  'miss',\n  'lombardo',\n  'suggests',\n  'that',\n  'hannah',\n  'accompany',\n  'dominic',\n  'local',\n  'club',\n  'first',\n  'the',\n  'two',\n  'are',\n  'equally',\n  'hesitant',\n  'but',\n  'hannah',\n  'agrees',\n  'the',\n  'terms',\n  'that',\n  'not',\n  'date',\n  'however',\n  'the',\n  'end',\n  'the',\n  'night',\n  'hannah',\n  'uses',\n  'dominic',\n  'make',\n  'her',\n  'boyfriend',\n  'mickey',\n  'jealous',\n  'and',\n  'due',\n  'this',\n  'hannah',\n  'and',\n  'dominic',\n  'start',\n  'seeing',\n  'each',\n  'other',\n  'different',\n  'light',\n  'dominic',\n  'accompanies',\n  'hannah',\n  'her',\n  'walk',\n  'home',\n  'and',\n  'the',\n  'two',\n  'share',\n  'romantic',\n  'kiss',\n  'once',\n  'the',\n  'two',\n  'are',\n  'finally',\n  'uniting',\n  'and',\n  'getting',\n  'along',\n  'the',\n  'dept',\n  'education',\n  'informs',\n  'the',\n  'school',\n  'that',\n  'will',\n  'close',\n  'its',\n  'doors',\n  'forever',\n  'the',\n  'end',\n  'this',\n  'semester',\n  'and',\n  'therefore',\n  'there',\n  'will',\n  'not',\n  'enough',\n  'resources',\n  'for',\n  'them',\n  'complete',\n  'this',\n  'years',\n  'sing',\n  'this',\n  'fuels',\n  'the',\n  'kids',\n  'work',\n  'even',\n  'harder',\n  'their',\n  'productions',\n  'and',\n  'the',\n  'neighborhood',\n  'comes',\n  'together',\n  'even',\n  'more',\n  'help',\n  'finance',\n  'the',\n  'show',\n  'despite',\n  'the',\n  'school',\n  'authorities',\n  'ban',\n  'ironically',\n  'just',\n  'things',\n  'are',\n  'starting',\n  'look',\n  'dominic',\n  'reluctantly',\n  'accompanies',\n  'his',\n  'brother',\n  'robbery',\n  'hannahs',\n  'mothers',\n  'diner',\n  'their',\n  'sole',\n  'source',\n  'income',\n  'which',\n  'already',\n  'was',\n  'risk',\n  'failure',\n  'due',\n  'the',\n  'schools',\n  'upcoming',\n  'closure',\n  'classmate',\n  'saw',\n  'dominic',\n  'standing',\n  'outside',\n  'the',\n  'diner',\n  'the',\n  'time',\n  'the',\n  'crime',\n  'and',\n  'informed',\n  'hannah',\n  'what',\n  'saw',\n  'devastated',\n  'hannah',\n  'confronts',\n  'dominic',\n  'and',\n  'promises',\n  'get',\n  'the',\n  'money',\n  'back',\n  'for',\n  'her',\n  'then',\n  'steals',\n  'the',\n  'money',\n  'back',\n  'from',\n  'his',\n  'brother',\n  'and',\n  'returns',\n  'the',\n  'diner',\n  'restoring',\n  'hannahs',\n  'faith',\n  'him',\n  'the',\n  'recent',\n  'events',\n  'had',\n  'discouraged',\n  'dominic',\n  'from',\n  'fulfilling',\n  'his',\n  'cosing',\n  'leader',\n  'duties',\n  'and',\n  'had',\n  'been',\n  'skipping',\n  'out',\n  'rehearsals',\n  'moment',\n  'great',\n  'need',\n  'the',\n  'seniors',\n  'main',\n  'performer',\n  'falls',\n  'unconscious',\n  'dominic',\n  'steps',\n  'save',\n  'the',\n  'show',\n  'sheds',\n  'his',\n  'badboy',\n  'demeanor',\n  'and',\n  'exceeds',\n  'all',\n  'expectations',\n  'the',\n  'underclassmen',\n  'and',\n  'seniors',\n  'perform',\n  'recordhigh',\n  'sold',\n  'out',\n  'audience',\n  'the',\n  'end',\n  'the',\n  'show',\n  'hannah',\n  'makes',\n  'moving',\n  'speech',\n  'motivating',\n  'the',\n  'community',\n  'rejoice',\n  'and',\n  'always',\n  'remember',\n  'that',\n  'despite',\n  'compromising',\n  'circumstances',\n  'they',\n  'completed',\n  'successful',\n  'sing',\n  'and',\n  'proved',\n  'their',\n  'communitys',\n  'worth'],\n ['2462689',\n  'infuriated',\n  'being',\n  'told',\n  'write',\n  'one',\n  'final',\n  'column',\n  'after',\n  'being',\n  'laid',\n  'off',\n  'from',\n  'her',\n  'newspaper',\n  'job',\n  'ann',\n  'mitchell',\n  'prints',\n  'letter',\n  'from',\n  'fictional',\n  'unemployed',\n  'john',\n  'doe',\n  'threatening',\n  'suicide',\n  'christmas',\n  'eve',\n  'protest',\n  'societys',\n  'ills',\n  'when',\n  'the',\n  'note',\n  'causes',\n  'sensation',\n  'and',\n  'the',\n  'papers',\n  'competition',\n  'suspects',\n  'fraud',\n  'and',\n  'starts',\n  'investigate',\n  'the',\n  'newspaper',\n  'editor',\n  'rehires',\n  'mitchell',\n  'who',\n  'comes',\n  'with',\n  'scheme',\n  'hiding',\n  'the',\n  'fictional',\n  'nature',\n  'john',\n  'doe',\n  'while',\n  'exploiting',\n  'the',\n  'sensation',\n  'caused',\n  'the',\n  'fake',\n  'letter',\n  'boost',\n  'the',\n  'newspapers',\n  'sales',\n  'for',\n  'which',\n  'she',\n  'demands',\n  'bonus',\n  'equal',\n  'months',\n  'pay',\n  'after',\n  'reviewing',\n  'number',\n  'derelicts',\n  'who',\n  'have',\n  'shown',\n  'the',\n  'paper',\n  'claiming',\n  'have',\n  'penned',\n  'the',\n  'original',\n  'suicide',\n  'letter',\n  'mitchell',\n  'and',\n  'editor',\n  'henry',\n  'connell',\n  'hire',\n  'john',\n  'willoughby',\n  'former',\n  'baseball',\n  'player',\n  'and',\n  'tramp',\n  'who',\n  'need',\n  'money',\n  'repair',\n  'his',\n  'injured',\n  'arm',\n  'play',\n  'john',\n  'doe',\n  'mitchell',\n  'now',\n  'starts',\n  'pen',\n  'article',\n  'series',\n  'does',\n  'name',\n  'elaborating',\n  'the',\n  'letters',\n  'ideas',\n  'societys',\n  'disregard',\n  'people',\n  'need',\n  'willoughby',\n  'gets',\n  'new',\n  'suit',\n  'clothes',\n  'and',\n  'plush',\n  'hotel',\n  'suite',\n  'with',\n  'his',\n  'tramp',\n  'friend',\n  'who',\n  'launches',\n  'into',\n  'extended',\n  'diatribe',\n  'against',\n  'the',\n  'heelots',\n  'lots',\n  'heels',\n  'who',\n  'incessantly',\n  'focus',\n  'getting',\n  'money',\n  'from',\n  'others',\n  'willoughby',\n  'hired',\n  'give',\n  'radio',\n  'speeches',\n  'guided',\n  'mitchell',\n  'who',\n  'promised',\n  '100',\n  'week',\n  'write',\n  'his',\n  'speeches',\n  'paid',\n  'the',\n  'newspapers',\n  'publisher',\n  'norton',\n  'edward',\n  'arnold',\n  'willoughby',\n  'turns',\n  'down',\n  '5000',\n  'bribe',\n  'admit',\n  'the',\n  'whole',\n  'thing',\n  'was',\n  'publicity',\n  'stunt',\n  'gives',\n  'mitchells',\n  'speech',\n  'and',\n  'dashes',\n  'off',\n  'the',\n  'countryside',\n  'with',\n  'the',\n  'colonel',\n  'they',\n  'ride',\n  'the',\n  'rails',\n  'playing',\n  'the',\n  'harmonica',\n  'and',\n  'ocarina',\n  'until',\n  'they',\n  'show',\n  'millsville',\n  'where',\n  'john',\n  'doe',\n  'recognized',\n  'diner',\n  'hes',\n  'brought',\n  'city',\n  'hall',\n  'where',\n  'hes',\n  'met',\n  'hanson',\n  'who',\n  'gives',\n  'fiveminute',\n  'monologue',\n  'about',\n  'how',\n  'was',\n  'inspired',\n  'start',\n  'local',\n  'john',\n  'doe',\n  'club',\n  'the',\n  'john',\n  'doe',\n  'philosophy',\n  'spreads',\n  'across',\n  'the',\n  'country',\n  'developing',\n  'into',\n  'broad',\n  'grassroots',\n  'movement',\n  'whose',\n  'simple',\n  'slogan',\n  'better',\n  'neighbor',\n  'far',\n  'from',\n  'being',\n  'altruistic',\n  'philanthropist',\n  'however',\n  'norton',\n  'plans',\n  'channel',\n  'the',\n  'support',\n  'for',\n  'doe',\n  'into',\n  'support',\n  'for',\n  'his',\n  'own',\n  'national',\n  'political',\n  'ambitions',\n  'culmination',\n  'this',\n  'plan',\n  'norton',\n  'has',\n  'instructed',\n  'mitchell',\n  'write',\n  'speech',\n  'for',\n  'willoughby',\n  'which',\n  'announces',\n  'the',\n  'foundation',\n  'new',\n  'political',\n  'party',\n  'and',\n  'endorses',\n  'norton',\n  'its',\n  'presidential',\n  'candidate',\n  'when',\n  'willoughby',\n  'who',\n  'has',\n  'come',\n  'believe',\n  'the',\n  'john',\n  'doe',\n  'philosophy',\n  'himself',\n  'realizes',\n  'that',\n  'being',\n  'used',\n  'tries',\n  'expose',\n  'the',\n  'plot',\n  'but',\n  'first',\n  'stymied',\n  'his',\n  'attempts',\n  'talk',\n  'his',\n  'own',\n  'mind',\n  'nationwide',\n  'radio',\n  'audience',\n  'the',\n  'rally',\n  'instead',\n  'reading',\n  'the',\n  'prepared',\n  'speech',\n  'and',\n  'then',\n  'exposed',\n  'fake',\n  'norton',\n  'who',\n  'claims',\n  'have',\n  'been',\n  'deceived',\n  'like',\n  'everyone',\n  'else',\n  'the',\n  'staff',\n  'the',\n  'newspaper',\n  'frustrated',\n  'his',\n  'failure',\n  'willoughby',\n  'intends',\n  'commit',\n  'suicide',\n  'jumping',\n  'from',\n  'the',\n  'roof',\n  'the',\n  'city',\n  'hall',\n  'christmas',\n  'eve',\n  'indicated',\n  'the',\n  'original',\n  'john',\n  'doe',\n  'letter',\n  'only',\n  'the',\n  'intervention',\n  'mitchell',\n  'and',\n  'followers',\n  'the',\n  'john',\n  'doe',\n  'clubs',\n  'persuades',\n  'him',\n  'renege',\n  'his',\n  'threat',\n  'kill',\n  'himself',\n  'this',\n  'point',\n  'the',\n  'movie',\n  'reference',\n  'jesus',\n  'christ',\n  'made',\n  'that',\n  'historical',\n  'john',\n  'doe',\n  'has',\n  'already',\n  'died',\n  'for',\n  'the',\n  'sake',\n  'humanity',\n  'the',\n  'film',\n  'ends',\n  'with',\n  'connell',\n  'turning',\n  'norton',\n  'and',\n  'saying',\n  'there',\n  'you',\n  'are',\n  'norton',\n  'the',\n  'people',\n  'try',\n  'and',\n  'lick',\n  'that'],\n ['20532852',\n  'line',\n  'people',\n  'drool',\n  'the',\n  'window',\n  'the',\n  'shop',\n  'market',\n  'butcher',\n  'buzz',\n  'buzzard',\n  'short',\n  'series',\n  'gags',\n  'ensues',\n  'about',\n  'how',\n  'buzz',\n  'dishonestly',\n  'jacks',\n  'all',\n  'his',\n  'prices',\n  'since',\n  'woody',\n  'broke',\n  'usual',\n  'sneaks',\n  'and',\n  'gets',\n  'thrown',\n  'out',\n  'buzz',\n  'the',\n  'way',\n  'out',\n  'woody',\n  'collides',\n  'with',\n  'bottle',\n  'invisible',\n  'ink',\n  'and',\n  'turns',\n  'partially',\n  'invisible',\n  'buzz',\n  'can',\n  'only',\n  'see',\n  'parts',\n  'woodys',\n  'body',\n  'and',\n  'somewhat',\n  'gruesome',\n  'scene',\n  'thinks',\n  'that',\n  'hes',\n  'been',\n  'dismembered',\n  'sweeps',\n  'him',\n  'into',\n  'trap',\n  'door',\n  'get',\n  'rid',\n  'him',\n  'when',\n  'woody',\n  'awakes',\n  'realizes',\n  'what',\n  'happening',\n  'and',\n  'douses',\n  'himself',\n  'with',\n  'the',\n  'rest',\n  'the',\n  'ink',\n  'order',\n  'pose',\n  'ghost']]"
     ]
    }
   ],
   "source": [
    "ps.take(10)"
   ]
  },
  {
   "cell_type": "code",
   "execution_count": 0,
   "metadata": {
    "application/vnd.databricks.v1+cell": {
     "cellMetadata": {
      "byteLimit": 2048000,
      "rowLimit": 10000
     },
     "inputWidgets": {},
     "nuid": "daa12e67-4a78-4e4e-a6ab-a07999d95866",
     "showTitle": false,
     "title": ""
    }
   },
   "outputs": [],
   "source": [
    "# Once we convert to lower case and remove punctuations, we remove the stop words\n",
    "ps = ps.map(lambda x: [word for word in x if word not in stop_words])"
   ]
  },
  {
   "cell_type": "code",
   "execution_count": 0,
   "metadata": {
    "application/vnd.databricks.v1+cell": {
     "cellMetadata": {
      "byteLimit": 2048000,
      "rowLimit": 10000
     },
     "inputWidgets": {},
     "nuid": "810e6b65-4bc4-43db-9260-56a30a79bad3",
     "showTitle": false,
     "title": ""
    }
   },
   "outputs": [],
   "source": [
    "# Mapping to get the word frequency of each word in a document\n",
    "\n",
    "def per_doc_term_count_init(l):\n",
    "    doc_id = l[0]\n",
    "    return [((doc_id, word), 1) for word in l[1:]]\n",
    "\n",
    "ps = ps.flatMap(per_doc_term_count_init)"
   ]
  },
  {
   "cell_type": "code",
   "execution_count": 0,
   "metadata": {
    "application/vnd.databricks.v1+cell": {
     "cellMetadata": {
      "byteLimit": 2048000,
      "rowLimit": 10000
     },
     "inputWidgets": {},
     "nuid": "fb32f300-3357-4d2c-8ba5-6360078199ca",
     "showTitle": false,
     "title": ""
    }
   },
   "outputs": [
    {
     "output_type": "stream",
     "name": "stdout",
     "output_type": "stream",
     "text": [
      "Out[13]: [(('23890098', 'shlykov'), 1),\n (('23890098', 'hardworking'), 1),\n (('23890098', 'taxi'), 1),\n (('23890098', 'driver'), 1),\n (('23890098', 'lyosha'), 1),\n (('23890098', 'saxophonist'), 1),\n (('23890098', 'develop'), 1),\n (('23890098', 'bizarre'), 1),\n (('23890098', 'lovehate'), 1),\n (('23890098', 'relationship'), 1)]"
     ]
    }
   ],
   "source": [
    "ps.take(10)"
   ]
  },
  {
   "cell_type": "code",
   "execution_count": 0,
   "metadata": {
    "application/vnd.databricks.v1+cell": {
     "cellMetadata": {
      "byteLimit": 2048000,
      "rowLimit": 10000
     },
     "inputWidgets": {},
     "nuid": "dd2fb33d-33c8-4f4f-96e3-bbb6d511e46a",
     "showTitle": false,
     "title": ""
    }
   },
   "outputs": [],
   "source": [
    "per_doc_term_count = ps.reduceByKey(lambda x, y: x+y)"
   ]
  },
  {
   "cell_type": "code",
   "execution_count": 0,
   "metadata": {
    "application/vnd.databricks.v1+cell": {
     "cellMetadata": {
      "byteLimit": 2048000,
      "rowLimit": 10000
     },
     "inputWidgets": {},
     "nuid": "02a976be-ed79-42d3-9fda-4598586aaba5",
     "showTitle": false,
     "title": ""
    }
   },
   "outputs": [
    {
     "output_type": "stream",
     "name": "stdout",
     "output_type": "stream",
     "text": [
      "Out[15]: [(('23890098', 'hardworking'), 1),\n (('23890098', 'lyosha'), 1),\n (('23890098', 'saxophonist'), 1),\n (('23890098', 'develop'), 1),\n (('23890098', 'lovehate'), 1),\n (('23890098', 'relationship'), 1),\n (('23890098', 'realize'), 1),\n (('23890098', 'arent'), 1),\n (('31186339', 'nation'), 1),\n (('31186339', 'panem'), 1)]"
     ]
    }
   ],
   "source": [
    "per_doc_term_count.take(10)"
   ]
  },
  {
   "cell_type": "code",
   "execution_count": 0,
   "metadata": {
    "application/vnd.databricks.v1+cell": {
     "cellMetadata": {
      "byteLimit": 2048000,
      "rowLimit": 10000
     },
     "inputWidgets": {},
     "nuid": "6fef47af-207a-4d27-9d3c-358851addf7c",
     "showTitle": false,
     "title": ""
    }
   },
   "outputs": [
    {
     "output_type": "stream",
     "name": "stdout",
     "output_type": "stream",
     "text": [
      "Out[16]: [('31186339', 432),\n ('595909', 210),\n ('1952976', 406),\n ('24225279', 321),\n ('20532852', 60),\n ('15401493', 184),\n ('18188932', 55),\n ('2940516', 35),\n ('24448645', 43),\n ('15072401', 60)]"
     ]
    }
   ],
   "source": [
    "# get total count of all the terms in a document\n",
    "\n",
    "def per_doc_all_terms_init(x):\n",
    "    (doc_id, term), cnt = x\n",
    "    return (doc_id, cnt)\n",
    "\n",
    "per_doc_all_terms_count = ps.map(per_doc_all_terms_init).reduceByKey(lambda x, y: x+y)\n",
    "per_doc_all_terms_count.take(10)"
   ]
  },
  {
   "cell_type": "code",
   "execution_count": 0,
   "metadata": {
    "application/vnd.databricks.v1+cell": {
     "cellMetadata": {
      "byteLimit": 2048000,
      "rowLimit": 10000
     },
     "inputWidgets": {},
     "nuid": "e487abdf-c851-4b79-89eb-51f980e6f310",
     "showTitle": false,
     "title": ""
    }
   },
   "outputs": [
    {
     "output_type": "stream",
     "name": "stdout",
     "output_type": "stream",
     "text": [
      "Out[17]: [('23890098', ('hardworking', 1)),\n ('23890098', ('lyosha', 1)),\n ('23890098', ('saxophonist', 1)),\n ('23890098', ('develop', 1)),\n ('23890098', ('lovehate', 1)),\n ('23890098', ('relationship', 1)),\n ('23890098', ('realize', 1)),\n ('23890098', ('arent', 1)),\n ('31186339', ('nation', 1)),\n ('31186339', ('panem', 1))]"
     ]
    }
   ],
   "source": [
    "def change_kv_structure(x):\n",
    "    (doc_id, term), count = x\n",
    "    return doc_id, (term, count)\n",
    "\n",
    "per_doc_term_count_doc_key = per_doc_term_count.map(change_kv_structure)\n",
    "per_doc_term_count_doc_key.take(10)"
   ]
  },
  {
   "cell_type": "markdown",
   "metadata": {
    "application/vnd.databricks.v1+cell": {
     "cellMetadata": {
      "byteLimit": 2048000,
      "rowLimit": 10000
     },
     "inputWidgets": {},
     "nuid": "252257af-18dc-4952-9acf-7d81b3518a2d",
     "showTitle": false,
     "title": ""
    }
   },
   "source": [
    "## Calculate the term frequency"
   ]
  },
  {
   "cell_type": "code",
   "execution_count": 0,
   "metadata": {
    "application/vnd.databricks.v1+cell": {
     "cellMetadata": {
      "byteLimit": 2048000,
      "rowLimit": 10000
     },
     "inputWidgets": {},
     "nuid": "202dfda7-5652-4c0a-9043-aa35c0ea82ca",
     "showTitle": false,
     "title": ""
    }
   },
   "outputs": [
    {
     "output_type": "stream",
     "name": "stdout",
     "output_type": "stream",
     "text": [
      "Out[18]: [('5720418', (('group', 1), 188)),\n ('5720418', (('led', 2), 188)),\n ('5720418', (('ward', 2), 188)),\n ('5720418', (('frank', 1), 188)),\n ('5720418', (('hatch', 1), 188))]"
     ]
    }
   ],
   "source": [
    "tf = per_doc_term_count_doc_key.join(per_doc_all_terms_count)\n",
    "\n",
    "tf.take(5)"
   ]
  },
  {
   "cell_type": "markdown",
   "metadata": {
    "application/vnd.databricks.v1+cell": {
     "cellMetadata": {
      "byteLimit": 2048000,
      "rowLimit": 10000
     },
     "inputWidgets": {},
     "nuid": "671c659c-6335-4fe0-a760-4e4a1a65cfee",
     "showTitle": false,
     "title": ""
    }
   },
   "source": [
    "## Get the names of the movies"
   ]
  },
  {
   "cell_type": "code",
   "execution_count": 0,
   "metadata": {
    "application/vnd.databricks.v1+cell": {
     "cellMetadata": {
      "byteLimit": 2048000,
      "rowLimit": 10000
     },
     "inputWidgets": {},
     "nuid": "eac7bcde-b166-453e-a084-65f74a704fac",
     "showTitle": false,
     "title": ""
    }
   },
   "outputs": [
    {
     "output_type": "stream",
     "name": "stdout",
     "output_type": "stream",
     "text": [
      "Out[19]: [('975900', 'Ghosts of Mars'),\n ('3196793', 'Getting Away with Murder: The JonBenét Ramsey Mystery'),\n ('28463795', 'Brun bitter'),\n ('9363483', 'White Of The Eye'),\n ('261236', 'A Woman in Flames'),\n ('13696889', 'The Gangsters'),\n ('18998739', \"The Sorcerer's Apprentice\"),\n ('10408933', \"Alexander's Ragtime Band\"),\n ('9997961', 'Contigo y aquí'),\n ('2345652', 'City of the Dead')]"
     ]
    }
   ],
   "source": [
    "# mmd = movie meta data\n",
    "mmd = sc.textFile(movies_metadata_location).map(lambda x: x.split('\\t'))\n",
    "\n",
    "# Get the movie/document id and the movie name which are the indices below\n",
    "mmd = mmd.map(lambda x: (x[0], x[2]))\n",
    "\n",
    "mmd.take(10)"
   ]
  },
  {
   "cell_type": "code",
   "execution_count": 0,
   "metadata": {
    "application/vnd.databricks.v1+cell": {
     "cellMetadata": {
      "byteLimit": 2048000,
      "rowLimit": 10000
     },
     "inputWidgets": {},
     "nuid": "ac7ef5b0-31a6-4a32-a158-d242d666d4d3",
     "showTitle": false,
     "title": ""
    }
   },
   "outputs": [
    {
     "output_type": "stream",
     "name": "stdout",
     "output_type": "stream",
     "text": [
      "Out[20]: [('261236', ('A Woman in Flames', (('class', 1), 206))),\n ('261236', ('A Woman in Flames', (('housewife', 1), 206))),\n ('261236', ('A Woman in Flames', (('leaves', 1), 206))),\n ('261236', ('A Woman in Flames', (('arrogant', 1), 206))),\n ('261236', ('A Woman in Flames', (('husband', 1), 206))),\n ('261236', ('A Woman in Flames', (('idea', 1), 206))),\n ('261236', ('A Woman in Flames', (('becoming', 1), 206))),\n ('261236', ('A Woman in Flames', (('call', 1), 206))),\n ('261236', ('A Woman in Flames', (('named', 1), 206))),\n ('261236', ('A Woman in Flames', (('yvonne', 1), 206)))]"
     ]
    }
   ],
   "source": [
    "# Combine mmd and ps to replace movie/document id with the movie name.\n",
    "\n",
    "mmd_ps_join = mmd.join(tf)\n",
    "mmd_ps_join.take(10)"
   ]
  },
  {
   "cell_type": "code",
   "execution_count": 0,
   "metadata": {
    "application/vnd.databricks.v1+cell": {
     "cellMetadata": {
      "byteLimit": 2048000,
      "rowLimit": 10000
     },
     "inputWidgets": {},
     "nuid": "039e20cb-0a93-472a-8409-3c37ede477dd",
     "showTitle": false,
     "title": ""
    }
   },
   "outputs": [],
   "source": [
    "def transform_and_get_term_frequency(x):\n",
    "    doc_id, (doc_name, ((term, term_count_per_doc), doc_all_terms_count)) = x\n",
    "    return term, (doc_id, doc_name, term_count_per_doc/doc_all_terms_count)\n",
    "\n",
    "tf_joined = mmd_ps_join.map(transform_and_get_term_frequency)\n"
   ]
  },
  {
   "cell_type": "code",
   "execution_count": 0,
   "metadata": {
    "application/vnd.databricks.v1+cell": {
     "cellMetadata": {
      "byteLimit": 2048000,
      "rowLimit": 10000
     },
     "inputWidgets": {},
     "nuid": "31f501ab-8a43-47c7-8a54-a890aab12999",
     "showTitle": false,
     "title": ""
    }
   },
   "outputs": [
    {
     "output_type": "stream",
     "name": "stdout",
     "output_type": "stream",
     "text": [
      "Out[22]: [('class', ('261236', 'A Woman in Flames', 0.0048543689320388345)),\n ('housewife', ('261236', 'A Woman in Flames', 0.0048543689320388345)),\n ('leaves', ('261236', 'A Woman in Flames', 0.0048543689320388345)),\n ('arrogant', ('261236', 'A Woman in Flames', 0.0048543689320388345)),\n ('husband', ('261236', 'A Woman in Flames', 0.0048543689320388345)),\n ('idea', ('261236', 'A Woman in Flames', 0.0048543689320388345)),\n ('becoming', ('261236', 'A Woman in Flames', 0.0048543689320388345)),\n ('call', ('261236', 'A Woman in Flames', 0.0048543689320388345)),\n ('named', ('261236', 'A Woman in Flames', 0.0048543689320388345)),\n ('yvonne', ('261236', 'A Woman in Flames', 0.0048543689320388345))]"
     ]
    }
   ],
   "source": [
    "tf_joined.take(10)"
   ]
  },
  {
   "cell_type": "markdown",
   "metadata": {
    "application/vnd.databricks.v1+cell": {
     "cellMetadata": {
      "byteLimit": 2048000,
      "rowLimit": 10000
     },
     "inputWidgets": {},
     "nuid": "7002176b-d411-440c-beb2-63add5621746",
     "showTitle": false,
     "title": ""
    }
   },
   "source": [
    "## Calculate the IDF of each term"
   ]
  },
  {
   "cell_type": "code",
   "execution_count": 0,
   "metadata": {
    "application/vnd.databricks.v1+cell": {
     "cellMetadata": {
      "byteLimit": 2048000,
      "rowLimit": 10000
     },
     "inputWidgets": {},
     "nuid": "bc436260-214a-4e10-8c67-68582dfbb04e",
     "showTitle": false,
     "title": ""
    }
   },
   "outputs": [],
   "source": [
    "# Calculate the idf of each term\n",
    "# per_doc_term_count = (doc, term), term_count_in_doc\n",
    "\n",
    "def per_doc_term_bool_init(x):\n",
    "    (doc_id, term), count = x\n",
    "    return (doc_id, term), 1\n",
    "\n",
    "per_doc_term_bool = per_doc_term_count.map(per_doc_term_bool_init)\n"
   ]
  },
  {
   "cell_type": "code",
   "execution_count": 0,
   "metadata": {
    "application/vnd.databricks.v1+cell": {
     "cellMetadata": {
      "byteLimit": 2048000,
      "rowLimit": 10000
     },
     "inputWidgets": {},
     "nuid": "42814a1b-fa7a-4979-bcf2-010f0039b6ba",
     "showTitle": false,
     "title": ""
    }
   },
   "outputs": [
    {
     "output_type": "stream",
     "name": "stdout",
     "output_type": "stream",
     "text": [
      "Out[24]: [(('23890098', 'hardworking'), 1),\n (('23890098', 'lyosha'), 1),\n (('23890098', 'saxophonist'), 1),\n (('23890098', 'develop'), 1),\n (('23890098', 'lovehate'), 1),\n (('23890098', 'relationship'), 1),\n (('23890098', 'realize'), 1),\n (('23890098', 'arent'), 1),\n (('31186339', 'nation'), 1),\n (('31186339', 'panem'), 1)]"
     ]
    }
   ],
   "source": [
    "per_doc_term_bool.take(10)"
   ]
  },
  {
   "cell_type": "code",
   "execution_count": 0,
   "metadata": {
    "application/vnd.databricks.v1+cell": {
     "cellMetadata": {
      "byteLimit": 2048000,
      "rowLimit": 10000
     },
     "inputWidgets": {},
     "nuid": "5de12e8d-fcf5-414b-9ade-208cec06f524",
     "showTitle": false,
     "title": ""
    }
   },
   "outputs": [],
   "source": [
    "def transform_for_idf(x):\n",
    "    (doc_id, term), bool_cnt = x\n",
    "    return term, bool_cnt\n",
    "\n",
    "def calculate_idf(x):\n",
    "    term, term_docs_cnt = x\n",
    "    return term,  log((1+total_documents)/(1+term_docs_cnt))\n",
    "\n",
    "idf = per_doc_term_bool.map(transform_for_idf).reduceByKey(lambda x, y: x+y).map(calculate_idf)\n"
   ]
  },
  {
   "cell_type": "code",
   "execution_count": 0,
   "metadata": {
    "application/vnd.databricks.v1+cell": {
     "cellMetadata": {
      "byteLimit": 2048000,
      "rowLimit": 10000
     },
     "inputWidgets": {},
     "nuid": "d108388e-1fb7-4d4b-a486-3791e1f25126",
     "showTitle": false,
     "title": ""
    }
   },
   "outputs": [
    {
     "output_type": "stream",
     "name": "stdout",
     "output_type": "stream",
     "text": [
      "Out[26]: [('nation', 5.223362207022427),\n ('panem', 9.554095547308759),\n ('twelve', 5.334587842132651),\n ('poorer', 7.285412005990393),\n ('past', 2.609686950678585),\n ('rebellion', 5.437772078367882),\n ('must', 2.294744870131187),\n ('provide', 4.100199948942278),\n ('boy', 2.4921895884993623),\n ('selected', 5.15144962543214)]"
     ]
    }
   ],
   "source": [
    "idf.take(10)"
   ]
  },
  {
   "cell_type": "code",
   "execution_count": 0,
   "metadata": {
    "application/vnd.databricks.v1+cell": {
     "cellMetadata": {
      "byteLimit": 2048000,
      "rowLimit": 10000
     },
     "inputWidgets": {},
     "nuid": "4b75b48d-b9ba-4dd3-b6ec-a94019472400",
     "showTitle": false,
     "title": ""
    }
   },
   "outputs": [],
   "source": [
    "idf_dict = {k: v for k, v in idf.collect()}"
   ]
  },
  {
   "cell_type": "code",
   "execution_count": 0,
   "metadata": {
    "application/vnd.databricks.v1+cell": {
     "cellMetadata": {
      "byteLimit": 2048000,
      "rowLimit": 10000
     },
     "inputWidgets": {},
     "nuid": "50b569f7-0d92-4d1a-9c58-8f8e5df3c642",
     "showTitle": false,
     "title": ""
    }
   },
   "outputs": [],
   "source": [
    "# Joining idf and tf_joined to get the final tf-idf value\n",
    "\n",
    "def get_tf_idf_value(x):\n",
    "    term, ((doc_id, doc_name, tf), idf) = x\n",
    "    return term, (doc_id, doc_name, tf*idf)\n",
    "\n",
    "tf_idf = tf_joined.join(idf)\n",
    "\n",
    "tf_idf = tf_idf.map(get_tf_idf_value).cache()"
   ]
  },
  {
   "cell_type": "code",
   "execution_count": 0,
   "metadata": {
    "application/vnd.databricks.v1+cell": {
     "cellMetadata": {
      "byteLimit": 2048000,
      "rowLimit": 10000
     },
     "inputWidgets": {},
     "nuid": "81b6cc92-ed9d-4528-a4cc-73852a0ba8ff",
     "showTitle": false,
     "title": ""
    }
   },
   "outputs": [
    {
     "output_type": "stream",
     "name": "stdout",
     "output_type": "stream",
     "text": [
      "Out[29]: [('housewife', ('261236', 'A Woman in Flames', 0.02591991192686932)),\n ('housewife', ('14856464', 'A Question of Silence', 0.11607612732467566)),\n ('housewife', ('8499528', 'She-Devil', 0.011458158491276996)),\n ('housewife', ('9009812', 'Montenegro', 0.04045077164344758)),\n ('housewife',\n  ('23057797',\n   \"Adultery Diary: One More Time While I'm Still Wet\",\n   0.4449584880779234)),\n ('housewife', ('23266073', 'Secretariat', 0.012534041917687982)),\n ('housewife', ('24389074', 'The Beloved', 0.266975092846754)),\n ('housewife', ('217824', 'Diary of a Mad Housewife', 0.08090154328689517)),\n ('housewife', ('9590609', 'While She Was Out', 0.024605999340714658)),\n ('housewife', ('26099108', 'The Kids Are All Right', 0.01927617998893531))]"
     ]
    }
   ],
   "source": [
    "tf_idf.take(10)"
   ]
  },
  {
   "cell_type": "code",
   "execution_count": 0,
   "metadata": {
    "application/vnd.databricks.v1+cell": {
     "cellMetadata": {
      "byteLimit": 2048000,
      "rowLimit": 10000
     },
     "inputWidgets": {},
     "nuid": "989638f1-cb62-4145-8e87-0a32773283c4",
     "showTitle": false,
     "title": ""
    }
   },
   "outputs": [
    {
     "output_type": "stream",
     "name": "stdout",
     "output_type": "stream",
     "text": [
      "Out[30]: ['stealing', 'dragon', 'crime', 'movie with plot twists', 'happy ending movie']"
     ]
    }
   ],
   "source": [
    "# Return the movies with highest tf-idf score w.r.t the search terms\n",
    "\n",
    "st_rdd = sc.textFile(search_terms_location).cache()\n",
    "st_rdd.collect()"
   ]
  },
  {
   "cell_type": "code",
   "execution_count": 0,
   "metadata": {
    "application/vnd.databricks.v1+cell": {
     "cellMetadata": {
      "byteLimit": 2048000,
      "rowLimit": 10000
     },
     "inputWidgets": {},
     "nuid": "c5c403f3-677a-4656-80df-56dd7346deba",
     "showTitle": false,
     "title": ""
    }
   },
   "outputs": [],
   "source": [
    "# Helper functions\n",
    "\n",
    "def calculate_search_term_tf_idf(x):\n",
    "    # Multiply the term frequency w.r.t the search term string and \n",
    "    # use the idf value of the term calculated from the plot summaries.\n",
    "    term, tf_val = x\n",
    "    return term, tf_val * idf_dict.get(term, 0)\n",
    "\n",
    "def doc_mag_wrt_term_init(x):\n",
    "    term, (doc_id, movie_name, tf_idf_val) = x\n",
    "    return movie_name, tf_idf_val ** 2\n",
    "\n",
    "def st_mag_init(x):\n",
    "    term, tf_idf_val = x\n",
    "    return term, tf_idf_val ** 2\n",
    "\n",
    "def get_dot_product_init(x):\n",
    "    # ('movies', (('1850269', 'Kekexili: Mountain Patrol', 0.021384103580413562), 1.0852432567059882))\n",
    "    term, ((doc_id, movie_name, tf_idf_doc), tf_idf_term) = x\n",
    "    return movie_name, tf_idf_doc * tf_idf_term\n",
    "\n",
    "def get_cosine_sim_init(x):\n",
    "    movie_name, (dot_prod_val, doc_mag_term_val) = x\n",
    "    return movie_name, dot_prod_val/doc_mag_term_val"
   ]
  },
  {
   "cell_type": "markdown",
   "metadata": {
    "application/vnd.databricks.v1+cell": {
     "cellMetadata": {
      "byteLimit": 2048000,
      "rowLimit": 10000
     },
     "inputWidgets": {},
     "nuid": "3beb7731-ea65-4f55-8e09-5d1508cde63e",
     "showTitle": false,
     "title": ""
    }
   },
   "source": [
    "## Calculate the top recommendations based on the search terms"
   ]
  },
  {
   "cell_type": "code",
   "execution_count": 0,
   "metadata": {
    "application/vnd.databricks.v1+cell": {
     "cellMetadata": {
      "byteLimit": 2048000,
      "rowLimit": 10000
     },
     "inputWidgets": {},
     "nuid": "c893b1a3-5133-4541-95b1-080416ac636d",
     "showTitle": false,
     "title": ""
    }
   },
   "outputs": [
    {
     "output_type": "stream",
     "name": "stdout",
     "output_type": "stream",
     "text": [
      "Top movie recommendations for \"stealing\" are:\nUnion City\nFallen Arches\nYoung Guns of Texas\nThe Ace of Scotland Yard\nThe Brave Ones\nBetrayal\nThe Crouching Beast\nThe Marshal of Windy Hollow\nThe Curse of the Doll People\nGraveyard Disturbance\n---------------------------------------------------------\nTop movie recommendations for \"dragon\" are:\nLung Fung Restaurant\nThe Young Master\nOne Droopy Knight\nDragonquest\nEragon\nDragon Tiger Gate\nCleopatra Jones and the Casino of Gold\nProject A\nThe Mad Monk\nThe Birthday Dragon\n---------------------------------------------------------\nTop movie recommendations for \"crime\" are:\nThe Story of a Crime\nLittle Big Shot\nUne fille et des fusils\nDesperate Moment\nSexton Blake and the Hooded Terror\nThe Boys\nVengeance of Rannah\nSaloon Bar\nAdventure in Manhattan\nBrigade des mœurs\n---------------------------------------------------------\nTop movie recommendations for \"movie with plot twists\" are:\nSpy School\nParakh\nHaunted\nProdigal Sons\nBasha\nRosencrantz and Guildenstern Are Undead\nAditya 369\nCradle of Fear\nIt's a Trap!\nLekin\n---------------------------------------------------------\nTop movie recommendations for \"happy ending movie\" are:\nHansel and Gretel\nPossession\nThe Cabinet of Dr. Caligari\nI Hate Luv Storys\nManikiakkallu\nHere Comes Fortune\nTo Bina Mo Kahani Addha\nAtonement\nWhat's Opera, Doc?\nJoshua\n---------------------------------------------------------\n"
     ]
    }
   ],
   "source": [
    "for st in st_rdd.collect():\n",
    "    print(f'Top movie recommendations for \"{st}\" are:')\n",
    "    search_terms = st.split()\n",
    "    result = []\n",
    "    if len(search_terms) == 1:\n",
    "        result = tf_idf.filter(lambda x: x[0] == st).sortBy(lambda x: -x[1][2]).map(lambda x: x[1][1]).take(10)\n",
    "    else:\n",
    "        st_len = len(search_terms)\n",
    "        st_t_cnt = sc.parallelize(search_terms).map(lambda x: (x.lower(), 1)).reduceByKey(lambda x, y: x+y)\n",
    "        st_tf = st_t_cnt.map(lambda x: (x[0], x[1]/st_len))\n",
    "        # tf idf values of all terms in the search term\n",
    "        st_tf_idf = st_tf.map(calculate_search_term_tf_idf)\n",
    "        st_mag = sqrt(sum(st_tf_idf.map(st_mag_init).values().collect()))\n",
    "\n",
    "        # filter the terms in the search term from the original tf_idf rdd reducing it\n",
    "        red_tf_idf = tf_idf.filter(lambda x: x[0] in set(search_terms))\n",
    "        # Calculate the magnitude of each document w.r.t the terms in search term doc_mag = (movie_name, doc_mag)\n",
    "        doc_mag = red_tf_idf.map(doc_mag_wrt_term_init).reduceByKey(lambda x, y: x+y).map(lambda x: (x[0], sqrt(x[1])))\n",
    "        # k is the movie name and v is the magnitude of the document w.r.t the search term\n",
    "        doc_mag_dict = {k:v for k,v in doc_mag.collect()}\n",
    "        \n",
    "        # get the dot product of the movie's plot summary and the term. dot_prod = (movie_name, dot_product)\n",
    "        dot_prod = red_tf_idf.join(st_tf_idf).map(get_dot_product_init).reduceByKey(lambda x, y: x+y)\n",
    "\n",
    "        # multiply magnitude of the movie/document and the search term = (movie_name, doc_mag * st_mag)\n",
    "        doc_term_mag = doc_mag.map(lambda x: (x[0], x[1] * st_mag))\n",
    "        \n",
    "        # Join the dot_prod and doc_term_mag to divide them for fetching cosine similarity\n",
    "        result = dot_prod.join(doc_term_mag).map(get_cosine_sim_init).sortBy(lambda x: -x[1]).map(lambda x: x[0]).take(10)        \n",
    "\n",
    "    for movie_name in result:\n",
    "        print(movie_name)\n",
    "    print('---------------------------------------------------------')\n"
   ]
  }
 ],
 "metadata": {
  "application/vnd.databricks.v1+notebook": {
   "dashboards": [],
   "language": "python",
   "notebookMetadata": {
    "mostRecentlyExecutedCommandWithImplicitDF": {
     "commandId": 1159467579127142,
     "dataframes": [
      "_sqldf"
     ]
    },
    "pythonIndentUnit": 4
   },
   "notebookName": "Search Engine for Movie Plot Summaries (A1Q2)",
   "widgets": {}
  }
 },
 "nbformat": 4,
 "nbformat_minor": 0
}
